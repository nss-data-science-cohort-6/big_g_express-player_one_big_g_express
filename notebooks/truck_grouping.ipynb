{
 "cells": [
  {
   "cell_type": "code",
   "execution_count": 1,
   "metadata": {},
   "outputs": [],
   "source": [
    "import pandas as pd \n",
    "import numpy as np"
   ]
  },
  {
   "cell_type": "code",
   "execution_count": 3,
   "metadata": {},
   "outputs": [
    {
     "name": "stderr",
     "output_type": "stream",
     "text": [
      "/tmp/ipykernel_13274/31407276.py:1: DtypeWarning: Columns (15) have mixed types. Specify dtype option on import or set low_memory=False.\n",
      "  faults = pd.read_csv('../data/J1939Faults.csv')\n"
     ]
    }
   ],
   "source": [
    "faults = pd.read_csv('../data/J1939Faults.csv')\n",
    "onboard = pd.read_csv('../data/VehicleDiagnosticOnboardData.csv')"
   ]
  },
  {
   "cell_type": "code",
   "execution_count": 4,
   "metadata": {},
   "outputs": [
    {
     "data": {
      "text/plain": [
       "Id          int64\n",
       "Name       object\n",
       "Value      object\n",
       "FaultId     int64\n",
       "dtype: object"
      ]
     },
     "execution_count": 4,
     "metadata": {},
     "output_type": "execute_result"
    }
   ],
   "source": [
    "onboard.dtypes"
   ]
  },
  {
   "cell_type": "code",
   "execution_count": 5,
   "metadata": {},
   "outputs": [
    {
     "data": {
      "text/plain": [
       "RecordID                   int64\n",
       "ESS_Id                     int64\n",
       "EventTimeStamp            object\n",
       "eventDescription          object\n",
       "actionDescription        float64\n",
       "ecuSoftwareVersion        object\n",
       "ecuSerialNumber           object\n",
       "ecuModel                  object\n",
       "ecuMake                   object\n",
       "ecuSource                  int64\n",
       "spn                        int64\n",
       "fmi                        int64\n",
       "active                      bool\n",
       "activeTransitionCount      int64\n",
       "faultValue               float64\n",
       "EquipmentID               object\n",
       "MCTNumber                  int64\n",
       "Latitude                 float64\n",
       "Longitude                float64\n",
       "LocationTimeStamp         object\n",
       "dtype: object"
      ]
     },
     "execution_count": 5,
     "metadata": {},
     "output_type": "execute_result"
    }
   ],
   "source": [
    "faults.dtypes"
   ]
  },
  {
   "cell_type": "code",
   "execution_count": 6,
   "metadata": {},
   "outputs": [],
   "source": [
    "on_faults = pd.merge(faults, onboard, left_on = 'RecordID', right_on = 'FaultId').drop(columns = ['Id', 'FaultId'])"
   ]
  },
  {
   "cell_type": "code",
   "execution_count": 7,
   "metadata": {},
   "outputs": [],
   "source": [
    "\n",
    "\n",
    "# Get rid of the rows where the EquipmentID is more than 5 characters\n",
    "on_faults_filtered = on_faults.loc[on_faults['EquipmentID'].astype(str).str.len() <= 5]\n",
    "\n",
    "# Filter out faults where the light is going off\n",
    "on_faults_filtered = on_faults_filtered.loc[on_faults['active'] == True].reset_index(drop = True)\n",
    "\n"
   ]
  },
  {
   "cell_type": "code",
   "execution_count": 8,
   "metadata": {},
   "outputs": [
    {
     "data": {
      "text/plain": [
       "1841"
      ]
     },
     "execution_count": 8,
     "metadata": {},
     "output_type": "execute_result"
    }
   ],
   "source": [
    "on_faults_filtered['EquipmentID'].nunique()"
   ]
  },
  {
   "cell_type": "code",
   "execution_count": 9,
   "metadata": {},
   "outputs": [
    {
     "data": {
      "text/plain": [
       "RecordID                   int64\n",
       "ESS_Id                     int64\n",
       "EventTimeStamp            object\n",
       "eventDescription          object\n",
       "actionDescription        float64\n",
       "ecuSoftwareVersion        object\n",
       "ecuSerialNumber           object\n",
       "ecuModel                  object\n",
       "ecuMake                   object\n",
       "ecuSource                  int64\n",
       "spn                        int64\n",
       "fmi                        int64\n",
       "active                      bool\n",
       "activeTransitionCount      int64\n",
       "faultValue               float64\n",
       "EquipmentID               object\n",
       "MCTNumber                  int64\n",
       "Latitude                 float64\n",
       "Longitude                float64\n",
       "LocationTimeStamp         object\n",
       "Name                      object\n",
       "Value                     object\n",
       "dtype: object"
      ]
     },
     "execution_count": 9,
     "metadata": {},
     "output_type": "execute_result"
    }
   ],
   "source": [
    "on_faults_filtered.dtypes"
   ]
  },
  {
   "cell_type": "code",
   "execution_count": 10,
   "metadata": {},
   "outputs": [],
   "source": [
    "# Convert EventTimeStamp column to datetime object\n",
    "on_faults_filtered['EventTimeStamp'] = pd.to_datetime(on_faults_filtered['EventTimeStamp'])\n"
   ]
  },
  {
   "cell_type": "code",
   "execution_count": 11,
   "metadata": {},
   "outputs": [],
   "source": [
    "# Set EquipmentID and EventTimeStamp columns as index\n",
    "on_faults_filtered.set_index(['EquipmentID', 'EventTimeStamp', 'spn'], inplace=True)"
   ]
  },
  {
   "cell_type": "code",
   "execution_count": 12,
   "metadata": {},
   "outputs": [
    {
     "name": "stderr",
     "output_type": "stream",
     "text": [
      "/tmp/ipykernel_13274/856689262.py:2: FutureWarning: pivot_table dropped a column because it failed to aggregate. This behavior is deprecated and will raise in a future version of pandas. Select only the columns that can be aggregated.\n",
      "  full_derates_ts = on_faults_filtered.pivot_table(index=['EquipmentID', 'EventTimeStamp', 'spn'],\n"
     ]
    }
   ],
   "source": [
    "\n",
    "# Pivot the data into a time series format\n",
    "full_derates_ts = on_faults_filtered.pivot_table(index=['EquipmentID', 'EventTimeStamp', 'spn'],\n",
    "                                          values=['RecordID', 'ESS_Id', 'eventDescription', \n",
    "                                                 'actionDescription', 'ecuSoftwareVersion', 'ecuSerialNumber', 'ecuModel', \n",
    "                                                 'ecuMake', 'ecuSource', 'fmi', 'active', 'activeTransitionCount', \n",
    "                                                 'faultValue', 'MCTNumber', 'Latitude', 'Longitude', 'LocationTimeStamp'])\n",
    "\n",
    "# Reset the index\n",
    "full_derates_ts.reset_index(inplace=True)\n",
    "\n",
    "# Sort the data by EquipmentID and EventTimeStamp\n",
    "full_derates_ts.sort_values(by=['EquipmentID', 'EventTimeStamp'], inplace=True)\n",
    "\n",
    "# Group the data by EquipmentID\n",
    "faults_grouped = full_derates_ts.groupby('EquipmentID')\n",
    "\n",
    "# Create a dictionary of time series, with EquipmentID as the key and the time series as the value\n",
    "faults_ts_dict = {group: data.drop('EquipmentID', axis=1).set_index('EventTimeStamp').sort_index() \n",
    "               for group, data in faults_grouped}\n",
    "\n",
    "\n",
    "# Fill missing values with 0\n",
    "for ts in faults_ts_dict.values():\n",
    "    ts.fillna(0, inplace=True)\n",
    "\n"
   ]
  },
  {
   "attachments": {},
   "cell_type": "markdown",
   "metadata": {},
   "source": [
    "Now we have a dictionary where the keys are the specific Equipment Id's and the info inside of them pertians to the types of service codes that came up with a timestamp value. That way we can see if there is info preceding a 5246 \"breakdown\" code that could predict it coming ahead of time. "
   ]
  },
  {
   "attachments": {},
   "cell_type": "markdown",
   "metadata": {},
   "source": [
    "Lets look at one of the trucks with the most data inculuded in its dictionary entry"
   ]
  },
  {
   "cell_type": "code",
   "execution_count": 14,
   "metadata": {},
   "outputs": [],
   "source": [
    "max_key = max(faults_ts_dict, key=lambda x: faults_ts_dict[x].shape[0])\n"
   ]
  },
  {
   "cell_type": "code",
   "execution_count": 15,
   "metadata": {},
   "outputs": [],
   "source": [
    "max_ts = faults_ts_dict.get(max_key)"
   ]
  },
  {
   "cell_type": "code",
   "execution_count": 16,
   "metadata": {},
   "outputs": [
    {
     "name": "stdout",
     "output_type": "stream",
     "text": [
      "                      spn      ESS_Id   Latitude  Longitude  MCTNumber  \\\n",
      "EventTimeStamp                                                           \n",
      "2015-04-29 09:50:25   111   2151299.0  32.456111 -91.757824  105436925   \n",
      "2015-04-29 18:44:14   111   2164374.0  33.321111 -87.046759  105436925   \n",
      "2015-04-30 04:43:51   111   2168215.0  35.136990 -84.896481  105436925   \n",
      "2015-04-30 09:25:52   111   2173858.0  35.136157 -84.898425  105436925   \n",
      "2015-05-03 04:37:47   111   2219673.0  34.662453 -86.752824  105436925   \n",
      "...                   ...         ...        ...        ...        ...   \n",
      "2018-09-28 08:10:18   111  63178019.0  36.066342 -86.434305  105439799   \n",
      "2018-11-28 07:26:59  3216  69584128.0  37.393009 -86.783287  105439799   \n",
      "2018-11-29 15:24:33   639  69800718.0  39.699351 -77.733611  105439799   \n",
      "2018-12-03 06:27:42   111  70093771.0  36.580277 -82.317314  105439799   \n",
      "2019-01-23 10:35:16   639  75095393.0  35.588287 -86.444027  105439799   \n",
      "\n",
      "                      RecordID  active  activeTransitionCount  ecuSource   fmi  \n",
      "EventTimeStamp                                                                  \n",
      "2015-04-29 09:50:25    37733.0     1.0                   39.0        0.0  17.0  \n",
      "2015-04-29 18:44:14    38330.0     1.0                   40.0        0.0  17.0  \n",
      "2015-04-30 04:43:51    38532.0     1.0                   41.0        0.0  17.0  \n",
      "2015-04-30 09:25:52    38888.0     1.0                   42.0        0.0  17.0  \n",
      "2015-05-03 04:37:47    41463.0     1.0                   43.0        0.0  17.0  \n",
      "...                        ...     ...                    ...        ...   ...  \n",
      "2018-09-28 08:10:18  1061548.0     1.0                    2.0        0.0  18.0  \n",
      "2018-11-28 07:26:59  1085924.5     1.0                    1.0        0.0   4.0  \n",
      "2018-11-29 15:24:33  1087313.0     1.0                  127.0       11.0   2.0  \n",
      "2018-12-03 06:27:42  1088481.0     1.0                    1.0        0.0  18.0  \n",
      "2019-01-23 10:35:16  1110751.0     1.0                  127.0       11.0   2.0  \n",
      "\n",
      "[10038 rows x 10 columns]\n"
     ]
    }
   ],
   "source": [
    "print(max_ts)"
   ]
  }
 ],
 "metadata": {
  "kernelspec": {
   "display_name": "base",
   "language": "python",
   "name": "python3"
  },
  "language_info": {
   "codemirror_mode": {
    "name": "ipython",
    "version": 3
   },
   "file_extension": ".py",
   "mimetype": "text/x-python",
   "name": "python",
   "nbconvert_exporter": "python",
   "pygments_lexer": "ipython3",
   "version": "3.10.9"
  },
  "orig_nbformat": 4
 },
 "nbformat": 4,
 "nbformat_minor": 2
}
