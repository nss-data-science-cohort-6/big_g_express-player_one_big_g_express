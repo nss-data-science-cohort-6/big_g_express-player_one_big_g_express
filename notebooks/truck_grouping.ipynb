{
 "cells": [
  {
   "cell_type": "code",
   "execution_count": 1,
   "metadata": {},
   "outputs": [],
   "source": [
    "import pandas as pd \n",
    "import numpy as np"
   ]
  },
  {
   "cell_type": "code",
   "execution_count": 2,
   "metadata": {},
   "outputs": [
    {
     "name": "stderr",
     "output_type": "stream",
     "text": [
      "/tmp/ipykernel_6181/31407276.py:1: DtypeWarning: Columns (15) have mixed types. Specify dtype option on import or set low_memory=False.\n",
      "  faults = pd.read_csv('../data/J1939Faults.csv')\n"
     ]
    }
   ],
   "source": [
    "faults = pd.read_csv('../data/J1939Faults.csv')\n",
    "onboard = pd.read_csv('../data/VehicleDiagnosticOnboardData.csv')"
   ]
  },
  {
   "cell_type": "code",
   "execution_count": 3,
   "metadata": {},
   "outputs": [
    {
     "data": {
      "text/plain": [
       "Id          int64\n",
       "Name       object\n",
       "Value      object\n",
       "FaultId     int64\n",
       "dtype: object"
      ]
     },
     "execution_count": 3,
     "metadata": {},
     "output_type": "execute_result"
    }
   ],
   "source": [
    "onboard.dtypes"
   ]
  },
  {
   "cell_type": "code",
   "execution_count": 4,
   "metadata": {},
   "outputs": [
    {
     "data": {
      "text/plain": [
       "RecordID                   int64\n",
       "ESS_Id                     int64\n",
       "EventTimeStamp            object\n",
       "eventDescription          object\n",
       "actionDescription        float64\n",
       "ecuSoftwareVersion        object\n",
       "ecuSerialNumber           object\n",
       "ecuModel                  object\n",
       "ecuMake                   object\n",
       "ecuSource                  int64\n",
       "spn                        int64\n",
       "fmi                        int64\n",
       "active                      bool\n",
       "activeTransitionCount      int64\n",
       "faultValue               float64\n",
       "EquipmentID               object\n",
       "MCTNumber                  int64\n",
       "Latitude                 float64\n",
       "Longitude                float64\n",
       "LocationTimeStamp         object\n",
       "dtype: object"
      ]
     },
     "execution_count": 4,
     "metadata": {},
     "output_type": "execute_result"
    }
   ],
   "source": [
    "faults.dtypes"
   ]
  },
  {
   "cell_type": "code",
   "execution_count": 5,
   "metadata": {},
   "outputs": [],
   "source": [
    "on_faults = pd.merge(faults, onboard, left_on = 'RecordID', right_on = 'FaultId').drop(columns = ['Id', 'FaultId'])"
   ]
  },
  {
   "cell_type": "code",
   "execution_count": 6,
   "metadata": {},
   "outputs": [
    {
     "ename": "",
     "evalue": "",
     "output_type": "error",
     "traceback": [
      "\u001b[1;31mCanceled future for execute_request message before replies were done"
     ]
    },
    {
     "ename": "",
     "evalue": "",
     "output_type": "error",
     "traceback": [
      "\u001b[1;31mThe Kernel crashed while executing code in the the current cell or a previous cell. Please review the code in the cell(s) to identify a possible cause of the failure. Click <a href='https://aka.ms/vscodeJupyterKernelCrash'>here</a> for more info. View Jupyter <a href='command:jupyter.viewOutput'>log</a> for further details."
     ]
    }
   ],
   "source": [
    "\n",
    "\n",
    "# Get rid of the rows where the EquipmentID is more than 5 characters\n",
    "on_faults_filtered = on_faults.loc[on_faults['EquipmentID'].astype(str).str.len() <= 5]\n",
    "\n",
    "# Filter out faults where the light is going off\n",
    "on_faults_filtered = on_faults_filtered.loc[on_faults['active'] == True].reset_index(drop = True)\n",
    "\n"
   ]
  },
  {
   "cell_type": "code",
   "execution_count": null,
   "metadata": {},
   "outputs": [],
   "source": [
    "on_faults_filtered['EquipmentID'].nunique()"
   ]
  },
  {
   "cell_type": "code",
   "execution_count": null,
   "metadata": {},
   "outputs": [],
   "source": [
    "on_faults_filtered.dtypes"
   ]
  },
  {
   "cell_type": "code",
   "execution_count": null,
   "metadata": {},
   "outputs": [],
   "source": [
    "# Convert EventTimeStamp column to datetime object\n",
    "on_faults_filtered['EventTimeStamp'] = pd.to_datetime(on_faults_filtered['EventTimeStamp'])\n"
   ]
  },
  {
   "cell_type": "code",
   "execution_count": null,
   "metadata": {},
   "outputs": [],
   "source": [
    "# Set EquipmentID and EventTimeStamp columns as index\n",
    "on_faults_filtered.set_index(['EquipmentID', 'EventTimeStamp', 'spn'], inplace=True)"
   ]
  },
  {
   "cell_type": "code",
   "execution_count": null,
   "metadata": {},
   "outputs": [],
   "source": [
    "\n",
    "# Pivot the data into a time series format\n",
    "full_derates_ts = on_faults_filtered.pivot_table(index=['EquipmentID', 'EventTimeStamp', 'spn'],\n",
    "                                          values=['RecordID', 'ESS_Id', 'eventDescription', \n",
    "                                                 'actionDescription', 'ecuSoftwareVersion', 'ecuSerialNumber', 'ecuModel', \n",
    "                                                 'ecuMake', 'ecuSource', 'fmi', 'active', 'activeTransitionCount', \n",
    "                                                 'faultValue', 'MCTNumber', 'Latitude', 'Longitude', 'LocationTimeStamp'])\n",
    "\n",
    "# Reset the index\n",
    "full_derates_ts.reset_index(inplace=True)\n",
    "\n",
    "# Sort the data by EquipmentID and EventTimeStamp\n",
    "full_derates_ts.sort_values(by=['EquipmentID', 'EventTimeStamp'], inplace=True)\n",
    "\n",
    "# Group the data by EquipmentID\n",
    "faults_grouped = full_derates_ts.groupby('EquipmentID')\n",
    "\n",
    "# Create a dictionary of time series, with EquipmentID as the key and the time series as the value\n",
    "faults_ts_dict = {group: data.drop('EquipmentID', axis=1).set_index('EventTimeStamp').sort_index() \n",
    "               for group, data in faults_grouped}\n",
    "\n",
    "\n",
    "# Fill missing values with 0\n",
    "for ts in faults_ts_dict.values():\n",
    "    ts.fillna(0, inplace=True)\n",
    "\n"
   ]
  },
  {
   "attachments": {},
   "cell_type": "markdown",
   "metadata": {},
   "source": [
    "Now we have a dictionary where the keys are the specific Equipment Id's and the info inside of them pertians to the types of service codes that came up with a timestamp value. That way we can see if there is info preceding a 5246 \"breakdown\" code that could predict it coming ahead of time. "
   ]
  },
  {
   "attachments": {},
   "cell_type": "markdown",
   "metadata": {},
   "source": [
    "Lets look at one of the trucks with the most data inculuded in its dictionary entry"
   ]
  },
  {
   "cell_type": "code",
   "execution_count": null,
   "metadata": {},
   "outputs": [],
   "source": [
    "max_key = max(faults_ts_dict, key=lambda x: faults_ts_dict[x].shape[0])\n"
   ]
  },
  {
   "cell_type": "code",
   "execution_count": null,
   "metadata": {},
   "outputs": [],
   "source": [
    "max_ts = faults_ts_dict.get(max_key)"
   ]
  },
  {
   "cell_type": "code",
   "execution_count": null,
   "metadata": {},
   "outputs": [],
   "source": [
    "max_ts"
   ]
  }
 ],
 "metadata": {
  "kernelspec": {
   "display_name": "base",
   "language": "python",
   "name": "python3"
  },
  "language_info": {
   "codemirror_mode": {
    "name": "ipython",
    "version": 3
   },
   "file_extension": ".py",
   "mimetype": "text/x-python",
   "name": "python",
   "nbconvert_exporter": "python",
   "pygments_lexer": "ipython3",
   "version": "3.10.9"
  },
  "orig_nbformat": 4
 },
 "nbformat": 4,
 "nbformat_minor": 2
}
