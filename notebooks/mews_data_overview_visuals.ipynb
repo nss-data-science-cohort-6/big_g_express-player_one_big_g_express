{
 "cells": [
  {
   "cell_type": "code",
   "execution_count": null,
   "id": "0a1879e8",
   "metadata": {},
   "outputs": [],
   "source": [
    "import pandas as pd\n",
    "import numpy as np\n",
    "import pickle\n",
    "\n",
    "import plotly.express as px"
   ]
  },
  {
   "cell_type": "code",
   "execution_count": null,
   "id": "c414b7b4",
   "metadata": {},
   "outputs": [],
   "source": [
    "final_faults = pd.read_pickle('../data/final_faults.pkl')\n",
    "on_faults = pd.read_pickle('../data/on_faults.pkl')"
   ]
  },
  {
   "cell_type": "code",
   "execution_count": null,
   "id": "96a847dd",
   "metadata": {},
   "outputs": [],
   "source": [
    "# Drop rows where fault light is being turned off\n",
    "final_faults = final_faults.loc[final_faults['active'] == True].reset_index(drop = True)\n",
    "\n",
    "on_faults = on_faults.loc[on_faults['active'] == True].reset_index(drop = True)"
   ]
  },
  {
   "cell_type": "code",
   "execution_count": null,
   "id": "9332abeb",
   "metadata": {},
   "outputs": [],
   "source": [
    "# Filter down to only include full derates\n",
    "full_derates = final_faults.loc[final_faults['spn'] == 5246].reset_index(drop = True)"
   ]
  },
  {
   "cell_type": "code",
   "execution_count": null,
   "id": "c152b77f",
   "metadata": {},
   "outputs": [],
   "source": [
    "final_faults.loc[final_faults['EquipmentID'].isin(full_derates['EquipmentID']), 'derate'] = 'Trucks with Derate'\n",
    "on_faults.loc[on_faults['EquipmentID'].isin(full_derates['EquipmentID']), 'derate'] = 'Trucks with Derate'"
   ]
  },
  {
   "cell_type": "code",
   "execution_count": null,
   "id": "62234e1b",
   "metadata": {},
   "outputs": [],
   "source": [
    "final_faults.loc[~final_faults['EquipmentID'].isin(full_derates['EquipmentID']), 'derate'] = 'Trucks with No Derate'\n",
    "on_faults.loc[~on_faults['EquipmentID'].isin(full_derates['EquipmentID']), 'derate'] = 'Trucks with No Derate'"
   ]
  },
  {
   "cell_type": "code",
   "execution_count": null,
   "id": "ee2589e6",
   "metadata": {
    "scrolled": true
   },
   "outputs": [],
   "source": [
    "final_faults.info()"
   ]
  },
  {
   "cell_type": "code",
   "execution_count": null,
   "id": "67cc4f2c",
   "metadata": {},
   "outputs": [],
   "source": [
    "full_derates.loc[~full_derates.duplicated(['EquipmentID', 'EventDate'], keep = 'first'), 'first?'] = 'First'\n",
    "full_derates.loc[full_derates.duplicated(['EquipmentID', 'EventDate'], keep = 'first'), 'first?'] = 'Subsequent'"
   ]
  },
  {
   "cell_type": "code",
   "execution_count": null,
   "id": "a39c9e45",
   "metadata": {},
   "outputs": [],
   "source": [
    "df1 = (\n",
    "    on_faults\n",
    "    .groupby('MonthYear')\n",
    "    .agg(total = ('EquipmentID', 'nunique'))\n",
    "    .reset_index()\n",
    ")\n",
    "\n",
    "df1['Category'] = 'Trucks'\n",
    "\n",
    "df2 = (\n",
    "    on_faults\n",
    "    .groupby('MonthYear')\n",
    "    .agg(total = ('EquipmentID', 'count'))\n",
    "    .reset_index()\n",
    ")\n",
    "\n",
    "df2['Category'] = 'Faults'\n",
    "\n",
    "totals = pd.concat([df1, df2])\n",
    "\n",
    "totals"
   ]
  },
  {
   "cell_type": "code",
   "execution_count": null,
   "id": "2ce6e16f",
   "metadata": {
    "scrolled": true
   },
   "outputs": [],
   "source": [
    "df = totals\n",
    "\n",
    "fig = px.line(df, \n",
    "              x='MonthYear', \n",
    "              y = 'total',\n",
    "              color = 'Category',\n",
    "              labels={\n",
    "                  'MonthYear' : 'Time Period',\n",
    "                  'total' : 'Total Number'\n",
    "              },\n",
    "              markers = True,\n",
    "              color_discrete_map={\n",
    "                  'Trucks' : '#ff9900',\n",
    "                  'Faults' : '#00e6ff'\n",
    "              },\n",
    "              template=\"plotly_white\"\n",
    "             )\n",
    "\n",
    "fig.update_layout(title_text=\"Total Faults and Total Trucks with Faults by Month\")\n",
    "\n",
    "fig.show()"
   ]
  },
  {
   "cell_type": "code",
   "execution_count": null,
   "id": "658db517",
   "metadata": {},
   "outputs": [],
   "source": [
    "#fig.write_html(\"../data/total_faults.html\")"
   ]
  },
  {
   "cell_type": "code",
   "execution_count": null,
   "id": "be5e5c1c",
   "metadata": {},
   "outputs": [],
   "source": [
    "td_df1 = (\n",
    "    on_faults\n",
    "    .loc[on_faults['spn'] == 5246]\n",
    "    .groupby('MonthYear')\n",
    "    .agg(total = ('EquipmentID', 'nunique'))\n",
    "    .reset_index()\n",
    ")\n",
    "\n",
    "td_df1['Category'] = 'Trucks'\n",
    "\n",
    "td_df2 = (\n",
    "    on_faults\n",
    "    .loc[on_faults['spn'] == 5246]\n",
    "    .groupby('MonthYear')\n",
    "    .agg(total = ('EquipmentID', 'count'))\n",
    "    .reset_index()\n",
    ")\n",
    "\n",
    "td_df2['Category'] = 'Derates'\n",
    "\n",
    "td_totals = pd.concat([td_df1, td_df2])\n",
    "\n",
    "td_totals"
   ]
  },
  {
   "cell_type": "code",
   "execution_count": null,
   "id": "cd5f37cf",
   "metadata": {},
   "outputs": [],
   "source": [
    "df = td_totals\n",
    "\n",
    "fig = px.line(df, \n",
    "             x='MonthYear', \n",
    "              y = 'total',\n",
    "              color = 'Category',\n",
    "              labels={\n",
    "                  'MonthYear' : 'Time Period',\n",
    "                  'total' : 'Total Number'\n",
    "              },\n",
    "              markers = True,\n",
    "              color_discrete_map={\n",
    "                  'Trucks' : '#ff9900',\n",
    "                  'Derates' : '#00ff99'\n",
    "              },\n",
    "              template=\"plotly_white\"\n",
    "             )\n",
    "\n",
    "fig.update_layout(title_text=\"Total Derates and Total Trucks with Derates by Month\")\n",
    "\n",
    "fig.show()"
   ]
  },
  {
   "cell_type": "code",
   "execution_count": null,
   "id": "0bcada94",
   "metadata": {},
   "outputs": [],
   "source": [
    "#fig.write_html(\"../data/total_derates.html\")"
   ]
  },
  {
   "cell_type": "code",
   "execution_count": null,
   "id": "0f35f6cc",
   "metadata": {},
   "outputs": [],
   "source": [
    "comparisons = (\n",
    "    on_faults\n",
    "    .groupby('derate').agg(\n",
    "        total_faults = ('RecordID', 'count'),\n",
    "        total_trucks = ('EquipmentID', 'nunique')\n",
    "                          )\n",
    "    .reset_index()\n",
    ")\n",
    "\n",
    "comparisons['faults_per_truck'] = comparisons['total_faults'] / comparisons['total_trucks']\n",
    "\n",
    "comparisons"
   ]
  },
  {
   "cell_type": "code",
   "execution_count": null,
   "id": "646bfedc",
   "metadata": {
    "scrolled": false
   },
   "outputs": [],
   "source": [
    "df = comparisons\n",
    "\n",
    "fig = px.bar(df, \n",
    "             x='derate', \n",
    "             y='faults_per_truck',\n",
    "             color ='derate',\n",
    "            labels={\n",
    "                'faults_per_truck' : 'Faults per Truck',\n",
    "                'derate' : 'Derate Status'\n",
    "              },\n",
    "              color_discrete_map={\n",
    "                  'Trucks with No Derate' : '#9900ff',\n",
    "                  'Trucks with Derate' : '#00ff99'\n",
    "              },\n",
    "              template=\"plotly_white\")\n",
    "\n",
    "\n",
    "fig.update_layout(title_text=\"Overall Faults per Truck by Derate Status\",\n",
    "                  xaxis={'visible': False, 'showticklabels': False}\n",
    "                 )\n",
    "\n",
    "\n",
    "\n",
    "\n",
    "fig.show()"
   ]
  },
  {
   "cell_type": "code",
   "execution_count": null,
   "id": "832674f8",
   "metadata": {},
   "outputs": [],
   "source": [
    "#fig.write_image(\"../data/faults_per_truck.jpeg\")"
   ]
  },
  {
   "cell_type": "code",
   "execution_count": null,
   "id": "14824dcf",
   "metadata": {
    "scrolled": true
   },
   "outputs": [],
   "source": [
    "firsts = (\n",
    "    full_derates\n",
    "    .groupby('first?').agg(\n",
    "        totals = ('RecordID', 'count')\n",
    "                          )\n",
    "    .reset_index()\n",
    ")\n",
    "\n",
    "firsts"
   ]
  },
  {
   "cell_type": "code",
   "execution_count": null,
   "id": "b3b5cde6",
   "metadata": {},
   "outputs": [],
   "source": [
    "df = firsts\n",
    "\n",
    "fig = px.bar(df, \n",
    "             x='first?', \n",
    "             y='totals',\n",
    "             color ='first?',\n",
    "            labels={\n",
    "                'totals' : 'Total Derates',\n",
    "                'first?' : 'Derate Sequence'\n",
    "              },\n",
    "              color_discrete_map={\n",
    "                  'First' : '#00ff59',\n",
    "                  'Subsequent' : '#00ffd9'\n",
    "              },\n",
    "              template=\"plotly_white\")\n",
    "\n",
    "\n",
    "fig.update_layout(title_text=\"Nearly 1/4 of All Derate Faults Occur In Sequence (Same Truck, Same Day)\",\n",
    "                  xaxis={'visible': False, 'showticklabels': False}\n",
    "                 )\n",
    "\n",
    "\n",
    "\n",
    "\n",
    "fig.show()"
   ]
  },
  {
   "cell_type": "code",
   "execution_count": null,
   "id": "dd4db254",
   "metadata": {},
   "outputs": [],
   "source": [
    "#fig.write_image(\"../data/derate_sequence.jpeg\")"
   ]
  },
  {
   "cell_type": "code",
   "execution_count": null,
   "id": "c3c7fc61",
   "metadata": {},
   "outputs": [],
   "source": [
    "# Is the difference in derates per truck something that is related to the individual truck, or when derates happen\n",
    "# do a lot of other faults also happen at the same time?"
   ]
  }
 ],
 "metadata": {
  "kernelspec": {
   "display_name": "Python 3 (ipykernel)",
   "language": "python",
   "name": "python3"
  },
  "language_info": {
   "codemirror_mode": {
    "name": "ipython",
    "version": 3
   },
   "file_extension": ".py",
   "mimetype": "text/x-python",
   "name": "python",
   "nbconvert_exporter": "python",
   "pygments_lexer": "ipython3",
   "version": "3.9.16"
  }
 },
 "nbformat": 4,
 "nbformat_minor": 5
}
