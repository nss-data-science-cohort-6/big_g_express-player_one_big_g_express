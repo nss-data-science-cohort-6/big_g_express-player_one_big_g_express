{
 "cells": [
  {
   "cell_type": "code",
   "execution_count": null,
   "id": "94457e61",
   "metadata": {},
   "outputs": [],
   "source": [
    "import pandas as pd\n",
    "import numpy as np\n",
    "import pickle\n",
    "\n",
    "import plotly.express as px"
   ]
  },
  {
   "cell_type": "code",
   "execution_count": null,
   "id": "90f3a989",
   "metadata": {},
   "outputs": [],
   "source": [
    "on_faults = pd.read_pickle('../data/on_faults.pkl')"
   ]
  },
  {
   "cell_type": "code",
   "execution_count": null,
   "id": "52c28657",
   "metadata": {},
   "outputs": [],
   "source": [
    "# Drop rows where fault light is being turned off\n",
    "on_faults = on_faults.loc[on_faults['active'] == True].reset_index(drop = True)"
   ]
  },
  {
   "cell_type": "code",
   "execution_count": null,
   "id": "0a2a870a",
   "metadata": {},
   "outputs": [],
   "source": [
    "# To help with amount of memory used, reduce integer columns to int16\n",
    "int_cols=['ecuSource', 'spn', 'fmi', 'activeTransitionCount']\n",
    "\n",
    "on_faults[int_cols] = on_faults[int_cols].astype('int16')"
   ]
  },
  {
   "cell_type": "code",
   "execution_count": null,
   "id": "864f8096",
   "metadata": {},
   "outputs": [],
   "source": [
    "# Filter down to only include full derates\n",
    "full_derates = on_faults.loc[on_faults['spn'] == 5246].reset_index(drop = True)"
   ]
  },
  {
   "cell_type": "code",
   "execution_count": null,
   "id": "53ea7c52",
   "metadata": {},
   "outputs": [],
   "source": [
    "#Create indicator column for trucks that did/did not experience at least one derate\n",
    "on_faults.loc[on_faults['EquipmentID'].isin(full_derates['EquipmentID']), 'derate'] = 'Derate'\n",
    "on_faults.loc[~on_faults['EquipmentID'].isin(full_derates['EquipmentID']), 'derate'] = 'No Derate'"
   ]
  },
  {
   "cell_type": "code",
   "execution_count": null,
   "id": "0df7fc03",
   "metadata": {},
   "outputs": [],
   "source": [
    "# Look at instances of faults that occurred in the same second for the same truck\n",
    "(\n",
    "    on_faults\n",
    "    .loc[on_faults.duplicated(subset = ['EquipmentID', 'EventTimeStamp'], keep = 'last')]\n",
    "    .reset_index(drop=True)\n",
    ")"
   ]
  },
  {
   "cell_type": "code",
   "execution_count": null,
   "id": "4f372106",
   "metadata": {},
   "outputs": [],
   "source": [
    "# Clean up entries in the ecuMake column\n",
    "on_faults['ecuMake'] = (\n",
    "    on_faults['ecuMake']\n",
    "    .str.replace('?MMNS', 'CMMNS', regex=False)\n",
    "    .str.replace('??MNS', 'CMMNS', regex=False)\n",
    "    .str.replace('????R', 'PACCR', regex=False)\n",
    "    .str.replace('?ACCR', 'PACCR', regex=False)\n",
    "    .str.replace('???CR', 'PACCR', regex=False)\n",
    "    .str.replace('?CAR', 'PCAR', regex=False)\n",
    "    .str.replace('?NDWS', 'BNDWS', regex=False)\n",
    "    .str.replace('?ATON', 'EATON', regex=False)\n",
    ")\n",
    "\n",
    "missing_cmmns = ['6X1u13D1500000000', '6X1u17D1500000000']\n",
    "\n",
    "on_faults.loc[(on_faults['ecuMake']=='????S')\n",
    "              &\n",
    "              (on_faults['ecuModel'].isin(missing_cmmns)), 'ecuMake'\n",
    "             ] = 'CMMNS'\n",
    "\n",
    "on_faults.loc[(on_faults['ecuMake']=='?????')\n",
    "              &\n",
    "              (on_faults['ecuModel'].isin(missing_cmmns)), 'ecuMake'\n",
    "             ] = 'CMMNS'\n",
    "\n",
    "on_faults.loc[(on_faults['ecuMake']=='?????')\n",
    "              &\n",
    "              (on_faults['ecuModel']=='CECU3B-NAMUX4'), 'ecuMake'] = 'PACCR'\n",
    "\n",
    "missing_bndws = ['EC60-adv', 'EC80ESP']\n",
    "\n",
    "on_faults.loc[(on_faults['ecuMake']=='?????')\n",
    "              &\n",
    "              (on_faults['ecuModel'].isin(missing_bndws)), 'ecuMake'\n",
    "             ] = 'BNDWS'\n",
    "\n",
    "on_faults.loc[(on_faults['ecuMake']=='????S')\n",
    "              &\n",
    "              (on_faults['ecuModel'].isin(missing_bndws)), 'ecuMake'\n",
    "             ] = 'BNDWS'\n",
    "\n",
    "on_faults.loc[(on_faults['ecuMake']=='?????')\n",
    "              &\n",
    "              (on_faults['ecuModel'] == '0USA13_13_0415_2238A'), 'ecuMake'\n",
    "             ] = 'VOLVO'\n",
    "\n",
    "on_faults.loc[(on_faults['ecuMake']=='?????')\n",
    "              &\n",
    "              (on_faults['ecuModel'] == 'EEO-xxF112C'), 'ecuMake'\n",
    "             ] = 'EATON'"
   ]
  },
  {
   "cell_type": "code",
   "execution_count": null,
   "id": "fbd0365a",
   "metadata": {},
   "outputs": [],
   "source": [
    "derate_times = (\n",
    "    on_faults\n",
    "    .loc[on_faults['spn'] == 5246][['EquipmentID', 'EventTimeStamp', 'spn']]\n",
    "    .rename(columns = {'EventTimeStamp' : 'derateTime'})\n",
    ")"
   ]
  },
  {
   "cell_type": "code",
   "execution_count": null,
   "id": "7cf8b9d6",
   "metadata": {},
   "outputs": [],
   "source": [
    "# Create columns that indicate how far before the next derate/since the last derate for a given truck a given fault occurs\n",
    "derate_times = (\n",
    "    on_faults\n",
    "    .loc[on_faults['spn'] == 5246][['EquipmentID', 'EventTimeStamp', 'spn']]\n",
    "    .rename(columns = {'EventTimeStamp' : 'derateTime'})\n",
    ")\n",
    "\n",
    "derate_times = derate_times.loc[~derate_times.duplicated()]\n",
    "\n",
    "final_df = (\n",
    "    pd.merge(on_faults, derate_times, how = 'left', \n",
    "             left_on = ['EquipmentID', 'EventTimeStamp', 'spn'], \n",
    "             right_on = ['EquipmentID', 'derateTime', 'spn'])\n",
    ")\n",
    "\n",
    "final_df = final_df.sort_values(['EquipmentID', 'EventTimeStamp']).reset_index(drop=True)\n",
    "\n",
    "final_df['derateTime_ff'] = final_df.groupby('EquipmentID')['derateTime'].ffill()\n",
    "final_df['derateTime_bf'] = final_df.groupby('EquipmentID')['derateTime'].bfill()\n",
    "\n",
    "final_df['timeSinceDerate'] = final_df['EventTimeStamp'] - final_df['derateTime_ff']\n",
    "final_df['timeUntilDerate'] = final_df['derateTime_bf'] - final_df['EventTimeStamp']"
   ]
  },
  {
   "cell_type": "code",
   "execution_count": null,
   "id": "5c598239",
   "metadata": {
    "scrolled": true
   },
   "outputs": [],
   "source": [
    "final_df.info()"
   ]
  },
  {
   "cell_type": "code",
   "execution_count": null,
   "id": "210eddd4",
   "metadata": {},
   "outputs": [],
   "source": [
    "final_df[['spn', 'fmi']].value_counts()"
   ]
  },
  {
   "cell_type": "code",
   "execution_count": null,
   "id": "033be435",
   "metadata": {},
   "outputs": [],
   "source": [
    "# Drop some columns\n",
    "final_df =  final_df.drop(columns = ['derateTime', 'derateTime_bf', 'derateTime_ff', 'dist_A', 'dist_B', 'dist_C'])"
   ]
  },
  {
   "cell_type": "code",
   "execution_count": null,
   "id": "9e9b3cff",
   "metadata": {},
   "outputs": [],
   "source": [
    "# Make some pickles\n",
    "#final_df.to_pickle('../data/final_data.pkl')\n",
    "#truck_derate_status.to_pickle('../data/truck_derate_status.pkl')"
   ]
  },
  {
   "cell_type": "code",
   "execution_count": null,
   "id": "3206bb94",
   "metadata": {},
   "outputs": [],
   "source": [
    "# Summary data for trucks that did or did experienced at least one derate\n",
    "truck_overview = (\n",
    "    on_faults.groupby(['EquipmentID', 'derate'])\n",
    "    .agg(total_faults = ('RecordID', 'count'),\n",
    "         unique_faults = ('spn', 'nunique'),\n",
    "         unique_dates = ('EventDate', 'nunique'))\n",
    "    .reset_index()\n",
    ")\n",
    "\n",
    "truck_overview"
   ]
  },
  {
   "cell_type": "markdown",
   "id": "9b3a05f6",
   "metadata": {},
   "source": [
    "### Create visualizations"
   ]
  },
  {
   "cell_type": "code",
   "execution_count": null,
   "id": "b31c1843",
   "metadata": {},
   "outputs": [],
   "source": [
    "import plotly.graph_objects as go"
   ]
  },
  {
   "cell_type": "code",
   "execution_count": null,
   "id": "f3750b6c",
   "metadata": {},
   "outputs": [],
   "source": [
    "# Total faults by derate status\n",
    "truck_overview.groupby('derate')['total_faults'].sum()"
   ]
  },
  {
   "cell_type": "code",
   "execution_count": null,
   "id": "cd2d4a59",
   "metadata": {},
   "outputs": [],
   "source": [
    "# Create column to indicate whether a derate was the first for a given truck on a given day\n",
    "full_derates.loc[~full_derates.duplicated(['EquipmentID', 'EventDate'], keep = 'first'), 'first?'] = 'First'\n",
    "full_derates.loc[full_derates.duplicated(['EquipmentID', 'EventDate'], keep = 'first'), 'first?'] = 'Subsequent'"
   ]
  },
  {
   "cell_type": "code",
   "execution_count": null,
   "id": "74bd6f8d",
   "metadata": {},
   "outputs": [],
   "source": [
    "# Get the number of faults and the number of trucks with faults for each month in the dataset\n",
    "\n",
    "df1 = (\n",
    "    on_faults\n",
    "    .groupby('MonthYear')\n",
    "    .agg(total = ('EquipmentID', 'nunique'))\n",
    "    .reset_index()\n",
    ")\n",
    "\n",
    "df1['Category'] = 'Trucks'\n",
    "\n",
    "df2 = (\n",
    "    on_faults\n",
    "    .groupby('MonthYear')\n",
    "    .agg(total = ('EquipmentID', 'count'))\n",
    "    .reset_index()\n",
    ")\n",
    "\n",
    "df2['Category'] = 'Faults'\n",
    "\n",
    "totals = pd.concat([df1, df2])\n",
    "\n",
    "totals"
   ]
  },
  {
   "cell_type": "code",
   "execution_count": null,
   "id": "326cff69",
   "metadata": {
    "scrolled": true
   },
   "outputs": [],
   "source": [
    "# Plot line graph of the number of faults and the number of trucks with faults over time\n",
    "\n",
    "df = totals\n",
    "\n",
    "fig = px.line(df, \n",
    "              x='MonthYear', \n",
    "              y = 'total',\n",
    "              color = 'Category',\n",
    "              labels={\n",
    "                  'MonthYear' : 'Time Period',\n",
    "                  'total' : 'Total Number'\n",
    "              },\n",
    "              markers = True,\n",
    "              color_discrete_map={\n",
    "                  'Trucks' : '#ff9900',\n",
    "                  'Faults' : '#00e6ff'\n",
    "              },\n",
    "              template=\"plotly_white\"\n",
    "             )\n",
    "\n",
    "fig.update_layout(\n",
    "    title_text=\"Total Faults and Total Trucks with Faults by Month\",  \n",
    "    xaxis_title='', \n",
    "    yaxis_title=''\n",
    ")\n",
    "\n",
    "fig.show()"
   ]
  },
  {
   "cell_type": "code",
   "execution_count": null,
   "id": "82ec8d41",
   "metadata": {},
   "outputs": [],
   "source": [
    "#fig.write_html(\"../data/total_faults.html\")"
   ]
  },
  {
   "cell_type": "code",
   "execution_count": null,
   "id": "fee1cdba",
   "metadata": {},
   "outputs": [],
   "source": [
    "# Create a dataframe with the total number of derates and trucks with derates for each month in the dataset\n",
    "\n",
    "td_df1 = (\n",
    "    on_faults\n",
    "    .loc[on_faults['spn'] == 5246]\n",
    "    .groupby('MonthYear')\n",
    "    .agg(total = ('EquipmentID', 'nunique'))\n",
    "    .reset_index()\n",
    ")\n",
    "\n",
    "td_df1['Category'] = 'Trucks'\n",
    "\n",
    "td_df2 = (\n",
    "    on_faults\n",
    "    .loc[on_faults['spn'] == 5246]\n",
    "    .groupby('MonthYear')\n",
    "    .agg(total = ('EquipmentID', 'count'))\n",
    "    .reset_index()\n",
    ")\n",
    "\n",
    "td_df2['Category'] = 'Derates'\n",
    "\n",
    "td_totals = pd.concat([td_df1, td_df2])\n",
    "\n",
    "td_totals"
   ]
  },
  {
   "cell_type": "code",
   "execution_count": null,
   "id": "203ec1fc",
   "metadata": {},
   "outputs": [],
   "source": [
    "df = td_totals\n",
    "\n",
    "fig = px.line(df, \n",
    "             x='MonthYear', \n",
    "              y = 'total',\n",
    "              color = 'Category',\n",
    "              labels={\n",
    "                  'MonthYear' : 'Time Period',\n",
    "                  'total' : 'Total'\n",
    "              },\n",
    "              markers = True,\n",
    "              color_discrete_map={\n",
    "                  'Trucks' : '#ff9900',\n",
    "                  'Derates' : '#00ff99'\n",
    "              },\n",
    "              template=\"plotly_white\"\n",
    "             )\n",
    "\n",
    "fig.update_layout(\n",
    "    title_text=\"Total Derates and Total Trucks with Derates by Month\", \n",
    "    xaxis_title='', \n",
    "    yaxis_title=''\n",
    ")\n",
    "\n",
    "fig.show()"
   ]
  },
  {
   "cell_type": "code",
   "execution_count": null,
   "id": "5640893f",
   "metadata": {},
   "outputs": [],
   "source": [
    "#fig.write_html(\"../data/total_derates.html\")"
   ]
  },
  {
   "cell_type": "code",
   "execution_count": null,
   "id": "947f3f4f",
   "metadata": {},
   "outputs": [],
   "source": [
    "comparisons = (\n",
    "    on_faults#.loc[on_faults['EquipmentID'] != 1692]\n",
    "    .groupby('derate').agg(\n",
    "        total_faults = ('RecordID', 'count'),\n",
    "        total_trucks = ('EquipmentID', 'nunique')\n",
    "                          )\n",
    "    .reset_index()\n",
    ")\n",
    "\n",
    "comparisons['faults_per_truck'] = round(comparisons['total_faults'] / comparisons['total_trucks'], 0)\n",
    "\n",
    "comparisons"
   ]
  },
  {
   "cell_type": "code",
   "execution_count": null,
   "id": "d7dc30c0",
   "metadata": {
    "scrolled": false
   },
   "outputs": [],
   "source": [
    "df = comparisons\n",
    "\n",
    "fig = px.bar(df, \n",
    "             x='derate', \n",
    "             y='faults_per_truck',\n",
    "             color ='derate',\n",
    "             labels={\n",
    "                'faults_per_truck' : 'Faults per Truck',\n",
    "                'derate' : 'Derate Status'\n",
    "              },\n",
    "              color_discrete_map={\n",
    "                  'No Derate' : '#9900ff',\n",
    "                  'Derate' : '#00ff99'\n",
    "              },\n",
    "             template=\"plotly_white\",\n",
    "             text_auto=True       \n",
    "            )\n",
    "\n",
    "\n",
    "fig.update_layout(title_text=\"Total Faults per Truck by Derate Status\",\n",
    "                  xaxis={'visible': False, 'showticklabels': False}\n",
    "                 )\n",
    "\n",
    "\n",
    "\n",
    "\n",
    "fig.show()"
   ]
  },
  {
   "cell_type": "code",
   "execution_count": null,
   "id": "bac63893",
   "metadata": {},
   "outputs": [],
   "source": [
    "#fig.write_image(\"../images/faults_per_truck.jpeg\")"
   ]
  },
  {
   "cell_type": "code",
   "execution_count": null,
   "id": "d81b7bf0",
   "metadata": {
    "scrolled": true
   },
   "outputs": [],
   "source": [
    "firsts = (\n",
    "    full_derates\n",
    "    .groupby('first?').agg(\n",
    "        totals = ('RecordID', 'count')\n",
    "                          )\n",
    "    .reset_index()\n",
    ")\n",
    "\n",
    "firsts"
   ]
  },
  {
   "cell_type": "code",
   "execution_count": null,
   "id": "585bb631",
   "metadata": {},
   "outputs": [],
   "source": [
    "df = firsts\n",
    "\n",
    "fig = px.bar(df, \n",
    "             x='first?', \n",
    "             y='totals',\n",
    "             color ='first?',\n",
    "             labels={\n",
    "                'totals' : 'Total Derates',\n",
    "                'first?' : 'Derate Sequence'\n",
    "              },\n",
    "             color_discrete_map={\n",
    "                  'First' : '#00ff59',\n",
    "                  'Subsequent' : '#00ffd9'\n",
    "              },\n",
    "             template=\"plotly_white\",\n",
    "             text_auto=True\n",
    "             )\n",
    "\n",
    "\n",
    "fig.update_layout(title_text=\"Nearly 1/4 of All Derate Faults Occur In Sequence (Same Truck, Same Day)\",\n",
    "                  xaxis={'visible': False, 'showticklabels': False}\n",
    "                 )\n",
    "\n",
    "\n",
    "\n",
    "\n",
    "fig.show()"
   ]
  },
  {
   "cell_type": "code",
   "execution_count": null,
   "id": "2f1e0a60",
   "metadata": {},
   "outputs": [],
   "source": [
    "#fig.write_image(\"../data/derate_sequence.jpeg\")"
   ]
  },
  {
   "cell_type": "code",
   "execution_count": null,
   "id": "f98937d2",
   "metadata": {},
   "outputs": [],
   "source": [
    "truck_overview"
   ]
  },
  {
   "cell_type": "code",
   "execution_count": null,
   "id": "3660ec6a",
   "metadata": {
    "scrolled": true
   },
   "outputs": [],
   "source": [
    "# Comparing distribution of total faults for trucks that did have a derate as opposed to those that did not\n",
    "\n",
    "df = truck_overview.loc[(truck_overview['derate'] == 'Derate')]\n",
    "df1 = truck_overview.loc[truck_overview['derate'] == 'No Derate']\n",
    "\n",
    "fig = go.Figure()\n",
    "fig.add_trace(go.Histogram(\n",
    "    x=df['total_faults'],\n",
    "    histnorm='percent',\n",
    "    name='Derate', # name used in legend and hover labels\n",
    "    marker_color='#00ff99',\n",
    "    opacity=0.75\n",
    "))\n",
    "fig.add_trace(go.Histogram(\n",
    "    x=df1['total_faults'],\n",
    "    histnorm='percent',\n",
    "    name='No Derate',\n",
    "    marker_color='#9900ff',\n",
    "    opacity=0.75\n",
    "))\n",
    "\n",
    "fig.update_layout(\n",
    "    template = 'plotly_white',\n",
    "    title_text='Distribution of Trucks Experiencing a Given Number of Faults, Derate Status Comparison',\n",
    "    xaxis_title_text='Total Faults', # xaxis label\n",
    "    bargap=0.2, # gap between bars of adjacent location coordinates\n",
    "    bargroupgap=0.05 # gap between bars of the same location coordinates\n",
    ")\n",
    "\n",
    "fig.update_yaxes(ticksuffix = \"%\")\n",
    "\n",
    "fig.update_xaxes(range = [-10, 10000])\n",
    "\n",
    "fig.update_yaxes(range = [0, 70])\n",
    "\n",
    "fig.show()"
   ]
  },
  {
   "cell_type": "code",
   "execution_count": null,
   "id": "2b7464a4",
   "metadata": {},
   "outputs": [],
   "source": [
    "#fig.write_html(\"../images/fault_distribution_comparison.html\")"
   ]
  },
  {
   "cell_type": "code",
   "execution_count": null,
   "id": "ee08147c",
   "metadata": {},
   "outputs": [],
   "source": [
    "final_df['timeUntilDerate_dec'] = [round(x.total_seconds()/86400, 2) for x in final_df['timeUntilDerate']]"
   ]
  },
  {
   "cell_type": "code",
   "execution_count": null,
   "id": "203b2fc6",
   "metadata": {
    "scrolled": false
   },
   "outputs": [],
   "source": [
    "final_df.loc[(final_df['derate'] == 'Derate')\n",
    "             &\n",
    "             (final_df['timeSinceDerate'] < '24:00:00')\n",
    "            &\n",
    "            (final_df['timeSinceDerate'] > '00:00:00')]"
   ]
  },
  {
   "cell_type": "code",
   "execution_count": null,
   "id": "4d46ee4b",
   "metadata": {
    "scrolled": false
   },
   "outputs": [],
   "source": [
    "df = final_df.loc[(final_df['derate'] == 'Derate') \n",
    "                 &\n",
    "                 (final_df['EquipmentID'] != 1692)\n",
    "                 ]\n",
    "\n",
    "fig = px.histogram(df, \n",
    "                   x=(df['timeUntilDerate_dec'] * 24),\n",
    "                   histnorm = 'percent',\n",
    "                   labels = {\n",
    "                       'x' : 'Hours Before Derate'\n",
    "                   },\n",
    "                   color_discrete_sequence = ['#00E6FF'],\n",
    "                   template=\"plotly_white\"\n",
    "                   )\n",
    "\n",
    "fig.update_traces(xbins=dict(\n",
    "        start=0,\n",
    "        end=48,\n",
    "        size=4\n",
    "    ))\n",
    "\n",
    "fig.for_each_trace(lambda t: t.update(hovertemplate=t.hovertemplate.replace(#\"count\", \"Faults\",\n",
    "                                                                            \"percent\", \"Proportion of Faults\")))\n",
    "\n",
    "fig.update_yaxes(ticksuffix = \"%\",\n",
    "                range = [0, 20])\n",
    "\n",
    "fig.update_xaxes(range = [-1, 48])\n",
    "\n",
    "fig.update_layout(title_text=\"Distribution of Faults in the 2 Days Leading Up to Derates\",\n",
    "                  yaxis_title=\"\"\n",
    "                 )\n",
    "\n",
    "fig.show()"
   ]
  },
  {
   "cell_type": "code",
   "execution_count": null,
   "id": "f5ad9876",
   "metadata": {
    "scrolled": true
   },
   "outputs": [],
   "source": [
    "df = final_df.loc[(final_df['derate'] == 'Derate') \n",
    "                 &\n",
    "                 (final_df['EquipmentID'] != 1692)\n",
    "                 ]\n",
    "\n",
    "fig = px.histogram(df, \n",
    "                   x=(df['timeUntilDerate_dec']),\n",
    "                   histnorm = 'percent',\n",
    "                   labels = {\n",
    "                       'timeUntilDerate_dec' : 'Days Before Derate'\n",
    "                   },\n",
    "                   color_discrete_sequence = ['#00ff99'],\n",
    "                   template=\"plotly_white\"\n",
    "                   )\n",
    "\n",
    "fig.update_traces(xbins=dict(\n",
    "        start=0,\n",
    "        end=525,\n",
    "        size=7\n",
    "    ))\n",
    "\n",
    "fig.for_each_trace(lambda t: t.update(hovertemplate=t.hovertemplate.replace(#\"count\", \"Faults\",\n",
    "                                                                            \"percent\", \"Proportion of Faults\")))\n",
    "\n",
    "fig.update_yaxes(ticksuffix = \"%\",\n",
    "                range = [0, 6])\n",
    "\n",
    "fig.update_xaxes(range = [-1, 525])\n",
    "\n",
    "fig.update_layout(title_text=\"Distribution of Faults With Respect to Time Ahead of Next Derate\",\n",
    "                  yaxis_title=\"\"\n",
    "                 )\n",
    "\n",
    "fig.show()"
   ]
  },
  {
   "cell_type": "code",
   "execution_count": null,
   "id": "57ba8f2b",
   "metadata": {},
   "outputs": [],
   "source": [
    "#fig.write_html(\"../images/derate_fault_distribution_pre.html\")"
   ]
  },
  {
   "cell_type": "code",
   "execution_count": null,
   "id": "20190d53",
   "metadata": {},
   "outputs": [],
   "source": [
    "final_df.loc[~final_df['timeUntilDerate'].isna()]"
   ]
  },
  {
   "cell_type": "code",
   "execution_count": null,
   "id": "81ad70ad",
   "metadata": {},
   "outputs": [],
   "source": []
  }
 ],
 "metadata": {
  "kernelspec": {
   "display_name": "Python 3 (ipykernel)",
   "language": "python",
   "name": "python3"
  },
  "language_info": {
   "codemirror_mode": {
    "name": "ipython",
    "version": 3
   },
   "file_extension": ".py",
   "mimetype": "text/x-python",
   "name": "python",
   "nbconvert_exporter": "python",
   "pygments_lexer": "ipython3",
   "version": "3.9.16"
  }
 },
 "nbformat": 4,
 "nbformat_minor": 5
}
