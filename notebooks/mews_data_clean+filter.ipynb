{
 "cells": [
  {
   "cell_type": "code",
   "execution_count": null,
   "id": "471d0848",
   "metadata": {},
   "outputs": [],
   "source": [
    "import pandas as pd\n",
    "import numpy as np\n",
    "\n",
    "from geopy.distance import geodesic"
   ]
  },
  {
   "cell_type": "markdown",
   "id": "415bed97",
   "metadata": {},
   "source": [
    "### Read in the faults data"
   ]
  },
  {
   "cell_type": "code",
   "execution_count": null,
   "id": "324329bc",
   "metadata": {
    "scrolled": true
   },
   "outputs": [],
   "source": [
    "faults = pd.read_csv('../data/J1939Faults.csv')\n",
    "\n",
    "# Drop columns with all null values\n",
    "faults = faults.drop(columns = ['actionDescription', 'faultValue'])"
   ]
  },
  {
   "cell_type": "code",
   "execution_count": null,
   "id": "99b8830a",
   "metadata": {},
   "outputs": [],
   "source": [
    "faults"
   ]
  },
  {
   "cell_type": "code",
   "execution_count": null,
   "id": "abbdd36b",
   "metadata": {
    "scrolled": false
   },
   "outputs": [],
   "source": [
    "faults.info()"
   ]
  },
  {
   "cell_type": "code",
   "execution_count": null,
   "id": "8e973846",
   "metadata": {
    "scrolled": true
   },
   "outputs": [],
   "source": [
    "# Convert to datetime\n",
    "faults['EventTimeStamp'] = pd.to_datetime(faults['EventTimeStamp'])\n",
    "\n",
    "faults['LocationTimeStamp'] = pd.to_datetime(faults['LocationTimeStamp'])\n",
    "\n",
    "# Split out date and time\n",
    "faults['EventDate'], faults['EventTime'] = faults['EventTimeStamp'].dt.normalize(), faults['EventTimeStamp'].dt.time\n",
    "\n",
    "faults['LocationDate'], faults['LocationTime'] = faults['LocationTimeStamp'].dt.normalize(), faults['LocationTimeStamp'].dt.time\n",
    "\n",
    "# Create a month/year column\n",
    "faults['MonthYear'] = pd.to_datetime(faults['EventDate'].dt.strftime('%B-%Y'))\n",
    "\n",
    "faults"
   ]
  },
  {
   "cell_type": "code",
   "execution_count": null,
   "id": "45ce2816",
   "metadata": {
    "scrolled": true
   },
   "outputs": [],
   "source": [
    "faults.loc[faults['EventDate'] < '2015-01-01']"
   ]
  },
  {
   "cell_type": "code",
   "execution_count": null,
   "id": "93fb8da1",
   "metadata": {},
   "outputs": [],
   "source": [
    "faults.loc[faults['EquipmentID'].astype(str).str.len() > 5]"
   ]
  },
  {
   "cell_type": "markdown",
   "id": "f62f0054",
   "metadata": {},
   "source": [
    "### Read in the onboard diagnostic info"
   ]
  },
  {
   "cell_type": "code",
   "execution_count": null,
   "id": "5523f98e",
   "metadata": {},
   "outputs": [],
   "source": [
    "onboard = pd.read_csv('../data/VehicleDiagnosticOnboardData.csv')\n",
    "\n",
    "# The Id column is not meaningful for us, dropping it\n",
    "onboard = onboard.drop(columns = 'Id')"
   ]
  },
  {
   "cell_type": "code",
   "execution_count": null,
   "id": "ab96f4b6",
   "metadata": {
    "scrolled": true
   },
   "outputs": [],
   "source": [
    "onboard.info()"
   ]
  },
  {
   "cell_type": "code",
   "execution_count": null,
   "id": "a8702b36",
   "metadata": {
    "scrolled": true
   },
   "outputs": [],
   "source": [
    "# Some values have a comma where they should have a decimal point\n",
    "onboard['Value'] = onboard['Value'].str.replace(',', '.')\n",
    "\n",
    "onboard"
   ]
  },
  {
   "cell_type": "code",
   "execution_count": null,
   "id": "444c45a5",
   "metadata": {},
   "outputs": [],
   "source": [
    "# Pivot the dataframe so each FaultId is one row\n",
    "onboard = pd.pivot(onboard, index = ['FaultId'], values = 'Value', columns = ['Name']).reset_index()\n",
    "\n",
    "onboard.info()"
   ]
  },
  {
   "cell_type": "markdown",
   "id": "29427214",
   "metadata": {},
   "source": [
    "### Pull together the faults and onboad data tables"
   ]
  },
  {
   "cell_type": "code",
   "execution_count": null,
   "id": "13e075ed",
   "metadata": {
    "scrolled": true
   },
   "outputs": [],
   "source": [
    "on_faults = (\n",
    "    pd.merge(faults, onboard, left_on = 'RecordID', right_on = 'FaultId')\n",
    "    .drop(columns = 'FaultId')\n",
    ")\n",
    "on_faults"
   ]
  },
  {
   "cell_type": "code",
   "execution_count": null,
   "id": "cab41aad",
   "metadata": {},
   "outputs": [],
   "source": [
    "# What is the date range of this data?\n",
    "on_faults['EventDate'].describe(datetime_is_numeric=True)\n",
    "\n",
    "# 3/18/2000 - 3/6/2020, but it looks like we have 3 rows that have a future date attached to them\n",
    "# and the dates prior to 2015 were errors"
   ]
  },
  {
   "cell_type": "code",
   "execution_count": null,
   "id": "168d19e5",
   "metadata": {},
   "outputs": [],
   "source": [
    "# Filtering out the future dates and the pre-2015 dates\n",
    "on_faults = on_faults.loc[(on_faults['EventDate'] <= '2020-03-06')\n",
    "                          &\n",
    "                          (on_faults['EventDate'] >= '2015-01-01')]"
   ]
  },
  {
   "cell_type": "code",
   "execution_count": null,
   "id": "6b41c56c",
   "metadata": {},
   "outputs": [],
   "source": [
    "# per the stakeholder, get rid of the rows where the EquipmentID is more than 5 characters\n",
    "on_faults = on_faults.loc[on_faults['EquipmentID'].astype(str).str.len() <= 5]"
   ]
  },
  {
   "cell_type": "code",
   "execution_count": null,
   "id": "855a097c",
   "metadata": {
    "scrolled": true
   },
   "outputs": [],
   "source": [
    "on_faults.info()"
   ]
  },
  {
   "cell_type": "code",
   "execution_count": null,
   "id": "bb5d9499",
   "metadata": {
    "scrolled": true
   },
   "outputs": [],
   "source": [
    "# Removing 0 value lat/lon (6 rows)\n",
    "on_faults = on_faults.loc[(on_faults['Latitude'] != 0)\n",
    "                          &\n",
    "                          (on_faults['Longitude'] != 0)].reset_index(drop = True)"
   ]
  },
  {
   "cell_type": "code",
   "execution_count": null,
   "id": "cb667c46",
   "metadata": {},
   "outputs": [],
   "source": [
    "# Define the locations of the 3 service locations\n",
    "A_point = (36.0666667, -86.4347222)\n",
    "\n",
    "B_point = (35.5883333, -86.4438888)\n",
    "\n",
    "C_point = (36.1950, -83.174722)"
   ]
  },
  {
   "cell_type": "code",
   "execution_count": null,
   "id": "9106af39",
   "metadata": {
    "scrolled": true
   },
   "outputs": [],
   "source": [
    "on_faults"
   ]
  },
  {
   "cell_type": "code",
   "execution_count": null,
   "id": "9569a79d",
   "metadata": {},
   "outputs": [],
   "source": [
    "# Calculate the distance (in miles) between the location where fault occurred and each service location\n",
    "on_faults['dist_A'] = [geodesic([A_point], [on_faults['Latitude'][i], on_faults['Longitude'][i]]).mi\n",
    "                     for i in range(len(on_faults))]"
   ]
  },
  {
   "cell_type": "code",
   "execution_count": null,
   "id": "4a0e009d",
   "metadata": {},
   "outputs": [],
   "source": [
    "on_faults['dist_B'] = [geodesic([B_point], [on_faults['Latitude'][i], on_faults['Longitude'][i]]).mi\n",
    "                     for i in range(len(on_faults))]\n",
    "\n",
    "on_faults['dist_C'] = [geodesic([C_point], [on_faults['Latitude'][i], on_faults['Longitude'][i]]).mi\n",
    "                     for i in range(len(on_faults))]"
   ]
  },
  {
   "cell_type": "code",
   "execution_count": null,
   "id": "85d7afdb",
   "metadata": {
    "scrolled": true
   },
   "outputs": [],
   "source": [
    "# How many faults occurred within 1/4 mile of a service location?\n",
    "on_faults.loc[(on_faults['dist_A'] <= 0.25) | (on_faults['dist_B'] <= 0.25) | (on_faults['dist_C'] <= 0.25)]\n",
    "\n",
    "# 127,178 (about 10%)"
   ]
  },
  {
   "cell_type": "code",
   "execution_count": null,
   "id": "386ee865",
   "metadata": {
    "scrolled": true
   },
   "outputs": [],
   "source": [
    "# Filter out any fault codes that occurred within 1/4 mile of a service location\n",
    "on_faults = on_faults.loc[(on_faults['dist_A'] > 0.25) \n",
    "                          & \n",
    "                          (on_faults['dist_B'] > 0.25) \n",
    "                          & \n",
    "                          (on_faults['dist_C'] > 0.25)].reset_index(drop = True)\n",
    "\n",
    "on_faults"
   ]
  },
  {
   "cell_type": "code",
   "execution_count": null,
   "id": "fc05403d",
   "metadata": {},
   "outputs": [],
   "source": [
    "# looking for duplicate records\n",
    "on_faults.loc[on_faults['RecordID'].duplicated()] \n",
    "\n",
    "# There are none"
   ]
  },
  {
   "cell_type": "code",
   "execution_count": null,
   "id": "38cbe688",
   "metadata": {},
   "outputs": [],
   "source": [
    "len(on_faults.loc[on_faults['active'] == True])"
   ]
  },
  {
   "cell_type": "code",
   "execution_count": null,
   "id": "36e08b2d",
   "metadata": {},
   "outputs": [],
   "source": [
    "import pickle\n",
    "#on_faults.to_pickle('../data/on_faults.pkl')"
   ]
  },
  {
   "cell_type": "code",
   "execution_count": null,
   "id": "700ac600",
   "metadata": {},
   "outputs": [],
   "source": []
  }
 ],
 "metadata": {
  "kernelspec": {
   "display_name": "Python 3 (ipykernel)",
   "language": "python",
   "name": "python3"
  },
  "language_info": {
   "codemirror_mode": {
    "name": "ipython",
    "version": 3
   },
   "file_extension": ".py",
   "mimetype": "text/x-python",
   "name": "python",
   "nbconvert_exporter": "python",
   "pygments_lexer": "ipython3",
   "version": "3.9.16"
  }
 },
 "nbformat": 4,
 "nbformat_minor": 5
}
