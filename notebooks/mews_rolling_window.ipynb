{
 "cells": [
  {
   "cell_type": "code",
   "execution_count": null,
   "id": "8dd00edb",
   "metadata": {},
   "outputs": [],
   "source": [
    "import pandas as pd\n",
    "import numpy as np\n",
    "import pickle"
   ]
  },
  {
   "cell_type": "code",
   "execution_count": null,
   "id": "4962ef9b",
   "metadata": {},
   "outputs": [],
   "source": [
    "on_faults = pd.read_pickle('../data/on_faults.pkl')"
   ]
  },
  {
   "cell_type": "code",
   "execution_count": null,
   "id": "abdac1a5",
   "metadata": {},
   "outputs": [],
   "source": [
    "# Drop rows where fault light is being turned off\n",
    "on_faults = on_faults.loc[on_faults['active'] == True].reset_index(drop = True)"
   ]
  },
  {
   "cell_type": "code",
   "execution_count": null,
   "id": "74ba9740",
   "metadata": {},
   "outputs": [],
   "source": [
    "# Drop some unneccesary columns\n",
    "on_faults = (\n",
    "    on_faults.drop(columns = ['RecordID', 'ESS_Id', 'active', 'eventDescription', \n",
    "                                 'ecuSoftwareVersion', 'ecuSerialNumber', 'ecuModel', 'ecuMake', \n",
    "                                 'ecuSource', 'MCTNumber', 'Latitude', 'Longitude', 'EventDate', 'EventTime',\n",
    "                                 'LocationTimeStamp', 'LocationDate', 'MonthYear', 'LocationTime', 'dist_A', \n",
    "                                 'dist_B', 'dist_C'])\n",
    ")\n",
    "\n",
    "on_faults.info()"
   ]
  },
  {
   "cell_type": "code",
   "execution_count": null,
   "id": "dc756a3b",
   "metadata": {
    "scrolled": true
   },
   "outputs": [],
   "source": [
    "# FuelTemperature, ServiceDistance, and SwitchedBatteryVoltage columns\n",
    "# have significantly more null values, drop these columns\n",
    "\n",
    "on_faults = (\n",
    "    on_faults.drop(columns = ['FuelTemperature', 'ServiceDistance', 'SwitchedBatteryVoltage'])\n",
    ")"
   ]
  },
  {
   "cell_type": "code",
   "execution_count": null,
   "id": "d9c819ec",
   "metadata": {},
   "outputs": [],
   "source": [
    "on_faults['month'] = on_faults['EventTimeStamp'].dt.strftime('%b')"
   ]
  },
  {
   "cell_type": "code",
   "execution_count": null,
   "id": "9d37f770",
   "metadata": {},
   "outputs": [],
   "source": [
    "on_faults['spn-fmi'] = on_faults['spn'].astype(str) + '-' + on_faults['fmi'].astype(str)"
   ]
  },
  {
   "cell_type": "code",
   "execution_count": null,
   "id": "83f5df17",
   "metadata": {},
   "outputs": [],
   "source": [
    "on_faults = on_faults.replace({'CruiseControlActive': {'True': True, 'False': False},\n",
    "                               'IgnStatus' : {'True': True, 'False': False},\n",
    "                               'ParkingBrake' : {'True': True, 'False': False}})"
   ]
  },
  {
   "cell_type": "code",
   "execution_count": null,
   "id": "b085a608",
   "metadata": {},
   "outputs": [],
   "source": [
    "on_faults['DistanceLtd']"
   ]
  },
  {
   "cell_type": "code",
   "execution_count": null,
   "id": "bb16b989",
   "metadata": {
    "scrolled": true
   },
   "outputs": [],
   "source": [
    "rolling = on_faults[[ 'EquipmentID', 'EventTimeStamp', 'month', 'spn', 'activeTransitionCount', 'AcceleratorPedal', \n",
    "                     'BarometricPressure', 'CruiseControlActive', 'CruiseControlSetSpeed', 'DistanceLtd', \n",
    "                     'EngineCoolantTemperature', 'EngineLoad', 'EngineOilPressure', 'EngineOilTemperature', 'EngineRpm',\n",
    "                     'EngineTimeLtd', 'FuelLevel', 'FuelLtd', 'FuelRate','IgnStatus', 'IntakeManifoldTemperature', \n",
    "                     'LampStatus', 'ParkingBrake', 'Speed',  'Throttle', 'TurboBoostPressure']]\n"
   ]
  },
  {
   "cell_type": "code",
   "execution_count": null,
   "id": "b1eca97a",
   "metadata": {},
   "outputs": [],
   "source": [
    "rolling = (pd.get_dummies(data = rolling, columns =['spn', 'month', 'CruiseControlActive',  \n",
    "                                                       'IgnStatus', 'ParkingBrake'])\n",
    "           .sort_values(['EquipmentID', 'EventTimeStamp'])\n",
    "           .reset_index(drop = True)\n",
    "          )\n",
    "\n",
    "rolling.info()"
   ]
  },
  {
   "cell_type": "code",
   "execution_count": null,
   "id": "08fadd44",
   "metadata": {},
   "outputs": [],
   "source": [
    "rolling"
   ]
  },
  {
   "cell_type": "code",
   "execution_count": null,
   "id": "5ba37846",
   "metadata": {},
   "outputs": [],
   "source": [
    "rolling_test = (rolling\n",
    "                .groupby('EquipmentID')\n",
    "                .rolling(window = '1D', on = 'EventTimeStamp')\n",
    "                .sum())"
   ]
  },
  {
   "cell_type": "code",
   "execution_count": null,
   "id": "5c2513cb",
   "metadata": {},
   "outputs": [],
   "source": [
    "rolling_test = rolling_test.loc[~(rolling_test['spn_5246'] > 1)]"
   ]
  },
  {
   "cell_type": "code",
   "execution_count": null,
   "id": "cbebdb61",
   "metadata": {},
   "outputs": [],
   "source": [
    "rolling_test.head(20)"
   ]
  },
  {
   "cell_type": "code",
   "execution_count": null,
   "id": "7cc332c6",
   "metadata": {},
   "outputs": [],
   "source": [
    "from sklearn.svm import LinearSVC\n",
    "from sklearn.metrics import classification_report, accuracy_score, confusion_matrix\n",
    "from sklearn.pipeline import Pipeline\n",
    "\n",
    "from sklearn.preprocessing import OneHotEncoder, PolynomialFeatures, StandardScaler, MinMaxScaler"
   ]
  },
  {
   "cell_type": "code",
   "execution_count": null,
   "id": "a4274da1",
   "metadata": {},
   "outputs": [],
   "source": [
    "ml_data = rolling_test"
   ]
  },
  {
   "cell_type": "code",
   "execution_count": null,
   "id": "1d410fda",
   "metadata": {},
   "outputs": [],
   "source": [
    "ml_data = ml_data.fillna(0)"
   ]
  },
  {
   "cell_type": "code",
   "execution_count": null,
   "id": "1616b88b",
   "metadata": {},
   "outputs": [],
   "source": [
    "from sklearn.utils import resample\n",
    "# Separate majority and minority classes\n",
    "df_majority = ml_data[ml_data.spn_5246==0]\n",
    "df_minority = ml_data[ml_data.spn_5246==1]\n",
    " \n",
    "# Downsample majority class\n",
    "df_majority_downsampled = resample(df_majority, \n",
    "                                 replace=False,    # sample without replacement\n",
    "                                 n_samples=2000,     # to match minority class\n",
    "                                 random_state=123) # reproducible results\n",
    " \n",
    "# Combine minority class with downsampled majority class\n",
    "df_downsampled = pd.concat([df_majority_downsampled, df_minority])\n",
    " \n",
    "# Display new class counts\n",
    "df_downsampled.spn_5246.value_counts()"
   ]
  },
  {
   "cell_type": "code",
   "execution_count": null,
   "id": "d9b11235",
   "metadata": {},
   "outputs": [],
   "source": [
    "X = df_downsampled.drop(columns=['spn_5246', 'EventTimeStamp'])\n",
    "\n",
    "y = df_downsampled['spn_5246']\n",
    "\n",
    "X_train, X_test, y_train, y_test = train_test_split(X, y,test_size=.25, random_state = 321)"
   ]
  },
  {
   "cell_type": "code",
   "execution_count": null,
   "id": "9617aa12",
   "metadata": {},
   "outputs": [],
   "source": [
    "pipe = Pipeline(\n",
    "    steps = [('scaler', StandardScaler()),\n",
    "             ('model', LinearSVC(max_iter=50000))\n",
    "            ]\n",
    ")\n",
    "\n",
    "pipe.fit(X_train, y_train)"
   ]
  },
  {
   "cell_type": "code",
   "execution_count": null,
   "id": "e2c20fad",
   "metadata": {},
   "outputs": [],
   "source": [
    "print(classification_report(y_test, pipe.predict(X_test)))"
   ]
  },
  {
   "cell_type": "code",
   "execution_count": null,
   "id": "fa9b5819",
   "metadata": {},
   "outputs": [],
   "source": [
    "from cm import plot_confusion_matrix"
   ]
  },
  {
   "cell_type": "code",
   "execution_count": null,
   "id": "65ddaffc",
   "metadata": {},
   "outputs": [],
   "source": [
    "plot_confusion_matrix(y_test, pipe.predict(X_test), labels = ['No Derate', 'Derate'])"
   ]
  },
  {
   "cell_type": "code",
   "execution_count": null,
   "id": "c4013504",
   "metadata": {},
   "outputs": [],
   "source": [
    "X1 = ml_data.drop(columns=['spn_5246', 'EventTimeStamp'])\n",
    "\n",
    "y1 = ml_data['spn_5246']\n",
    "\n",
    "X1_train, X1_test, y1_train, y1_test = train_test_split(X1, y1,test_size=.25, random_state = 321)"
   ]
  },
  {
   "cell_type": "code",
   "execution_count": null,
   "id": "9604c967",
   "metadata": {},
   "outputs": [],
   "source": [
    "plot_confusion_matrix(y1_test, pipe.predict(X1_test), labels = ['No Derate', 'Derate'])"
   ]
  },
  {
   "cell_type": "code",
   "execution_count": null,
   "id": "0794f7f4",
   "metadata": {},
   "outputs": [],
   "source": [
    "print(classification_report(y1_test, pipe.predict(X1_test)))"
   ]
  },
  {
   "cell_type": "code",
   "execution_count": null,
   "id": "10605e1f",
   "metadata": {},
   "outputs": [],
   "source": [
    "from sklearn.linear_model import LogisticRegression\n",
    "from sklearn.feature_selection import VarianceThreshold"
   ]
  },
  {
   "cell_type": "code",
   "execution_count": null,
   "id": "648befd2",
   "metadata": {},
   "outputs": [],
   "source": [
    "log_pipe = Pipeline(\n",
    "    steps = [('vt', VarianceThreshold()),\n",
    "             ('scaler', StandardScaler()),\n",
    "             ('model', LogisticRegression())\n",
    "            ]\n",
    ")\n",
    "\n",
    "log_pipe.fit(X_train, y_train)"
   ]
  },
  {
   "cell_type": "code",
   "execution_count": null,
   "id": "92a6a5cd",
   "metadata": {},
   "outputs": [],
   "source": [
    "plot_confusion_matrix(y_test, log_pipe.predict(X_test), labels = ['No Derate', 'Derate'])"
   ]
  },
  {
   "cell_type": "code",
   "execution_count": null,
   "id": "b76ea698",
   "metadata": {},
   "outputs": [],
   "source": [
    "plot_confusion_matrix(y1_test, log_pipe.predict(X1_test), labels = ['No Derate', 'Derate'])"
   ]
  },
  {
   "cell_type": "code",
   "execution_count": null,
   "id": "3f9fdb94",
   "metadata": {},
   "outputs": [],
   "source": [
    "from sklearn.ensemble import RandomForestClassifier"
   ]
  },
  {
   "cell_type": "code",
   "execution_count": null,
   "id": "7d2b5412",
   "metadata": {},
   "outputs": [],
   "source": [
    "#rolling_test.to_pickle('../data/rolling_df.pkl')"
   ]
  },
  {
   "cell_type": "code",
   "execution_count": null,
   "id": "861d5253",
   "metadata": {},
   "outputs": [],
   "source": []
  },
  {
   "cell_type": "code",
   "execution_count": null,
   "id": "c0edede0",
   "metadata": {},
   "outputs": [],
   "source": []
  },
  {
   "cell_type": "code",
   "execution_count": null,
   "id": "dcc31768",
   "metadata": {},
   "outputs": [],
   "source": []
  },
  {
   "cell_type": "code",
   "execution_count": null,
   "id": "26060a64",
   "metadata": {},
   "outputs": [],
   "source": []
  },
  {
   "cell_type": "code",
   "execution_count": null,
   "id": "e1e548eb",
   "metadata": {},
   "outputs": [],
   "source": []
  }
 ],
 "metadata": {
  "kernelspec": {
   "display_name": "Python 3 (ipykernel)",
   "language": "python",
   "name": "python3"
  },
  "language_info": {
   "codemirror_mode": {
    "name": "ipython",
    "version": 3
   },
   "file_extension": ".py",
   "mimetype": "text/x-python",
   "name": "python",
   "nbconvert_exporter": "python",
   "pygments_lexer": "ipython3",
   "version": "3.9.16"
  }
 },
 "nbformat": 4,
 "nbformat_minor": 5
}
