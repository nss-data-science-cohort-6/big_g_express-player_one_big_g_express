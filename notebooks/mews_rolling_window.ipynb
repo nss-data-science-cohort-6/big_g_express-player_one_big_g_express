{
 "cells": [
  {
   "cell_type": "code",
   "execution_count": null,
   "id": "8dd00edb",
   "metadata": {},
   "outputs": [],
   "source": [
    "import pandas as pd\n",
    "import numpy as np\n",
    "import pickle\n",
    "\n",
    "from sklearn.impute import SimpleImputer"
   ]
  },
  {
   "cell_type": "code",
   "execution_count": null,
   "id": "4962ef9b",
   "metadata": {},
   "outputs": [],
   "source": [
    "on_faults = pd.read_pickle('../data/on_faults.pkl')"
   ]
  },
  {
   "cell_type": "code",
   "execution_count": null,
   "id": "abdac1a5",
   "metadata": {},
   "outputs": [],
   "source": [
    "# Drop rows where fault light is being turned off\n",
    "on_faults = on_faults.loc[on_faults['active'] == True].reset_index(drop = True)"
   ]
  },
  {
   "cell_type": "code",
   "execution_count": null,
   "id": "dc756a3b",
   "metadata": {
    "scrolled": true
   },
   "outputs": [],
   "source": [
    "# FuelTemperature, ServiceDistance, and SwitchedBatteryVoltage columns are more than 50% nulls, dropping them\n",
    "on_faults = (\n",
    "    on_faults.drop(columns = ['FuelTemperature', 'ServiceDistance', 'SwitchedBatteryVoltage'])\n",
    ")\n",
    "\n",
    "# Drop some other columns that we won't aggregate via rolling window\n",
    "on_faults = (\n",
    "    on_faults.drop(columns = ['RecordID', 'ESS_Id', 'active', 'eventDescription', 'MCTNumber', \n",
    "                              'Latitude', 'Longitude', 'EventDate', 'EventTime', 'LocationTimeStamp', \n",
    "                              'LocationDate', 'MonthYear', 'LocationTime', 'dist_A', 'dist_B', 'dist_C'])\n",
    ")"
   ]
  },
  {
   "cell_type": "code",
   "execution_count": null,
   "id": "5389e4a1",
   "metadata": {
    "scrolled": true
   },
   "outputs": [],
   "source": [
    "# Impute most common values for the binary Cruise Control and Parking Brake\n",
    "on_faults[['CruiseControlActive', 'ParkingBrake']] = (\n",
    "    SimpleImputer(strategy='most_frequent')\n",
    "    .fit_transform(on_faults[['CruiseControlActive', 'ParkingBrake']])\n",
    ")"
   ]
  },
  {
   "cell_type": "code",
   "execution_count": null,
   "id": "55a865c3",
   "metadata": {},
   "outputs": [],
   "source": [
    "# Make the True/False columns have numerical rather than string values\n",
    "on_faults = on_faults.replace({'CruiseControlActive': {'True': 1, 'False': 0},\n",
    "                               'IgnStatus' : {'True': 1, 'False': 0},\n",
    "                               'ParkingBrake' : {'True': 1, 'False': 0}})"
   ]
  },
  {
   "cell_type": "code",
   "execution_count": null,
   "id": "52323a4a",
   "metadata": {},
   "outputs": [],
   "source": [
    "# To help with amount of memory used, reduce integer columns to int16\n",
    "int_cols=['ecuSource', 'spn', 'fmi', 'activeTransitionCount', 'IgnStatus', 'CruiseControlActive', 'ParkingBrake']\n",
    "\n",
    "on_faults[int_cols] = on_faults[int_cols].astype('int16')"
   ]
  },
  {
   "cell_type": "code",
   "execution_count": null,
   "id": "6fa22c64",
   "metadata": {},
   "outputs": [],
   "source": [
    "# Create a month column as we suspect some seasonal contribution to derates\n",
    "on_faults['month'] = on_faults['EventTimeStamp'].dt.strftime('%b')"
   ]
  },
  {
   "cell_type": "code",
   "execution_count": null,
   "id": "7fc9a057",
   "metadata": {},
   "outputs": [],
   "source": [
    "#on_faults['spn-fmi'] = on_faults['spn'].astype(str) + '-' + on_faults['fmi'].astype(str)"
   ]
  },
  {
   "cell_type": "code",
   "execution_count": null,
   "id": "f0ff538b",
   "metadata": {},
   "outputs": [],
   "source": [
    "# Clean up entries in the ecuMake column\n",
    "\n",
    "on_faults['ecuMake'] = (\n",
    "    on_faults['ecuMake']\n",
    "    .str.replace('?MMNS', 'CMMNS', regex=False)\n",
    "    .str.replace('??MNS', 'CMMNS', regex=False)\n",
    "    .str.replace('????R', 'PACCR', regex=False)\n",
    "    .str.replace('?ACCR', 'PACCR', regex=False)\n",
    "    .str.replace('???CR', 'PACCR', regex=False)\n",
    "    .str.replace('?CAR', 'PCAR', regex=False)\n",
    "    .str.replace('?NDWS', 'BNDWS', regex=False)\n",
    "    .str.replace('?ATON', 'EATON', regex=False)\n",
    ")\n",
    "\n",
    "missing_cmmns = ['6X1u13D1500000000', '6X1u17D1500000000']\n",
    "\n",
    "on_faults.loc[(on_faults['ecuMake']=='????S')\n",
    "              &\n",
    "              (on_faults['ecuModel'].isin(missing_cmmns)), 'ecuMake'\n",
    "             ] = 'CMMNS'\n",
    "\n",
    "on_faults.loc[(on_faults['ecuMake']=='?????')\n",
    "              &\n",
    "              (on_faults['ecuModel'].isin(missing_cmmns)), 'ecuMake'\n",
    "             ] = 'CMMNS'\n",
    "\n",
    "on_faults.loc[(on_faults['ecuMake']=='?????')\n",
    "              &\n",
    "              (on_faults['ecuModel']=='CECU3B-NAMUX4'), 'ecuMake'] = 'PACCR'\n",
    "\n",
    "missing_bndws = ['EC60-adv', 'EC80ESP']\n",
    "\n",
    "on_faults.loc[(on_faults['ecuMake']=='?????')\n",
    "              &\n",
    "              (on_faults['ecuModel'].isin(missing_bndws)), 'ecuMake'\n",
    "             ] = 'BNDWS'\n",
    "\n",
    "on_faults.loc[(on_faults['ecuMake']=='????S')\n",
    "              &\n",
    "              (on_faults['ecuModel'].isin(missing_bndws)), 'ecuMake'\n",
    "             ] = 'BNDWS'\n",
    "\n",
    "on_faults.loc[(on_faults['ecuMake']=='?????')\n",
    "              &\n",
    "              (on_faults['ecuModel'] == '0USA13_13_0415_2238A'), 'ecuMake'\n",
    "             ] = 'VOLVO'\n",
    "\n",
    "on_faults.loc[(on_faults['ecuMake']=='?????')\n",
    "              &\n",
    "              (on_faults['ecuModel'] == 'EEO-xxF112C'), 'ecuMake'\n",
    "             ] = 'EATON'"
   ]
  },
  {
   "cell_type": "code",
   "execution_count": null,
   "id": "760f1111",
   "metadata": {
    "scrolled": true
   },
   "outputs": [],
   "source": [
    "on_faults.info()"
   ]
  },
  {
   "cell_type": "code",
   "execution_count": null,
   "id": "f57be6c1",
   "metadata": {},
   "outputs": [],
   "source": [
    "on_faults = on_faults.sort_values(['EquipmentID', 'EventTimeStamp']).reset_index(drop=True)"
   ]
  },
  {
   "cell_type": "code",
   "execution_count": null,
   "id": "812064d6",
   "metadata": {
    "scrolled": false
   },
   "outputs": [],
   "source": [
    "# Back fill and forward fill what null values we can using the same truck's data sorted by time\n",
    "on_faults = on_faults.groupby('EquipmentID', group_keys=False).apply(lambda x: x.ffill().bfill())"
   ]
  },
  {
   "cell_type": "code",
   "execution_count": null,
   "id": "a78bf4a6",
   "metadata": {
    "scrolled": false
   },
   "outputs": [],
   "source": [
    "# If we decide to drop instances when the same truck has the same fault in the same second, that would happen here\n",
    "(\n",
    "    on_faults\n",
    "    .loc[~on_faults.duplicated(subset = ['EquipmentID', 'EventTimeStamp', 'spn', 'fmi'], keep = 'last')]\n",
    "    .reset_index(drop=True)\n",
    ")"
   ]
  },
  {
   "cell_type": "markdown",
   "id": "d893451b",
   "metadata": {},
   "source": [
    "### Shift to prep for rolling window function"
   ]
  },
  {
   "cell_type": "code",
   "execution_count": null,
   "id": "65bfd6c5",
   "metadata": {
    "scrolled": true
   },
   "outputs": [],
   "source": [
    "# pull out just the columns wanted for the rolling function\n",
    "roll_prep = on_faults[[ 'EquipmentID', 'EventTimeStamp', 'ecuMake', 'month', 'spn', 'AcceleratorPedal', \n",
    "                     'BarometricPressure', 'CruiseControlActive', 'CruiseControlSetSpeed', 'DistanceLtd', \n",
    "                     'EngineCoolantTemperature', 'EngineLoad', 'EngineOilPressure', 'EngineOilTemperature', \n",
    "                     'EngineRpm', 'EngineTimeLtd', 'FuelLevel', 'FuelLtd', 'FuelRate', 'IgnStatus', \n",
    "                     'IntakeManifoldTemperature', 'LampStatus', 'Speed',  'Throttle', 'TurboBoostPressure']]\n"
   ]
  },
  {
   "cell_type": "code",
   "execution_count": null,
   "id": "5db86003",
   "metadata": {
    "scrolled": true
   },
   "outputs": [],
   "source": [
    "# impute remaining missing values in numerical columns using the overall median\n",
    "cols_to_impute = ['AcceleratorPedal', 'BarometricPressure', 'CruiseControlSetSpeed', 'DistanceLtd', \n",
    "                  'EngineCoolantTemperature', 'EngineLoad', 'EngineOilPressure', 'EngineOilTemperature', \n",
    "                  'EngineRpm', 'EngineTimeLtd', 'FuelLevel', 'FuelLtd', 'FuelRate', 'IntakeManifoldTemperature',\n",
    "                  'Speed', 'Throttle', 'TurboBoostPressure']\n",
    "\n",
    "roll_prep[cols_to_impute] = SimpleImputer(strategy='median').fit_transform(roll_prep[cols_to_impute])\n",
    "\n"
   ]
  },
  {
   "cell_type": "code",
   "execution_count": null,
   "id": "245e5577",
   "metadata": {},
   "outputs": [],
   "source": [
    "# Only column with some remaining nulls (fewer than 100 rows) is the ecuMake column\n",
    "roll_prep.info()"
   ]
  },
  {
   "cell_type": "code",
   "execution_count": null,
   "id": "b1eca97a",
   "metadata": {
    "scrolled": true
   },
   "outputs": [],
   "source": [
    "# Get dummy columns for categorical features\n",
    "roll_prep = (pd.get_dummies(data = roll_prep, columns =['ecuMake', 'spn', 'month'])\n",
    "           .sort_values(['EquipmentID', 'EventTimeStamp'])\n",
    "           .reset_index(drop = True)\n",
    "          )\n",
    "\n",
    "roll_prep.info()"
   ]
  },
  {
   "cell_type": "code",
   "execution_count": null,
   "id": "9bf5c0d4",
   "metadata": {},
   "outputs": [],
   "source": [
    "# Create dictionaries to direct the rolling function on how to aggregate different columns\n",
    "\n",
    "# Sum the different fault columns to get a total number of each fault type\n",
    "sum_cols = ['spn_-32642', 'spn_-30009', 'spn_-29519', 'spn_-28271', 'spn_-26443', 'spn_-23346', 'spn_-22448', 'spn_-19274',\n",
    "            'spn_-18252', 'spn_-16209', 'spn_-15183', 'spn_-13613', 'spn_-11578', 'spn_-11058', 'spn_-9033', 'spn_-4087', \n",
    "            'spn_-4085', 'spn_-4017', 'spn_-4015', 'spn_-4014', 'spn_-3990', 'spn_-3986', 'spn_-3958', 'spn_-3875', 'spn_-3335',\n",
    "            'spn_-3256', 'spn_-758', 'spn_-757', 'spn_-745', 'spn_-255', 'spn_-251', 'spn_-249', 'spn_-234', 'spn_-233', \n",
    "            'spn_-217', 'spn_-1', 'spn_0', 'spn_16', 'spn_27', 'spn_33', 'spn_37', 'spn_38', 'spn_51', 'spn_70', 'spn_74', \n",
    "            'spn_75', 'spn_77', 'spn_78', 'spn_81', 'spn_84', 'spn_91', 'spn_92', 'spn_94', 'spn_95', 'spn_96', 'spn_97', \n",
    "            'spn_98', 'spn_100', 'spn_101', 'spn_102', 'spn_103', 'spn_105', 'spn_107', 'spn_108', 'spn_110', 'spn_111', \n",
    "            'spn_116', 'spn_118', 'spn_125', 'spn_127', 'spn_153', 'spn_157', 'spn_158', 'spn_160', 'spn_167', 'spn_168', \n",
    "            'spn_171', 'spn_173', 'spn_174', 'spn_175', 'spn_177', 'spn_184', 'spn_188', 'spn_190', 'spn_191', 'spn_228', \n",
    "            'spn_235', 'spn_236', 'spn_237', 'spn_245', 'spn_247', 'spn_248', 'spn_251', 'spn_252', 'spn_255', 'spn_256', \n",
    "            'spn_411', 'spn_412', 'spn_441', 'spn_442', 'spn_444', 'spn_512', 'spn_522', 'spn_525', 'spn_558', 'spn_560', \n",
    "            'spn_563', 'spn_576', 'spn_577', 'spn_578', 'spn_583', 'spn_596', 'spn_603', 'spn_609', 'spn_611', 'spn_612', \n",
    "            'spn_614', 'spn_624', 'spn_627', 'spn_628', 'spn_629', 'spn_630', 'spn_632', 'spn_633', 'spn_636', 'spn_639', \n",
    "            'spn_641', 'spn_647', 'spn_649', 'spn_651', 'spn_652', 'spn_653', 'spn_654', 'spn_655', 'spn_656', 'spn_677', \n",
    "            'spn_705', 'spn_709', 'spn_723', 'spn_729', 'spn_751', 'spn_752', 'spn_767', 'spn_768', 'spn_781', 'spn_788', \n",
    "            'spn_789', 'spn_790', 'spn_791', 'spn_792', 'spn_793', 'spn_794', 'spn_795', 'spn_796', 'spn_797', 'spn_798', \n",
    "            'spn_799',  'spn_800', 'spn_801', 'spn_802', 'spn_803', 'spn_805', 'spn_806', 'spn_807', 'spn_810', 'spn_811', \n",
    "            'spn_829', 'spn_830', 'spn_862', 'spn_886', 'spn_904', 'spn_905', 'spn_906', 'spn_907', 'spn_917', 'spn_929', \n",
    "            'spn_932',  'spn_933', 'spn_934', 'spn_937', 'spn_938', 'spn_939', 'spn_940', 'spn_941', 'spn_976', 'spn_1023', \n",
    "            'spn_1024', 'spn_1028', 'spn_1043', 'spn_1045', 'spn_1056', 'spn_1059', 'spn_1067', 'spn_1068', 'spn_1071', \n",
    "            'spn_1072', 'spn_1075', 'spn_1078', 'spn_1081', 'spn_1127', 'spn_1172', 'spn_1176', 'spn_1209', 'spn_1213', \n",
    "            'spn_1231',  'spn_1235', 'spn_1236', 'spn_1239', 'spn_1247', 'spn_1279', 'spn_1321', 'spn_1322', 'spn_1323', \n",
    "            'spn_1324', 'spn_1325', 'spn_1326', 'spn_1327', 'spn_1328', 'spn_1347', 'spn_1349', 'spn_1464', 'spn_1481', \n",
    "            'spn_1482', 'spn_1483', 'spn_1487', 'spn_1569', 'spn_1612', 'spn_1659', 'spn_1668', 'spn_1675', 'spn_1761', \n",
    "            'spn_1787', 'spn_1807', 'spn_1808', 'spn_1809', 'spn_1815', 'spn_2000', 'spn_2017', 'spn_2023', 'spn_2029', \n",
    "            'spn_2579', 'spn_2623',  'spn_2629', 'spn_2630', 'spn_2659', 'spn_2791', 'spn_2795', 'spn_2863', 'spn_2866', \n",
    "            'spn_2912', 'spn_2917', 'spn_3031', 'spn_3058', 'spn_3060', 'spn_3064', 'spn_3216', 'spn_3217', 'spn_3218', \n",
    "            'spn_3222', 'spn_3226', 'spn_3227', 'spn_3228', 'spn_3241', 'spn_3242', 'spn_3245', 'spn_3246', 'spn_3249', \n",
    "            'spn_3251', 'spn_3253', 'spn_3360', 'spn_3361', 'spn_3362', 'spn_3363', 'spn_3364', 'spn_3464', 'spn_3480', \n",
    "            'spn_3482', 'spn_3490', 'spn_3509', 'spn_3510', 'spn_3511', 'spn_3512', 'spn_3513', 'spn_3514', 'spn_3515', \n",
    "            'spn_3521', 'spn_3556', 'spn_3583', 'spn_3584', 'spn_3597', 'spn_3605', 'spn_3610', 'spn_3663', 'spn_3695', \n",
    "            'spn_3696', 'spn_3697', 'spn_3698', 'spn_3703', 'spn_3720', 'spn_3821', 'spn_3936', 'spn_4094', 'spn_4095', \n",
    "            'spn_4096', 'spn_4219', 'spn_4220', 'spn_4276', 'spn_4331', 'spn_4334', 'spn_4339', 'spn_4340', 'spn_4342', \n",
    "            'spn_4344', 'spn_4346', 'spn_4349', 'spn_4354', 'spn_4356', 'spn_4360', 'spn_4363', 'spn_4364', 'spn_4375', \n",
    "            'spn_4376', 'spn_4380', 'spn_4382', 'spn_4607', 'spn_4752', 'spn_4765', 'spn_4766', 'spn_4792', 'spn_4794', \n",
    "            'spn_4795', 'spn_4796', 'spn_4811', 'spn_4812', 'spn_4813', 'spn_5018', 'spn_5019', 'spn_5024', 'spn_5031', \n",
    "            'spn_5052', 'spn_5109', 'spn_5110', 'spn_5111', 'spn_5112', 'spn_5113', 'spn_5114', 'spn_5115', 'spn_5116', \n",
    "            'spn_5117', 'spn_5245', 'spn_5246', 'spn_5298', 'spn_5319', 'spn_5321', 'spn_5357', 'spn_5392', 'spn_5394', \n",
    "            'spn_5395', 'spn_5396', 'spn_5397', 'spn_5442', 'spn_5443', 'spn_5444', 'spn_5485', 'spn_5491', 'spn_5569', \n",
    "            'spn_5571', 'spn_5579', 'spn_5585', 'spn_5614', 'spn_5615', 'spn_5616', 'spn_5625', 'spn_5742', 'spn_5743', \n",
    "            'spn_5745', 'spn_5746', 'spn_5835', 'spn_5848', 'spn_5851', 'spn_5853', 'spn_5862', 'spn_5902', 'spn_5903', \n",
    "            'spn_5909', 'spn_5939', 'spn_5941', 'spn_5942', 'spn_5953', 'spn_6145', 'spn_6146', 'spn_6147', 'spn_6148', \n",
    "            'spn_6713', 'spn_6773', 'spn_6780', 'spn_6802', 'spn_7321', 'spn_7323', 'spn_7360', 'spn_7827', 'spn_7847', \n",
    "            'spn_7854', 'spn_8224', 'spn_9295', 'spn_10803', 'spn_12596', 'spn_13600', 'spn_17096', 'spn_17590', 'spn_22585', \n",
    "            'spn_22859', 'spn_25780', 'spn_29902', 'spn_32000',]\n",
    "\n",
    "# Take the mean of most diagnostic parameters\n",
    "mean_cols = ['AcceleratorPedal', 'BarometricPressure', 'CruiseControlSetSpeed', 'EngineCoolantTemperature', \n",
    "             'EngineLoad', 'EngineOilPressure', 'EngineOilTemperature', 'EngineRpm', 'FuelLevel', \n",
    "             'FuelLtd', 'FuelRate', 'IntakeManifoldTemperature', 'Speed', 'Throttle', 'TurboBoostPressure',]\n",
    "\n",
    "# Get a count of how many timestamps are present in the time frame\n",
    "count_cols = ['EventTimeStamp']\n",
    "\n",
    "# Take the max value to indicate the month and make and to get the final value for binary parameters and engine time/mileage\n",
    "max_cols = ['ecuMake_5516014', 'ecuMake_?????MX', 'ecuMake_?????MX16U13D13', 'ecuMake_BNDWS', 'ecuMake_CMMNS', \n",
    "             'ecuMake_EATON', 'ecuMake_PACCR', 'ecuMake_PCAR', 'ecuMake_VOLVO', 'ecuMake_unknown', 'IgnStatus', 'LampStatus',\n",
    "             'CruiseControlActive', 'EngineTimeLtd', 'DistanceLtd', 'month_Apr', 'month_Aug', 'month_Dec', 'month_Feb', \n",
    "             'month_Jan', 'month_Jul', 'month_Jun', 'month_Mar', 'month_May', 'month_Nov', 'month_Oct', 'month_Sep', ]"
   ]
  },
  {
   "cell_type": "code",
   "execution_count": null,
   "id": "813de03b",
   "metadata": {},
   "outputs": [],
   "source": [
    "d1 = dict.fromkeys(sum_cols, 'sum')\n",
    "d2 = dict.fromkeys(mean_cols, 'mean')\n",
    "d3 = dict.fromkeys(count_cols, 'count')\n",
    "d4 = dict.fromkeys(max_cols, 'max')\n",
    "pre_roll_dict = {**d1, **d2, **d4}\n",
    "agg_dict = {**d1, **d2, **d3, **d4}"
   ]
  },
  {
   "cell_type": "code",
   "execution_count": null,
   "id": "ffe1d4e3",
   "metadata": {
    "scrolled": true
   },
   "outputs": [],
   "source": [
    "# At this stage, will need to group together faults that occurred in the same truck at the exact same time\n",
    "\n",
    "roll_prep = roll_prep.groupby(['EquipmentID', 'EventTimeStamp']).agg(pre_roll_dict).reset_index()"
   ]
  },
  {
   "cell_type": "code",
   "execution_count": null,
   "id": "eaa8f7dd",
   "metadata": {},
   "outputs": [],
   "source": [
    "rolling_df = (roll_prep\n",
    "                .groupby('EquipmentID')\n",
    "                .rolling(window = '1D', on = 'EventTimeStamp')\n",
    "                .agg(agg_dict))"
   ]
  },
  {
   "cell_type": "code",
   "execution_count": null,
   "id": "9be90161",
   "metadata": {},
   "outputs": [],
   "source": [
    "rolling_df = rolling_df.rename(columns = {'EventTimeStamp' : 'faults_in_period'})\n",
    "\n",
    "rolling_df = rolling_df.reset_index()"
   ]
  },
  {
   "cell_type": "code",
   "execution_count": null,
   "id": "83b2df22",
   "metadata": {},
   "outputs": [],
   "source": [
    "rolling_df"
   ]
  },
  {
   "cell_type": "code",
   "execution_count": null,
   "id": "5e4ce2c2",
   "metadata": {},
   "outputs": [],
   "source": [
    "derate_times = (\n",
    "    on_faults\n",
    "    .loc[on_faults['spn'] == 5246][['EquipmentID', 'EventTimeStamp']]\n",
    "    .rename(columns = {'EventTimeStamp' : 'derateTime'})\n",
    ")"
   ]
  },
  {
   "cell_type": "code",
   "execution_count": null,
   "id": "83f278a1",
   "metadata": {},
   "outputs": [],
   "source": [
    "rolling_df1 = (\n",
    "    pd.merge(rolling_df, derate_times[['EquipmentID', 'derateTime']], how = 'left', \n",
    "             left_on = ['EquipmentID', 'EventTimeStamp'], \n",
    "             right_on = ['EquipmentID', 'derateTime'])\n",
    ")"
   ]
  },
  {
   "cell_type": "code",
   "execution_count": null,
   "id": "d581b394",
   "metadata": {},
   "outputs": [],
   "source": [
    "rolling_df1['date'] = rolling_df1['EventTimeStamp'].dt.date"
   ]
  },
  {
   "cell_type": "code",
   "execution_count": null,
   "id": "856baba5",
   "metadata": {},
   "outputs": [],
   "source": [
    "rolling_df1['derateTime_ff'] = rolling_df1.groupby('EquipmentID')['derateTime'].ffill()"
   ]
  },
  {
   "cell_type": "code",
   "execution_count": null,
   "id": "63c52d90",
   "metadata": {
    "scrolled": true
   },
   "outputs": [],
   "source": [
    "rolling_df1['derateTime_bf'] = rolling_df1.groupby('EquipmentID')['derateTime'].bfill()"
   ]
  },
  {
   "cell_type": "code",
   "execution_count": null,
   "id": "e7cbef25",
   "metadata": {
    "scrolled": false
   },
   "outputs": [],
   "source": [
    "rolling_df1[['EquipmentID', 'date', 'EventTimeStamp', 'spn_5246', 'derateTime', 'derateTime_ff','derateTime_bf']].iloc[4440:4500, :]"
   ]
  },
  {
   "cell_type": "markdown",
   "id": "70181dc4",
   "metadata": {},
   "source": [
    "We will need to calculate both a time until next derate column and a time since last derate column. From there, we need to decide which rows to throw out when values in each of these columns are within a certain time frame, potentially. Or do we just throw out subsequent derates that occur within a certain time period of the first?\n",
    "\n",
    "We also, more broadly, decide how to classify rows that fall just after a first derate of the day. Will these still be considered \"hits\" for our target variable? How shortly after the first derate should they be?\n",
    "\n",
    "Target variable hit/miss will be determined by time until (and since?) derate."
   ]
  },
  {
   "cell_type": "code",
   "execution_count": null,
   "id": "eee2accf",
   "metadata": {},
   "outputs": [],
   "source": [
    "rolling_df1.loc[rolling_df1['spn_5246'] <= 1].reset_index(drop=True)"
   ]
  },
  {
   "cell_type": "code",
   "execution_count": null,
   "id": "103f697b",
   "metadata": {},
   "outputs": [],
   "source": [
    "rolling_df1['timeSinceDerate'] = rolling_df1['EventTimeStamp'] - rolling_df1['derateTime_ff']"
   ]
  },
  {
   "cell_type": "code",
   "execution_count": null,
   "id": "c31184d4",
   "metadata": {},
   "outputs": [],
   "source": [
    "rolling_df1['timeUntilDerate'] = rolling_df1['derateTime_bf'] - rolling_df1['EventTimeStamp']"
   ]
  },
  {
   "cell_type": "code",
   "execution_count": null,
   "id": "b74abf1d",
   "metadata": {},
   "outputs": [],
   "source": [
    "rolling_df2 =  rolling_df1.drop(columns = ['derateTime', 'date', 'derateTime_bf', 'derateTime_ff'])"
   ]
  },
  {
   "cell_type": "code",
   "execution_count": null,
   "id": "7d2b5412",
   "metadata": {},
   "outputs": [],
   "source": [
    "#rolling_df2.to_pickle('../data/model_data.pkl')"
   ]
  },
  {
   "cell_type": "code",
   "execution_count": null,
   "id": "e1e548eb",
   "metadata": {},
   "outputs": [],
   "source": []
  }
 ],
 "metadata": {
  "kernelspec": {
   "display_name": "Python 3 (ipykernel)",
   "language": "python",
   "name": "python3"
  },
  "language_info": {
   "codemirror_mode": {
    "name": "ipython",
    "version": 3
   },
   "file_extension": ".py",
   "mimetype": "text/x-python",
   "name": "python",
   "nbconvert_exporter": "python",
   "pygments_lexer": "ipython3",
   "version": "3.9.16"
  }
 },
 "nbformat": 4,
 "nbformat_minor": 5
}
