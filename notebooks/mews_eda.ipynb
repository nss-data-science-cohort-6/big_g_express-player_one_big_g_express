{
 "cells": [
  {
   "cell_type": "code",
   "execution_count": null,
   "id": "38227058",
   "metadata": {},
   "outputs": [],
   "source": [
    "import pandas as pd\n",
    "import numpy as np\n",
    "import plotly.express as px"
   ]
  },
  {
   "cell_type": "markdown",
   "id": "60e9ba4d",
   "metadata": {},
   "source": [
    "### Read in the faults data"
   ]
  },
  {
   "cell_type": "code",
   "execution_count": null,
   "id": "34b2cc4b",
   "metadata": {
    "scrolled": true
   },
   "outputs": [],
   "source": [
    "faults = pd.read_csv('../data/J1939Faults.csv')\n",
    "\n",
    "# Drop columns with all null values\n",
    "faults = faults.drop(columns = ['actionDescription', 'faultValue'])"
   ]
  },
  {
   "cell_type": "code",
   "execution_count": null,
   "id": "8b385250",
   "metadata": {},
   "outputs": [],
   "source": [
    "faults"
   ]
  },
  {
   "cell_type": "code",
   "execution_count": null,
   "id": "f6be04d5",
   "metadata": {
    "scrolled": false
   },
   "outputs": [],
   "source": [
    "faults.info()"
   ]
  },
  {
   "cell_type": "code",
   "execution_count": null,
   "id": "fac52f93",
   "metadata": {},
   "outputs": [],
   "source": [
    "# Convert to datetime\n",
    "faults['EventTimeStamp'] = pd.to_datetime(faults['EventTimeStamp'])\n",
    "\n",
    "faults['LocationTimeStamp'] = pd.to_datetime(faults['LocationTimeStamp'])"
   ]
  },
  {
   "cell_type": "code",
   "execution_count": null,
   "id": "9190e658",
   "metadata": {},
   "outputs": [],
   "source": [
    "# Split out date and time\n",
    "faults['EventDate'], faults['EventTime'] = faults['EventTimeStamp'].dt.normalize(), faults['EventTimeStamp'].dt.time\n",
    "\n",
    "faults['LocationDate'], faults['LocationTime'] = faults['LocationTimeStamp'].dt.normalize(), faults['LocationTimeStamp'].dt.time\n",
    "\n",
    "faults"
   ]
  },
  {
   "cell_type": "markdown",
   "id": "1503c1be",
   "metadata": {},
   "source": [
    "### Read in the onboard diagnostic info"
   ]
  },
  {
   "cell_type": "code",
   "execution_count": null,
   "id": "0451c3ff",
   "metadata": {},
   "outputs": [],
   "source": [
    "onboard = pd.read_csv('../data/VehicleDiagnosticOnboardData.csv')\n",
    "\n",
    "# The Id column is not meaningful for us, dropping it\n",
    "onboard = onboard.drop(columns = 'Id')"
   ]
  },
  {
   "cell_type": "code",
   "execution_count": null,
   "id": "7d6978c8",
   "metadata": {
    "scrolled": true
   },
   "outputs": [],
   "source": [
    "onboard"
   ]
  },
  {
   "cell_type": "code",
   "execution_count": null,
   "id": "6aa74e07",
   "metadata": {
    "scrolled": true
   },
   "outputs": [],
   "source": [
    "onboard.info()"
   ]
  },
  {
   "cell_type": "code",
   "execution_count": null,
   "id": "d2506dfa",
   "metadata": {},
   "outputs": [],
   "source": [
    "# Pivot the dataframe so each FaultId is one row\n",
    "onboard = pd.pivot(onboard, index = ['FaultId'], values = 'Value', columns = ['Name']).reset_index()\n",
    "\n",
    "onboard.info()"
   ]
  },
  {
   "cell_type": "markdown",
   "id": "99c7c2e2",
   "metadata": {},
   "source": [
    "### Read in the Service Fault Codes detailed info"
   ]
  },
  {
   "cell_type": "code",
   "execution_count": null,
   "id": "2ca61c2b",
   "metadata": {},
   "outputs": [],
   "source": [
    "codes = pd.read_excel('../data/ServiceFaultCodes.xlsx')"
   ]
  },
  {
   "cell_type": "code",
   "execution_count": null,
   "id": "e27c567c",
   "metadata": {
    "scrolled": true
   },
   "outputs": [],
   "source": [
    "codes"
   ]
  },
  {
   "cell_type": "markdown",
   "id": "d5502230",
   "metadata": {},
   "source": [
    "### Pull together the faults and onboad data tables"
   ]
  },
  {
   "cell_type": "code",
   "execution_count": null,
   "id": "aea7fb26",
   "metadata": {
    "scrolled": true
   },
   "outputs": [],
   "source": [
    "on_faults = (\n",
    "    pd.merge(faults, onboard, left_on = 'RecordID', right_on = 'FaultId')\n",
    "    .drop(columns = 'FaultId')\n",
    ")\n",
    "on_faults"
   ]
  },
  {
   "cell_type": "code",
   "execution_count": null,
   "id": "6fc64692",
   "metadata": {},
   "outputs": [],
   "source": [
    "# What is the date range of this data?\n",
    "on_faults['EventDate'].describe(datetime_is_numeric=True)\n",
    "\n",
    "# 3/18/2000 - 3/6/2020, but it looks like we have 3 rows that have a future date attached to them"
   ]
  },
  {
   "cell_type": "code",
   "execution_count": null,
   "id": "dc7ab222",
   "metadata": {},
   "outputs": [],
   "source": [
    "# Filtering out the future dates\n",
    "on_faults = on_faults.loc[on_faults['EventDate'] <= '2020-03-06'].reset_index(drop = True)"
   ]
  },
  {
   "cell_type": "code",
   "execution_count": null,
   "id": "abd96145",
   "metadata": {},
   "outputs": [],
   "source": [
    "# per the stakeholder, get rid of the rows where the EquipmentID is more than 5 characters\n",
    "on_faults = on_faults.loc[on_faults['EquipmentID'].astype(str).str.len() <= 5]"
   ]
  },
  {
   "cell_type": "code",
   "execution_count": null,
   "id": "57967d42",
   "metadata": {},
   "outputs": [],
   "source": [
    "# looking for duplicate records\n",
    "on_faults.loc[on_faults['RecordID'].duplicated()] \n",
    "\n",
    "# There are none"
   ]
  },
  {
   "cell_type": "code",
   "execution_count": null,
   "id": "7494fafb",
   "metadata": {
    "scrolled": false
   },
   "outputs": [],
   "source": [
    "# Plot total faults by date\n",
    "df = on_faults.groupby('EventDate').agg(total_faults = ('RecordID', 'count')).reset_index()\n",
    "\n",
    "\n",
    "fig = px.scatter(df, x='EventDate', y='total_faults')\n",
    "fig.show()"
   ]
  },
  {
   "cell_type": "code",
   "execution_count": null,
   "id": "12fa9d59",
   "metadata": {
    "scrolled": false
   },
   "outputs": [],
   "source": [
    "# Plot unique trucks having issues by date\n",
    "df = on_faults.groupby('EventDate').agg(total_faults = ('EquipmentID', 'nunique')).reset_index()\n",
    "\n",
    "\n",
    "fig = px.scatter(df, x='EventDate', y='total_faults')\n",
    "fig.show()"
   ]
  },
  {
   "cell_type": "code",
   "execution_count": null,
   "id": "281d2349",
   "metadata": {},
   "outputs": [],
   "source": [
    "on_faults.loc[on_faults['EventDate'] < '2015-01-01']"
   ]
  },
  {
   "cell_type": "code",
   "execution_count": null,
   "id": "f6879827",
   "metadata": {
    "scrolled": true
   },
   "outputs": [],
   "source": [
    "# Doing some aggregations by truck ID\n",
    "truck_overview = (\n",
    "    on_faults\n",
    "    .groupby('EquipmentID')\n",
    "    .agg(total_faults = ('RecordID', 'count'),\n",
    "         unique_faults = ('spn', 'nunique'),\n",
    "         min_date = ('EventDate', 'min'),\n",
    "         max_date = ('EventDate', 'max'),\n",
    "         unique_dates = ('EventDate', 'nunique'))\n",
    "    .reset_index()\n",
    ")\n",
    "\n",
    "\n",
    "truck_overview['timespan'] = truck_overview['max_date'] - truck_overview['min_date']\n",
    "\n",
    "truck_overview.describe(datetime_is_numeric=True)"
   ]
  },
  {
   "cell_type": "code",
   "execution_count": null,
   "id": "01209009",
   "metadata": {
    "scrolled": false
   },
   "outputs": [],
   "source": [
    "df = truck_overview\n",
    "fig = px.histogram(df, \n",
    "                   x=\"total_faults\",\n",
    "                   marginal=\"box\",\n",
    "                   hover_data=df.columns)\n",
    "fig.show()"
   ]
  },
  {
   "cell_type": "code",
   "execution_count": null,
   "id": "c412542e",
   "metadata": {},
   "outputs": [],
   "source": [
    "df = truck_overview\n",
    "fig = px.histogram(df, \n",
    "                   x=\"unique_faults\",\n",
    "                   marginal=\"box\",\n",
    "                   hover_data=df.columns).update_traces(marker=dict(color='red'))\n",
    "fig.show()"
   ]
  },
  {
   "cell_type": "code",
   "execution_count": null,
   "id": "15d85011",
   "metadata": {},
   "outputs": [],
   "source": [
    "df = truck_overview\n",
    "fig = px.histogram(df, \n",
    "                   x=\"unique_dates\",\n",
    "                   marginal=\"box\",\n",
    "                   hover_data=df.columns).update_traces(marker=dict(color='green'))\n",
    "fig.show()"
   ]
  },
  {
   "cell_type": "code",
   "execution_count": null,
   "id": "ecd41a78",
   "metadata": {
    "scrolled": true
   },
   "outputs": [],
   "source": [
    "df = truck_overview\n",
    "fig = px.histogram(df, \n",
    "                   x=\"timespan\",\n",
    "                   marginal=\"box\",\n",
    "                   hover_data=df.columns).update_traces(marker=dict(color='yellow'))\n",
    "fig.show()"
   ]
  },
  {
   "cell_type": "markdown",
   "id": "ea560120",
   "metadata": {},
   "source": [
    "### Taking a look at full derates"
   ]
  },
  {
   "cell_type": "code",
   "execution_count": null,
   "id": "982863c3",
   "metadata": {},
   "outputs": [],
   "source": [
    "# Filter down to only include full derates\n",
    "full_derates = on_faults.loc[on_faults['spn'] == 5246]\n",
    "\n",
    "\n",
    "\n",
    "# Filter out faults where the light is going off\n",
    "full_derates = full_derates.loc[on_faults['active'] == True].reset_index(drop = True)\n",
    "\n",
    "\n",
    "full_derates"
   ]
  },
  {
   "cell_type": "markdown",
   "id": "b820f680",
   "metadata": {},
   "source": [
    "There are 603 instances of full rates that fit the criteria of 5 or fewer characters for the truck ID and the fault line going on instead of off"
   ]
  },
  {
   "cell_type": "code",
   "execution_count": null,
   "id": "66f79f7a",
   "metadata": {
    "scrolled": false
   },
   "outputs": [],
   "source": [
    "# Taking a look at each truck that has had a full derate, how many unique timestamps each is associated with\n",
    "(\n",
    "    full_derates\n",
    "    .groupby('EquipmentID')\n",
    "    ['EventTimeStamp'].nunique()\n",
    "    .to_frame()\n",
    "    .reset_index()\n",
    "    .rename(columns = {'EventTimeStamp' : 'date_count'})\n",
    "    .sort_values('date_count', ascending = False)\n",
    "    #.head(12)\n",
    ")"
   ]
  },
  {
   "cell_type": "markdown",
   "id": "5640b3f5",
   "metadata": {},
   "source": [
    "217 trucks experienced full derates, 12 of those trucks experienced 10 or more derates"
   ]
  },
  {
   "cell_type": "code",
   "execution_count": null,
   "id": "42bca2d5",
   "metadata": {},
   "outputs": [],
   "source": [
    "# Taking a look at the timestamps for the truck with the largest number of unique timestamps\n",
    "full_derates.loc[full_derates['EquipmentID'] == 1524]['EventTimeStamp'].unique()\n",
    "\n",
    "# It appears that this truck had multiple instances of multiple derates on the same day"
   ]
  },
  {
   "cell_type": "code",
   "execution_count": null,
   "id": "bc24eabc",
   "metadata": {},
   "outputs": [],
   "source": []
  }
 ],
 "metadata": {
  "kernelspec": {
   "display_name": "Python 3 (ipykernel)",
   "language": "python",
   "name": "python3"
  },
  "language_info": {
   "codemirror_mode": {
    "name": "ipython",
    "version": 3
   },
   "file_extension": ".py",
   "mimetype": "text/x-python",
   "name": "python",
   "nbconvert_exporter": "python",
   "pygments_lexer": "ipython3",
   "version": "3.9.12"
  }
 },
 "nbformat": 4,
 "nbformat_minor": 5
}
