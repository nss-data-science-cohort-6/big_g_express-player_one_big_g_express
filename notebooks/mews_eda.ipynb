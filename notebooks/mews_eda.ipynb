{
 "cells": [
  {
   "cell_type": "code",
   "execution_count": null,
   "id": "904b176b",
   "metadata": {},
   "outputs": [],
   "source": [
    "import pandas as pd\n",
    "import numpy as np\n",
    "import pickle\n",
    "\n",
    "import plotly.express as px"
   ]
  },
  {
   "cell_type": "markdown",
   "id": "6fd393f0",
   "metadata": {},
   "source": [
    "### Read in the Service Fault Codes detailed info and do some EDA"
   ]
  },
  {
   "cell_type": "code",
   "execution_count": null,
   "id": "d2010e48",
   "metadata": {},
   "outputs": [],
   "source": [
    "codes = pd.read_excel('../data/ServiceFaultCodes.xlsx')"
   ]
  },
  {
   "cell_type": "code",
   "execution_count": null,
   "id": "5891232b",
   "metadata": {
    "scrolled": false
   },
   "outputs": [],
   "source": [
    "codes"
   ]
  },
  {
   "cell_type": "code",
   "execution_count": null,
   "id": "629724a4",
   "metadata": {},
   "outputs": [],
   "source": [
    "codes.columns"
   ]
  },
  {
   "cell_type": "code",
   "execution_count": null,
   "id": "9c80627f",
   "metadata": {
    "scrolled": true
   },
   "outputs": [],
   "source": [
    "# look at codes relating to exhaust\n",
    "codes.loc[codes['Cummins Description'].str.contains('Exhaust')]\n",
    "\n",
    "# there are 915(!) of them"
   ]
  },
  {
   "cell_type": "code",
   "execution_count": null,
   "id": "afb9c40e",
   "metadata": {
    "scrolled": true
   },
   "outputs": [],
   "source": [
    "# look at codes relating to fuel\n",
    "codes.loc[codes['Cummins Description'].str.contains('Fuel')]\n",
    "\n",
    "# there are 574 of them"
   ]
  },
  {
   "cell_type": "code",
   "execution_count": null,
   "id": "6426216e",
   "metadata": {},
   "outputs": [],
   "source": [
    "# look at codes relating to fuel filter\n",
    "codes.loc[codes['Cummins Description'].str.contains('Fuel Filter')]\n",
    "\n",
    "# there are 15 of them"
   ]
  },
  {
   "cell_type": "markdown",
   "id": "64352389",
   "metadata": {},
   "source": [
    "### Read in the pickle file of combined and filtered data and so some EDA"
   ]
  },
  {
   "cell_type": "code",
   "execution_count": null,
   "id": "cd9d996f",
   "metadata": {},
   "outputs": [],
   "source": [
    "on_faults = pd.read_pickle('../data/on_faults.pkl')"
   ]
  },
  {
   "cell_type": "code",
   "execution_count": null,
   "id": "164a15a9",
   "metadata": {},
   "outputs": [],
   "source": [
    "on_faults.info()"
   ]
  },
  {
   "cell_type": "markdown",
   "id": "891530e2",
   "metadata": {},
   "source": [
    "#### Looking at fault events over time"
   ]
  },
  {
   "cell_type": "code",
   "execution_count": null,
   "id": "a19c23c0",
   "metadata": {
    "scrolled": false
   },
   "outputs": [],
   "source": [
    "# Plot total faults by date\n",
    "df = on_faults.groupby('EventDate').agg(total_faults = ('RecordID', 'count')).reset_index()\n",
    "\n",
    "\n",
    "fig = px.scatter(df, x='EventDate', y='total_faults')\n",
    "fig.show()"
   ]
  },
  {
   "cell_type": "code",
   "execution_count": null,
   "id": "e8a9e3d1",
   "metadata": {
    "scrolled": false
   },
   "outputs": [],
   "source": [
    "# Plot unique trucks having issues by date\n",
    "df = on_faults.groupby('EventDate').agg(total_faults = ('EquipmentID', 'nunique')).reset_index()\n",
    "\n",
    "\n",
    "fig = px.scatter(df, x='EventDate', y='total_faults')\n",
    "fig.show()"
   ]
  },
  {
   "cell_type": "markdown",
   "id": "622fc33e",
   "metadata": {},
   "source": [
    "#### Now doing some aggregations by fault type"
   ]
  },
  {
   "cell_type": "code",
   "execution_count": null,
   "id": "684d310c",
   "metadata": {},
   "outputs": [],
   "source": [
    "on_faults.columns"
   ]
  },
  {
   "cell_type": "code",
   "execution_count": null,
   "id": "de1ac5ca",
   "metadata": {},
   "outputs": [],
   "source": [
    "fault_overview = (\n",
    "    on_faults\n",
    "    .groupby(['spn', 'fmi'])\n",
    "    .agg(total_occurrences = ('RecordID', 'count'),\n",
    "         unique_trucks = ('EquipmentID', 'nunique'),\n",
    "         min_date = ('EventDate', 'min'),\n",
    "         max_date = ('EventDate', 'max'),\n",
    "         unique_dates = ('EventDate', 'nunique'))\n",
    "    .reset_index()\n",
    ")\n",
    "\n",
    "\n",
    "fault_overview['timespan'] = fault_overview['max_date'] -fault_overview['min_date']\n",
    "\n",
    "fault_overview[['total_occurrences', 'unique_trucks', \n",
    "                'min_date', 'max_date', \n",
    "                'unique_dates', 'timespan']].describe(datetime_is_numeric=True)"
   ]
  },
  {
   "cell_type": "code",
   "execution_count": null,
   "id": "81114b0c",
   "metadata": {},
   "outputs": [],
   "source": [
    "fault_overview.sort_values('total_occurrences', ascending = False).head(10)"
   ]
  },
  {
   "cell_type": "code",
   "execution_count": null,
   "id": "5c585187",
   "metadata": {
    "scrolled": true
   },
   "outputs": [],
   "source": [
    "on_faults.loc[((on_faults['spn'] == 929)\n",
    "             &\n",
    "              (on_faults['fmi'] == 9))\n",
    "             |\n",
    "              ((on_faults['spn'] == 111)\n",
    "             &\n",
    "              (on_faults['fmi'] == 17))]\n",
    "\n",
    "# There are 2 faults that account for nearly half of the data set"
   ]
  },
  {
   "cell_type": "code",
   "execution_count": null,
   "id": "680af2ca",
   "metadata": {},
   "outputs": [],
   "source": [
    "# Removing the above faults since they are likely just to cause a lot of \"noise\" in the analysis\n",
    "final_faults = on_faults.loc[~(((on_faults['spn'] == 929)\n",
    "                              &\n",
    "                              (on_faults['fmi'] == 9))\n",
    "                             |\n",
    "                             ((on_faults['spn'] == 111)\n",
    "                              &\n",
    "                              (on_faults['fmi'] == 17)))].reset_index(drop = True)"
   ]
  },
  {
   "cell_type": "code",
   "execution_count": null,
   "id": "51316e70",
   "metadata": {
    "scrolled": true
   },
   "outputs": [],
   "source": [
    "final_faults.info()"
   ]
  },
  {
   "cell_type": "code",
   "execution_count": null,
   "id": "3022e8c6",
   "metadata": {},
   "outputs": [],
   "source": [
    "# Redo faults overview\n",
    "fault_overview = (\n",
    "    final_faults\n",
    "    .groupby(['spn', 'fmi'])\n",
    "    .agg(total_occurrences = ('RecordID', 'count'),\n",
    "         unique_trucks = ('EquipmentID', 'nunique'),\n",
    "         min_date = ('EventDate', 'min'),\n",
    "         max_date = ('EventDate', 'max'),\n",
    "         unique_dates = ('EventDate', 'nunique'))\n",
    "    .reset_index()\n",
    ")\n",
    "\n",
    "\n",
    "fault_overview['timespan'] = fault_overview['max_date'] -fault_overview['min_date']\n",
    "\n",
    "fault_overview[['total_occurrences', 'unique_trucks', \n",
    "                'min_date', 'max_date', \n",
    "                'unique_dates', 'timespan']].describe(datetime_is_numeric=True)"
   ]
  },
  {
   "cell_type": "markdown",
   "id": "ced73d8c",
   "metadata": {},
   "source": [
    "#### Doing some aggregations by truck ID"
   ]
  },
  {
   "cell_type": "code",
   "execution_count": null,
   "id": "bd1fef8c",
   "metadata": {
    "scrolled": true
   },
   "outputs": [],
   "source": [
    "truck_overview = (\n",
    "    final_faults\n",
    "    .groupby('EquipmentID')\n",
    "    .agg(total_faults = ('RecordID', 'count'),\n",
    "         unique_faults = ('spn', 'nunique'),\n",
    "         min_date = ('EventDate', 'min'),\n",
    "         max_date = ('EventDate', 'max'),\n",
    "         unique_dates = ('EventDate', 'nunique'))\n",
    "    .reset_index()\n",
    ")\n",
    "\n",
    "\n",
    "truck_overview['timespan'] = truck_overview['max_date'] - truck_overview['min_date']\n",
    "\n",
    "truck_overview.describe(datetime_is_numeric=True)"
   ]
  },
  {
   "cell_type": "code",
   "execution_count": null,
   "id": "d4443418",
   "metadata": {
    "scrolled": false
   },
   "outputs": [],
   "source": [
    "df = truck_overview\n",
    "fig = px.histogram(df, \n",
    "                   x=\"total_faults\",\n",
    "                   marginal=\"box\",\n",
    "                   hover_data=df.columns)\n",
    "fig.show()"
   ]
  },
  {
   "cell_type": "code",
   "execution_count": null,
   "id": "2cec8972",
   "metadata": {},
   "outputs": [],
   "source": [
    "df = truck_overview\n",
    "fig = px.histogram(df, \n",
    "                   x=\"unique_faults\",\n",
    "                   marginal=\"box\",\n",
    "                   hover_data=df.columns).update_traces(marker=dict(color='red'))\n",
    "fig.show()"
   ]
  },
  {
   "cell_type": "code",
   "execution_count": null,
   "id": "1b578bdf",
   "metadata": {},
   "outputs": [],
   "source": [
    "df = truck_overview\n",
    "fig = px.histogram(df, \n",
    "                   x=\"unique_dates\",\n",
    "                   marginal=\"box\",\n",
    "                   hover_data=df.columns).update_traces(marker=dict(color='green'))\n",
    "fig.show()"
   ]
  },
  {
   "cell_type": "code",
   "execution_count": null,
   "id": "99543edf",
   "metadata": {
    "scrolled": false
   },
   "outputs": [],
   "source": [
    "df = truck_overview\n",
    "fig = px.histogram(df, \n",
    "                   x=\"timespan\",\n",
    "                   marginal=\"box\",\n",
    "                   hover_data=df.columns).update_traces(marker=dict(color='yellow'))\n",
    "fig.show()"
   ]
  },
  {
   "cell_type": "markdown",
   "id": "4f3538ab",
   "metadata": {},
   "source": [
    "### Taking a look at full derates"
   ]
  },
  {
   "cell_type": "code",
   "execution_count": null,
   "id": "bcdef570",
   "metadata": {
    "scrolled": true
   },
   "outputs": [],
   "source": [
    "# Filter down to only include full derates\n",
    "full_derates = final_faults.loc[final_faults['spn'] == 5246]\n",
    "\n",
    "\n",
    "\n",
    "# Filter out faults where the light is going off\n",
    "full_derates = full_derates.loc[full_derates['active'] == True].reset_index(drop = True)\n",
    "\n",
    "\n",
    "full_derates"
   ]
  },
  {
   "cell_type": "markdown",
   "id": "c828bc3c",
   "metadata": {},
   "source": [
    "There are 493 instances of full rates that fit all the filtering criteria"
   ]
  },
  {
   "cell_type": "code",
   "execution_count": null,
   "id": "9d3ad360",
   "metadata": {
    "scrolled": true
   },
   "outputs": [],
   "source": [
    "# Lets look only at the first full derate for a given truck on a given day\n",
    "full_derates = full_derates.sort_values(['EquipmentID', 'EventTimeStamp'])\n",
    "\n",
    "full_derates.loc[~full_derates.duplicated(['EquipmentID', 'EventDate'], keep = 'first')][['EquipmentID', 'EventDate']]"
   ]
  },
  {
   "cell_type": "markdown",
   "id": "84e443e2",
   "metadata": {},
   "source": [
    "Dropping instances of repeated full derates for a given truck in a given day, we drop down to 383 occurrences"
   ]
  },
  {
   "cell_type": "code",
   "execution_count": null,
   "id": "6064d0a9",
   "metadata": {
    "scrolled": false
   },
   "outputs": [],
   "source": [
    "# Taking a look at each truck that has had a full derate, how many unique timestamps each is associated with\n",
    "truck_fd = (\n",
    "    full_derates\n",
    "    .groupby('EquipmentID')\n",
    "    ['EventTimeStamp'].nunique()\n",
    "    .to_frame()\n",
    "    .reset_index()\n",
    "    .rename(columns = {'EventTimeStamp' : 'date_count'})\n",
    "    .sort_values('date_count', ascending = False)\n",
    "    #.head(10)\n",
    ")\n",
    "\n",
    "truck_fd"
   ]
  },
  {
   "cell_type": "markdown",
   "id": "2fbbe328",
   "metadata": {},
   "source": [
    "194 trucks experienced full derates, 8 of those trucks experienced 10 or more derates"
   ]
  },
  {
   "cell_type": "code",
   "execution_count": null,
   "id": "0212adeb",
   "metadata": {
    "scrolled": true
   },
   "outputs": [],
   "source": [
    "# Taking a look at the timestamps for the truck with the largest number of unique timestamps\n",
    "full_derates.loc[full_derates['EquipmentID'] == 1524]#['EventTimeStamp'].unique()\n",
    "\n",
    "# It appears that this truck had multiple instances of multiple derates on the same day as well as derates separated\n",
    "# by just a few days to a few weeks, all 32 derates occurred in a span of right about 6 months"
   ]
  },
  {
   "cell_type": "code",
   "execution_count": null,
   "id": "70de1aa7",
   "metadata": {},
   "outputs": [],
   "source": [
    "df = (\n",
    "    full_derates\n",
    "    .groupby('EquipmentID')\n",
    "    ['EventDate'].nunique()\n",
    "    .to_frame()\n",
    "    .reset_index()\n",
    "    .rename(columns = {'EventDate' : 'unique_dates'})\n",
    "    .sort_values('unique_dates', ascending = False)\n",
    ")\n",
    "\n",
    "fig = px.histogram(df, \n",
    "                   x=\"unique_dates\",\n",
    "                   marginal=\"box\",\n",
    "                   hover_data=df.columns).update_traces(marker=dict(color='green'))\n",
    "fig.show()"
   ]
  },
  {
   "cell_type": "markdown",
   "id": "598cb235",
   "metadata": {},
   "source": [
    "### Now look at partial derates"
   ]
  },
  {
   "cell_type": "code",
   "execution_count": null,
   "id": "bb563ff8",
   "metadata": {},
   "outputs": [],
   "source": [
    "# Filter down to only include full derates\n",
    "partial_derates = final_faults.loc[(final_faults['spn'] == 1569)\n",
    "                                &\n",
    "                                (final_faults['fmi'] == 31)]\n",
    "\n",
    "\n",
    "\n",
    "# Filter out faults where the light is going off\n",
    "partial_derates = partial_derates.loc[partial_derates['active'] == True].reset_index(drop = True)\n",
    "\n",
    "\n",
    "partial_derates"
   ]
  },
  {
   "cell_type": "markdown",
   "id": "707bf893",
   "metadata": {},
   "source": [
    "There are 5,062 instances that fit all filtering criteria"
   ]
  },
  {
   "cell_type": "code",
   "execution_count": null,
   "id": "5fc85eda",
   "metadata": {
    "scrolled": true
   },
   "outputs": [],
   "source": [
    "truck_pd = (\n",
    "    partial_derates\n",
    "    .groupby('EquipmentID')\n",
    "    ['EventTimeStamp'].nunique()\n",
    "    .to_frame()\n",
    "    .reset_index()\n",
    "    .rename(columns = {'EventTimeStamp' : 'date_count'})\n",
    "    .sort_values('date_count', ascending = False)\n",
    "    #.head(42)\n",
    ")\n",
    "\n",
    "truck_pd"
   ]
  },
  {
   "cell_type": "markdown",
   "id": "129620d9",
   "metadata": {},
   "source": [
    "There are 548 trucks that experienced partial derates, 41 of which experienced 25 or more"
   ]
  },
  {
   "cell_type": "code",
   "execution_count": null,
   "id": "67bb4b19",
   "metadata": {
    "scrolled": false
   },
   "outputs": [],
   "source": [
    "df = (\n",
    "    partial_derates\n",
    "    .groupby('EquipmentID')\n",
    "    ['EventDate'].nunique()\n",
    "    .to_frame()\n",
    "    .reset_index()\n",
    "    .rename(columns = {'EventDate' : 'unique_dates'})\n",
    "    .sort_values('unique_dates', ascending = False)\n",
    ")\n",
    "\n",
    "fig = px.histogram(df, \n",
    "                   x=\"unique_dates\",\n",
    "                   marginal=\"box\",\n",
    "                   hover_data=df.columns).update_traces(marker=dict(color='green'))\n",
    "fig.show()"
   ]
  },
  {
   "cell_type": "code",
   "execution_count": null,
   "id": "f783f469",
   "metadata": {},
   "outputs": [],
   "source": [
    "# How many trucks that experienced full derates also experienced partial derates?\n",
    "truck_bd = truck_fd.loc[truck_fd['EquipmentID'].isin(truck_pd['EquipmentID'])]\n",
    "\n",
    "len(truck_bd)\n",
    "# 163 of the 194"
   ]
  },
  {
   "cell_type": "code",
   "execution_count": null,
   "id": "2a4bf22b",
   "metadata": {
    "scrolled": false
   },
   "outputs": [],
   "source": [
    "timing = (\n",
    "    final_faults.loc[(final_faults['EquipmentID'].isin(truck_bd['EquipmentID']))\n",
    "                     &\n",
    "                     ((final_faults['spn'] == 5246)\n",
    "                      |\n",
    "                      ((final_faults['spn'] == 1569)\n",
    "                       &\n",
    "                       (final_faults['fmi'] == 31)))]\n",
    "    .loc[final_faults['active'] == True]\n",
    "    [['EquipmentID', 'EventDate','EventTime', 'spn', 'fmi']]\n",
    "    .sort_values(by = ['EquipmentID', 'EventDate', 'EventTime'])\n",
    "    .reset_index(drop = True)\n",
    ")\n",
    "\n",
    "timing"
   ]
  },
  {
   "cell_type": "code",
   "execution_count": null,
   "id": "d752fdb1",
   "metadata": {},
   "outputs": [],
   "source": [
    "timing = timing.loc[~timing.duplicated(['EquipmentID', 'EventDate', 'spn', 'fmi'], keep = 'first')].reset_index(drop = True)"
   ]
  },
  {
   "cell_type": "code",
   "execution_count": null,
   "id": "6a1aba3b",
   "metadata": {},
   "outputs": [],
   "source": [
    "timing_sameday = timing.loc[timing.duplicated(['EquipmentID', 'EventDate'], keep=False)]\n",
    "\n",
    "timing_sameday"
   ]
  },
  {
   "cell_type": "code",
   "execution_count": null,
   "id": "55a3e546",
   "metadata": {},
   "outputs": [],
   "source": [
    "# When a partial derate and full derate occur in the same day, which occurs first?\n",
    "\n",
    "sameday_firsts = timing_sameday.loc[timing_sameday.duplicated(['EquipmentID', 'EventDate'], keep = 'last')]\n",
    "\n",
    "sameday_firsts['spn'].value_counts()\n",
    "\n",
    "# This happens 178 times, partial derate occurs first 153 times"
   ]
  },
  {
   "cell_type": "code",
   "execution_count": null,
   "id": "92ef017c",
   "metadata": {
    "scrolled": true
   },
   "outputs": [],
   "source": [
    "timing_sameday['EventTime'] = [pd.to_timedelta(x) for x in timing_sameday['EventTime'].astype(str)]"
   ]
  },
  {
   "cell_type": "code",
   "execution_count": null,
   "id": "0b01c8ea",
   "metadata": {},
   "outputs": [],
   "source": [
    "timing_sameday['dif'] = timing_sameday.groupby(['EquipmentID', 'EventDate'])['EventTime'].diff()"
   ]
  },
  {
   "cell_type": "code",
   "execution_count": null,
   "id": "12b69872",
   "metadata": {
    "scrolled": true
   },
   "outputs": [],
   "source": [
    "weirds = timing_sameday.loc[~timing_sameday['dif'].isna()].loc[timing_sameday['spn'] == 1569].sort_values('dif').tail(20)\n",
    "\n",
    "weirds"
   ]
  },
  {
   "cell_type": "markdown",
   "id": "8a30c837",
   "metadata": {},
   "source": [
    "The timing difference between the first instance of a full derate or partial derate and the subsequent first occurrence of the other code on the same day can be as little as 0 time and just over 20 hours"
   ]
  },
  {
   "cell_type": "code",
   "execution_count": null,
   "id": "bb0cb60e",
   "metadata": {
    "scrolled": true
   },
   "outputs": [],
   "source": [
    "(final_faults.loc[(final_faults['EquipmentID'].isin(weirds['EquipmentID']))\n",
    "                  & \n",
    "                 ((final_faults['spn'] == 5246)\n",
    "                  |\n",
    "                  ((final_faults['spn'] == 1569) \n",
    "                  &\n",
    "                  (final_faults['fmi'] == 31)))\n",
    "                 & (final_faults['EventDate'].isin(weirds['EventDate']))]\n",
    " .sort_values(['EquipmentID', 'EventTimeStamp'])\n",
    " [['EquipmentID', 'EventTimeStamp', 'spn', 'active']]\n",
    " .head(60)\n",
    ")"
   ]
  },
  {
   "cell_type": "markdown",
   "id": "3b55d98b",
   "metadata": {},
   "source": [
    "### Now lets look at all the faults for the trucks with full derates"
   ]
  },
  {
   "cell_type": "code",
   "execution_count": null,
   "id": "15b6a13a",
   "metadata": {},
   "outputs": [],
   "source": [
    "final_faults['EquipmentID'].nunique()"
   ]
  },
  {
   "cell_type": "code",
   "execution_count": null,
   "id": "d5e049fc",
   "metadata": {
    "scrolled": true
   },
   "outputs": [],
   "source": [
    "final_faults_fd = final_faults.loc[final_faults['EquipmentID'].isin(truck_fd['EquipmentID'])]\n",
    "\n",
    "final_faults_fd\n",
    "# ~23.5% of the filtered fault records are attributible to trucks that had full derates, 11.05% of all trucks in the df"
   ]
  },
  {
   "cell_type": "code",
   "execution_count": null,
   "id": "014d8fee",
   "metadata": {},
   "outputs": [],
   "source": [
    "final_faults_fd_overview = (\n",
    "    final_faults_fd\n",
    "    .groupby(['spn', 'fmi'])\n",
    "    .agg(total_occurrences = ('RecordID', 'count'),\n",
    "         unique_trucks = ('EquipmentID', 'nunique'),\n",
    "         min_date = ('EventDate', 'min'),\n",
    "         max_date = ('EventDate', 'max'),\n",
    "         unique_dates = ('EventDate', 'nunique'))\n",
    "    .reset_index(drop=False)\n",
    "    .sort_values('total_occurrences', ascending=False)\n",
    ")\n",
    "\n",
    "final_faults_fd_overview['proportion'] = final_faults_fd_overview['total_occurrences']/len(final_faults_fd)\n",
    "\n",
    "final_faults_fd_overview.head(20)"
   ]
  },
  {
   "cell_type": "code",
   "execution_count": null,
   "id": "0c75d314",
   "metadata": {},
   "outputs": [],
   "source": [
    "fault_overview['proportion'] = fault_overview['total_occurrences']/len(final_faults)\n",
    "\n",
    "fault_overview.sort_values('total_occurrences', ascending=False).head(20)"
   ]
  },
  {
   "cell_type": "code",
   "execution_count": null,
   "id": "bae15972",
   "metadata": {},
   "outputs": [],
   "source": [
    "final_faults.loc[(final_faults['spn'] == 1068)\n",
    "                 &\n",
    "                 (final_faults['fmi'] == 2)]"
   ]
  },
  {
   "cell_type": "code",
   "execution_count": null,
   "id": "58dcf13b",
   "metadata": {},
   "outputs": [],
   "source": []
  },
  {
   "cell_type": "code",
   "execution_count": null,
   "id": "052198d8",
   "metadata": {},
   "outputs": [],
   "source": []
  }
 ],
 "metadata": {
  "kernelspec": {
   "display_name": "Python 3 (ipykernel)",
   "language": "python",
   "name": "python3"
  },
  "language_info": {
   "codemirror_mode": {
    "name": "ipython",
    "version": 3
   },
   "file_extension": ".py",
   "mimetype": "text/x-python",
   "name": "python",
   "nbconvert_exporter": "python",
   "pygments_lexer": "ipython3",
   "version": "3.9.12"
  }
 },
 "nbformat": 4,
 "nbformat_minor": 5
}
