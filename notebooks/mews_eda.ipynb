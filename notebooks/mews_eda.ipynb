{
 "cells": [
  {
   "cell_type": "code",
   "execution_count": null,
   "id": "904b176b",
   "metadata": {},
   "outputs": [],
   "source": [
    "import pandas as pd\n",
    "import numpy as np\n",
    "import pickle\n",
    "\n",
    "import plotly.express as px"
   ]
  },
  {
   "cell_type": "markdown",
   "id": "6fd393f0",
   "metadata": {},
   "source": [
    "### Read in the Service Fault Codes detailed info and do some EDA"
   ]
  },
  {
   "cell_type": "code",
   "execution_count": null,
   "id": "d2010e48",
   "metadata": {},
   "outputs": [],
   "source": [
    "codes = pd.read_excel('../data/ServiceFaultCodes.xlsx')"
   ]
  },
  {
   "cell_type": "code",
   "execution_count": null,
   "id": "5891232b",
   "metadata": {
    "scrolled": false
   },
   "outputs": [],
   "source": [
    "codes"
   ]
  },
  {
   "cell_type": "code",
   "execution_count": null,
   "id": "0c3a2ce9",
   "metadata": {},
   "outputs": [],
   "source": [
    "codes.columns"
   ]
  },
  {
   "cell_type": "code",
   "execution_count": null,
   "id": "e7e72a16",
   "metadata": {
    "scrolled": true
   },
   "outputs": [],
   "source": [
    "# look at codes relating to exhaust\n",
    "codes.loc[codes['Cummins Description'].str.contains('Exhaust')]\n",
    "\n",
    "# there are 915(!) of them"
   ]
  },
  {
   "cell_type": "code",
   "execution_count": null,
   "id": "3198ccba",
   "metadata": {
    "scrolled": true
   },
   "outputs": [],
   "source": [
    "# look at codes relating to fuel\n",
    "codes.loc[codes['Cummins Description'].str.contains('Fuel')]\n",
    "\n",
    "# there are 574 of them"
   ]
  },
  {
   "cell_type": "code",
   "execution_count": null,
   "id": "4b3438f9",
   "metadata": {},
   "outputs": [],
   "source": [
    "# look at codes relating to fuel filter\n",
    "codes.loc[codes['Cummins Description'].str.contains('Fuel Filter')]\n",
    "\n",
    "# there are 15 of them"
   ]
  },
  {
   "cell_type": "markdown",
   "id": "64352389",
   "metadata": {},
   "source": [
    "### Read in the pickle file of combined and filtered data and so some EDA"
   ]
  },
  {
   "cell_type": "code",
   "execution_count": null,
   "id": "3dd53386",
   "metadata": {},
   "outputs": [],
   "source": [
    "on_faults = pd.read_pickle('../data/on_faults.pkl')"
   ]
  },
  {
   "cell_type": "code",
   "execution_count": null,
   "id": "ef01574b",
   "metadata": {},
   "outputs": [],
   "source": [
    "on_faults.info()"
   ]
  },
  {
   "cell_type": "markdown",
   "id": "c7d2fc8a",
   "metadata": {},
   "source": [
    "#### Looking at fault events over time"
   ]
  },
  {
   "cell_type": "code",
   "execution_count": null,
   "id": "a19c23c0",
   "metadata": {
    "scrolled": false
   },
   "outputs": [],
   "source": [
    "# Plot total faults by date\n",
    "df = on_faults.groupby('EventDate').agg(total_faults = ('RecordID', 'count')).reset_index()\n",
    "\n",
    "\n",
    "fig = px.scatter(df, x='EventDate', y='total_faults')\n",
    "fig.show()"
   ]
  },
  {
   "cell_type": "code",
   "execution_count": null,
   "id": "e8a9e3d1",
   "metadata": {
    "scrolled": false
   },
   "outputs": [],
   "source": [
    "# Plot unique trucks having issues by date\n",
    "df = on_faults.groupby('EventDate').agg(total_faults = ('EquipmentID', 'nunique')).reset_index()\n",
    "\n",
    "\n",
    "fig = px.scatter(df, x='EventDate', y='total_faults')\n",
    "fig.show()"
   ]
  },
  {
   "cell_type": "markdown",
   "id": "cb43fe41",
   "metadata": {},
   "source": [
    "#### Now doing some aggregations by fault type"
   ]
  },
  {
   "cell_type": "code",
   "execution_count": null,
   "id": "736403b3",
   "metadata": {},
   "outputs": [],
   "source": [
    "on_faults.columns"
   ]
  },
  {
   "cell_type": "code",
   "execution_count": null,
   "id": "50cf0c20",
   "metadata": {},
   "outputs": [],
   "source": [
    "fault_overview = (\n",
    "    on_faults\n",
    "    .groupby(['spn', 'fmi'])\n",
    "    .agg(total_occurrences = ('RecordID', 'count'),\n",
    "         unique_trucks = ('EquipmentID', 'nunique'),\n",
    "         min_date = ('EventDate', 'min'),\n",
    "         max_date = ('EventDate', 'max'),\n",
    "         unique_dates = ('EventDate', 'nunique'))\n",
    "    .reset_index()\n",
    ")\n",
    "\n",
    "\n",
    "fault_overview['timespan'] = fault_overview['max_date'] -fault_overview['min_date']\n",
    "\n",
    "fault_overview[['total_occurrences', 'unique_trucks', \n",
    "                'min_date', 'max_date', \n",
    "                'unique_dates', 'timespan']].describe(datetime_is_numeric=True)"
   ]
  },
  {
   "cell_type": "code",
   "execution_count": null,
   "id": "5ee49e36",
   "metadata": {},
   "outputs": [],
   "source": [
    "fault_overview.sort_values('total_occurrences', ascending = False).head(5)"
   ]
  },
  {
   "cell_type": "code",
   "execution_count": null,
   "id": "ad6f6a6f",
   "metadata": {
    "scrolled": true
   },
   "outputs": [],
   "source": [
    "on_faults.loc[((on_faults['spn'] == 929)\n",
    "             &\n",
    "              (on_faults['fmi'] == 9))\n",
    "             |\n",
    "              ((on_faults['spn'] == 111)\n",
    "             &\n",
    "              (on_faults['fmi'] == 17))]\n",
    "\n",
    "# There are 2 faults that account for nearly half of the data set"
   ]
  },
  {
   "cell_type": "code",
   "execution_count": null,
   "id": "0eeb47c2",
   "metadata": {},
   "outputs": [],
   "source": [
    "# Removing the above faults since they are likely just to cause a lot of \"noise\" in the analysis\n",
    "final_faults = on_faults.loc[~(((on_faults['spn'] == 929)\n",
    "                              &\n",
    "                              (on_faults['fmi'] == 9))\n",
    "                             |\n",
    "                             ((on_faults['spn'] == 111)\n",
    "                              &\n",
    "                              (on_faults['fmi'] == 17)))].reset_index(drop = True)"
   ]
  },
  {
   "cell_type": "code",
   "execution_count": null,
   "id": "792f4a4b",
   "metadata": {
    "scrolled": true
   },
   "outputs": [],
   "source": [
    "final_faults.info()"
   ]
  },
  {
   "cell_type": "code",
   "execution_count": null,
   "id": "9d144d87",
   "metadata": {},
   "outputs": [],
   "source": [
    "# Redo faults overview\n",
    "fault_overview = (\n",
    "    final_faults\n",
    "    .groupby(['spn', 'fmi'])\n",
    "    .agg(total_occurrences = ('RecordID', 'count'),\n",
    "         unique_trucks = ('EquipmentID', 'nunique'),\n",
    "         min_date = ('EventDate', 'min'),\n",
    "         max_date = ('EventDate', 'max'),\n",
    "         unique_dates = ('EventDate', 'nunique'))\n",
    "    .reset_index()\n",
    ")\n",
    "\n",
    "\n",
    "fault_overview['timespan'] = fault_overview['max_date'] -fault_overview['min_date']\n",
    "\n",
    "fault_overview[['total_occurrences', 'unique_trucks', \n",
    "                'min_date', 'max_date', \n",
    "                'unique_dates', 'timespan']].describe(datetime_is_numeric=True)"
   ]
  },
  {
   "cell_type": "markdown",
   "id": "2e8e74a6",
   "metadata": {},
   "source": [
    "#### Doing some aggregations by truck ID"
   ]
  },
  {
   "cell_type": "code",
   "execution_count": null,
   "id": "bd1fef8c",
   "metadata": {
    "scrolled": true
   },
   "outputs": [],
   "source": [
    "truck_overview = (\n",
    "    final_faults\n",
    "    .groupby('EquipmentID')\n",
    "    .agg(total_faults = ('RecordID', 'count'),\n",
    "         unique_faults = ('spn', 'nunique'),\n",
    "         min_date = ('EventDate', 'min'),\n",
    "         max_date = ('EventDate', 'max'),\n",
    "         unique_dates = ('EventDate', 'nunique'))\n",
    "    .reset_index()\n",
    ")\n",
    "\n",
    "\n",
    "truck_overview['timespan'] = truck_overview['max_date'] - truck_overview['min_date']\n",
    "\n",
    "truck_overview.describe(datetime_is_numeric=True)"
   ]
  },
  {
   "cell_type": "code",
   "execution_count": null,
   "id": "d4443418",
   "metadata": {
    "scrolled": false
   },
   "outputs": [],
   "source": [
    "df = truck_overview\n",
    "fig = px.histogram(df, \n",
    "                   x=\"total_faults\",\n",
    "                   marginal=\"box\",\n",
    "                   hover_data=df.columns)\n",
    "fig.show()"
   ]
  },
  {
   "cell_type": "code",
   "execution_count": null,
   "id": "2cec8972",
   "metadata": {},
   "outputs": [],
   "source": [
    "df = truck_overview\n",
    "fig = px.histogram(df, \n",
    "                   x=\"unique_faults\",\n",
    "                   marginal=\"box\",\n",
    "                   hover_data=df.columns).update_traces(marker=dict(color='red'))\n",
    "fig.show()"
   ]
  },
  {
   "cell_type": "code",
   "execution_count": null,
   "id": "1b578bdf",
   "metadata": {},
   "outputs": [],
   "source": [
    "df = truck_overview\n",
    "fig = px.histogram(df, \n",
    "                   x=\"unique_dates\",\n",
    "                   marginal=\"box\",\n",
    "                   hover_data=df.columns).update_traces(marker=dict(color='green'))\n",
    "fig.show()"
   ]
  },
  {
   "cell_type": "code",
   "execution_count": null,
   "id": "99543edf",
   "metadata": {
    "scrolled": false
   },
   "outputs": [],
   "source": [
    "df = truck_overview\n",
    "fig = px.histogram(df, \n",
    "                   x=\"timespan\",\n",
    "                   marginal=\"box\",\n",
    "                   hover_data=df.columns).update_traces(marker=dict(color='yellow'))\n",
    "fig.show()"
   ]
  },
  {
   "cell_type": "markdown",
   "id": "4f3538ab",
   "metadata": {},
   "source": [
    "### Taking a look at full derates"
   ]
  },
  {
   "cell_type": "code",
   "execution_count": null,
   "id": "bcdef570",
   "metadata": {},
   "outputs": [],
   "source": [
    "# Filter down to only include full derates\n",
    "full_derates = on_faults.loc[on_faults['spn'] == 5246]\n",
    "\n",
    "\n",
    "\n",
    "# Filter out faults where the light is going off\n",
    "full_derates = full_derates.loc[on_faults['active'] == True].reset_index(drop = True)\n",
    "\n",
    "\n",
    "full_derates"
   ]
  },
  {
   "cell_type": "markdown",
   "id": "c828bc3c",
   "metadata": {},
   "source": [
    "There are 493 instances of full rates that fit all the filtering criteria"
   ]
  },
  {
   "cell_type": "code",
   "execution_count": null,
   "id": "6064d0a9",
   "metadata": {
    "scrolled": false
   },
   "outputs": [],
   "source": [
    "# Taking a look at each truck that has had a full derate, how many unique timestamps each is associated with\n",
    "(\n",
    "    full_derates\n",
    "    .groupby('EquipmentID')\n",
    "    ['EventTimeStamp'].nunique()\n",
    "    .to_frame()\n",
    "    .reset_index()\n",
    "    .rename(columns = {'EventTimeStamp' : 'date_count'})\n",
    "    .sort_values('date_count', ascending = False)\n",
    "    #.head(10)\n",
    ")"
   ]
  },
  {
   "cell_type": "markdown",
   "id": "2fbbe328",
   "metadata": {},
   "source": [
    "194 trucks experienced full derates, 8 of those trucks experienced 10 or more derates"
   ]
  },
  {
   "cell_type": "code",
   "execution_count": null,
   "id": "0212adeb",
   "metadata": {},
   "outputs": [],
   "source": [
    "# Taking a look at the timestamps for the truck with the largest number of unique timestamps\n",
    "full_derates.loc[full_derates['EquipmentID'] == 1539]#['EventTimeStamp'].unique()\n",
    "\n",
    "# It appears that this truck had multiple instances of multiple derates on the same day"
   ]
  },
  {
   "cell_type": "code",
   "execution_count": null,
   "id": "70de1aa7",
   "metadata": {},
   "outputs": [],
   "source": []
  }
 ],
 "metadata": {
  "kernelspec": {
   "display_name": "Python 3 (ipykernel)",
   "language": "python",
   "name": "python3"
  },
  "language_info": {
   "codemirror_mode": {
    "name": "ipython",
    "version": 3
   },
   "file_extension": ".py",
   "mimetype": "text/x-python",
   "name": "python",
   "nbconvert_exporter": "python",
   "pygments_lexer": "ipython3",
   "version": "3.9.12"
  }
 },
 "nbformat": 4,
 "nbformat_minor": 5
}
