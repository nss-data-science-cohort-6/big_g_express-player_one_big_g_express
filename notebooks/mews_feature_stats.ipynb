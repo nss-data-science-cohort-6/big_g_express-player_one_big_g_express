{
 "cells": [
  {
   "cell_type": "code",
   "execution_count": null,
   "id": "0dce96c8",
   "metadata": {},
   "outputs": [],
   "source": [
    "import pandas as pd\n",
    "import numpy as np\n",
    "import pickle\n",
    "\n",
    "import plotly.express as px"
   ]
  },
  {
   "cell_type": "code",
   "execution_count": null,
   "id": "307699a9",
   "metadata": {},
   "outputs": [],
   "source": [
    "#final_faults = pd.read_pickle('../data/final_faults.pkl')\n",
    "final = pd.read_pickle('../data/final_data.pkl')"
   ]
  },
  {
   "cell_type": "code",
   "execution_count": null,
   "id": "a44f4285",
   "metadata": {},
   "outputs": [],
   "source": [
    "final['timeUntilDerate_dec'] = [round(x.total_seconds()/86400, 2) for x in final['timeUntilDerate']]"
   ]
  },
  {
   "cell_type": "code",
   "execution_count": null,
   "id": "fe173f91",
   "metadata": {},
   "outputs": [],
   "source": [
    "final.columns"
   ]
  },
  {
   "cell_type": "markdown",
   "id": "746826f9",
   "metadata": {},
   "source": [
    "### First look at partial derates"
   ]
  },
  {
   "cell_type": "code",
   "execution_count": null,
   "id": "2cb9bb6e",
   "metadata": {},
   "outputs": [],
   "source": [
    "partial_derates = final.loc[final['spn'] == 1569]\n",
    "partial_derates.info()"
   ]
  },
  {
   "cell_type": "code",
   "execution_count": null,
   "id": "13a57bec",
   "metadata": {
    "scrolled": true
   },
   "outputs": [],
   "source": [
    "pd1 = (\n",
    "    partial_derates\n",
    "    .groupby('derate')\n",
    "    .agg(\n",
    "        total = ('spn', 'count')\n",
    "        )\n",
    "    .reset_index()\n",
    ")\n",
    "pd1['variable'] = 'Partial Derates'\n",
    "\n",
    "\n",
    "pd2 = (\n",
    "    partial_derates\n",
    "    .groupby('derate')\n",
    "    .agg(\n",
    "        total = ('EquipmentID', 'nunique')\n",
    "    )\n",
    "    .reset_index()\n",
    ")\n",
    "pd2['variable'] = 'Trucks'\n",
    "\n",
    "pd_totals = pd.concat([pd1, pd2])\n",
    "\n",
    "pd_totals"
   ]
  },
  {
   "cell_type": "code",
   "execution_count": null,
   "id": "5f4046d2",
   "metadata": {},
   "outputs": [],
   "source": [
    "df = pd_totals\n",
    "\n",
    "fig = px.histogram(df, \n",
    "                   x=\"variable\",\n",
    "                   y=\"total\",\n",
    "                   color='derate', \n",
    "                   barmode='group',\n",
    "                   labels={\n",
    "                       'derate' : 'Derate Status',\n",
    "                       'variable' : 'Category'\n",
    "                   },\n",
    "                   color_discrete_map={\n",
    "                       'No Derate' : '#9900ff',\n",
    "                       'Derate' : '#00ff99'\n",
    "                   }, \n",
    "                   text_auto=True,\n",
    "                   template=\"plotly_white\"\n",
    "                  )\n",
    "\n",
    "fig.update_layout(\n",
    "    title_text=\"Total Partial Derate Faults and Total Trucks Experiencing Partial Derates by Derate Status\",\n",
    "    yaxis_title=''\n",
    ")\n",
    "\n",
    "\n",
    "fig.show()"
   ]
  },
  {
   "cell_type": "code",
   "execution_count": null,
   "id": "29638656",
   "metadata": {},
   "outputs": [],
   "source": [
    "pd_per = (\n",
    "    partial_derates\n",
    "    .groupby('derate')\n",
    "    .agg(\n",
    "        total_pds = ('spn', 'count'),\n",
    "        trucks = ('EquipmentID', 'nunique')\n",
    "        )\n",
    "    .reset_index()\n",
    ")\n",
    "\n",
    "pd_per['pd_per_truck'] = round(pd_per['total_pds'] / pd_per['trucks'], 1)\n",
    "\n",
    "pd_per"
   ]
  },
  {
   "cell_type": "code",
   "execution_count": null,
   "id": "b9546ae0",
   "metadata": {},
   "outputs": [],
   "source": [
    "df = pd_per\n",
    "\n",
    "fig = px.bar(df, \n",
    "                   x=\"derate\",\n",
    "                   y=\"pd_per_truck\",\n",
    "                   color='derate',\n",
    "                   labels={\n",
    "                       'derate' : 'Derate Status',\n",
    "                       'pd_per_truck' : 'Partial  Derates per Truck',\n",
    "                       'trucks' : 'Total Trucks',\n",
    "                       'total_pds' : 'Total Partial Derates'\n",
    "                   }, \n",
    "                   color_discrete_map={\n",
    "                       'No Derate' : '#9900ff',\n",
    "                       'Derate' : '#00ff99'\n",
    "                   }, \n",
    "                   text_auto=True,\n",
    "                   hover_data={\n",
    "                       'trucks' : True,\n",
    "                       'total_pds' : True,\n",
    "                       'pd_per_truck' : False,\n",
    "                       'derate' : False\n",
    "                   },\n",
    "                   template=\"plotly_white\"\n",
    "                  )\n",
    "\n",
    "fig.update_layout(title_text=\"Partial Derates per Truck by Derate Status\",\n",
    "                  xaxis={'visible': False, 'showticklabels': False}\n",
    "                 )\n",
    "\n",
    "\n",
    "fig.show()"
   ]
  },
  {
   "cell_type": "code",
   "execution_count": null,
   "id": "52667dde",
   "metadata": {},
   "outputs": [],
   "source": [
    "#fig.write_image(\"../images/pd_per_truck.jpeg\")"
   ]
  },
  {
   "cell_type": "code",
   "execution_count": null,
   "id": "fcbef66d",
   "metadata": {},
   "outputs": [],
   "source": [
    "df = partial_derates.loc[(final['derate'] == 'Derate')]\n",
    "\n",
    "fig = px.histogram(df, \n",
    "                   x=(df['timeUntilDerate_dec'] #* 24\n",
    "                     ),\n",
    "                   labels={\n",
    "                       'x' : ' Days Before Derate'\n",
    "                   },\n",
    "                   #histnorm = 'percent',\n",
    "                  template = \"plotly_white\")\n",
    "fig.update_traces(\n",
    "    xbins={\n",
    "        'start':0.0,\n",
    "        'end':7,\n",
    "        'size':.25\n",
    "        \n",
    "    }\n",
    ")\n",
    "\n",
    "fig.for_each_trace(lambda t: t.update(hovertemplate=t.hovertemplate.replace(#\"count\", \"Faults\",\n",
    "                                                                            \"percent\", \"Proportion of Partial\")))\n",
    "\n",
    "#fig.update_yaxes(ticksuffix = \"%\")\n",
    "\n",
    "fig.update_xaxes(range = [-1, 7])\n",
    "\n",
    "fig.update_layout(#title_text=\"Distribution of Partial Derates in the Week Ahead of Derates\",\n",
    "                  yaxis_title=\"\"\n",
    "                 )\n",
    "\n",
    "fig.show()"
   ]
  },
  {
   "cell_type": "code",
   "execution_count": null,
   "id": "e515d404",
   "metadata": {},
   "outputs": [],
   "source": [
    "pd_per_pre = (\n",
    "    partial_derates\n",
    "    .loc[partial_derates['timeUntilDerate_dec'] < .34]\n",
    "    .groupby('derate')\n",
    "    .agg(\n",
    "        total_pds = ('spn', 'count'),\n",
    "        trucks = ('EquipmentID', 'nunique')\n",
    "        )\n",
    "    .reset_index()\n",
    ")\n",
    "\n",
    "pd_per_pre['pd_per_truck'] = round(pd_per_pre['total_pds'] / pd_per_pre['trucks'], 1)\n",
    "\n",
    "pd_per_pre"
   ]
  },
  {
   "cell_type": "markdown",
   "id": "3dd32faa",
   "metadata": {},
   "source": [
    "Partial Derates are not especially useful predictors:\n",
    "- Just under 1/3 of trucks that experience partial derates go on to experience full derates\n",
    "- Of the trucks that experience partial derates, the ones that go on to have full derates do have a slightly higher number of partial derates on average\n",
    "- BUT this value of partial derates per truck actually gets very small in the week leading up to the full derate, so that increased occurrence is more a reflection of the ongoing persistence of experiencing partial derates"
   ]
  },
  {
   "cell_type": "markdown",
   "id": "c9458618",
   "metadata": {},
   "source": [
    "### Engine Coolant Temperature"
   ]
  },
  {
   "cell_type": "code",
   "execution_count": null,
   "id": "f338f91c",
   "metadata": {},
   "outputs": [],
   "source": [
    "final.loc[~final['EngineCoolantTemperature'].isna()]['EngineCoolantTemperature'].describe()"
   ]
  },
  {
   "cell_type": "code",
   "execution_count": null,
   "id": "f77ea5b1",
   "metadata": {
    "scrolled": false
   },
   "outputs": [],
   "source": [
    "df = final.loc[~final['EngineCoolantTemperature'].isna()]\n",
    "\n",
    "fig = px.histogram(df, \n",
    "                   x='EngineCoolantTemperature',\n",
    "                   color = 'derate',\n",
    "                   histnorm = 'percent'\n",
    "                  )\n",
    "\n",
    "fig.show()"
   ]
  },
  {
   "cell_type": "code",
   "execution_count": null,
   "id": "a9262108",
   "metadata": {},
   "outputs": [],
   "source": [
    "df = final.loc[final['timeUntilDerate_dec'] < .05]\n",
    "\n",
    "fig = px.histogram(df, \n",
    "                   x='EngineCoolantTemperature',\n",
    "                   color = 'derate',\n",
    "                   histnorm = 'percent'\n",
    "                  )\n",
    "\n",
    "fig.show()"
   ]
  },
  {
   "cell_type": "markdown",
   "id": "ca691ebe",
   "metadata": {},
   "source": [
    "No real change in the distribution of Engine Coolant Temp ahead of derates"
   ]
  },
  {
   "cell_type": "markdown",
   "id": "a61b0b71",
   "metadata": {},
   "source": [
    "### Engine RPM"
   ]
  },
  {
   "cell_type": "code",
   "execution_count": null,
   "id": "25bbbba9",
   "metadata": {},
   "outputs": [],
   "source": [
    "final.loc[~final['EngineRpm'].isna()]['EngineRpm'].describe()"
   ]
  },
  {
   "cell_type": "code",
   "execution_count": null,
   "id": "28000a87",
   "metadata": {},
   "outputs": [],
   "source": [
    "df = final.loc[~final['EngineRpm'].isna()]\n",
    "\n",
    "fig = px.histogram(df, \n",
    "                   x='EngineRpm',\n",
    "                   nbins = 100, \n",
    "                   histnorm = 'percent'\n",
    "                   \n",
    "                  )\n",
    "fig.update_yaxes(range = [0, 30])\n",
    "fig.update_xaxes(range = [0, 2200])\n",
    "\n",
    "fig.show()"
   ]
  },
  {
   "cell_type": "code",
   "execution_count": null,
   "id": "457cae32",
   "metadata": {},
   "outputs": [],
   "source": [
    "df = final.loc[final['derate'] == 'No Derate']\n",
    "\n",
    "fig = px.histogram(df, \n",
    "                   x='EngineRpm',\n",
    "                   nbins = 100,\n",
    "                   histnorm = 'percent',\n",
    "                   color_discrete_sequence = ['#9900ff'],\n",
    "                   template=\"plotly_white\"\n",
    "                  )\n",
    "\n",
    "\n",
    "fig.update_yaxes(range = [0, 30])\n",
    "fig.update_xaxes(range = [0, 2200])\n",
    "\n",
    "fig.show()"
   ]
  },
  {
   "cell_type": "code",
   "execution_count": null,
   "id": "ab1cf1f3",
   "metadata": {
    "scrolled": true
   },
   "outputs": [],
   "source": [
    "df = final.loc[final['derate'] == 'Derate']\n",
    "\n",
    "fig = px.histogram(df, \n",
    "                   x='EngineRpm',\n",
    "                   nbins = 100,\n",
    "                   histnorm = 'percent',\n",
    "                   color_discrete_sequence = ['#00ff99'],\n",
    "                   template=\"plotly_white\"\n",
    "                  )\n",
    "\n",
    "\n",
    "fig.update_yaxes(range = [0, 30])\n",
    "fig.update_xaxes(range = [0, 2200])\n",
    "\n",
    "fig.show()"
   ]
  },
  {
   "cell_type": "code",
   "execution_count": null,
   "id": "35ab229c",
   "metadata": {},
   "outputs": [],
   "source": [
    "import plotly.graph_objects as go"
   ]
  },
  {
   "cell_type": "code",
   "execution_count": null,
   "id": "1f2e9317",
   "metadata": {
    "scrolled": false
   },
   "outputs": [],
   "source": [
    "# Comparing distribution of total faults for trucks that did have a derate as opposed to those that did not\n",
    "\n",
    "df = final.loc[(final['derate'] == 'Derate')\n",
    "              &\n",
    "               (final['EquipmentID'] != 1692)\n",
    "              ]\n",
    "df1 = final.loc[final['derate'] == 'No Derate']\n",
    "\n",
    "fig = go.Figure()\n",
    "fig.add_trace(go.Histogram(\n",
    "    x=df['EngineRpm'],\n",
    "    histnorm='percent',\n",
    "    name='Derate', # name used in legend and hover labels\n",
    "    marker_color='#00ff99',\n",
    "    opacity=0.75\n",
    "))\n",
    "fig.add_trace(go.Histogram(\n",
    "    x=df1['EngineRpm'],\n",
    "    histnorm='percent',\n",
    "    name='No Derate',\n",
    "    marker_color='#9900ff',\n",
    "    opacity=0.75\n",
    "))\n",
    "\n",
    "fig.update_layout(\n",
    "    template = 'plotly_white',\n",
    "    title_text='Distribution of Engine RPM Readings, Derate Status Comparison',\n",
    "    xaxis_title_text='Engine RPM', # xaxis label\n",
    "    bargap=0.2, # gap between bars of adjacent location coordinates\n",
    "    bargroupgap=0.05 # gap between bars of the same location coordinates\n",
    ")\n",
    "\n",
    "fig.update_traces(xbins=dict(\n",
    "        start=0,\n",
    "        end=2750,\n",
    "        size=50\n",
    "    ))\n",
    "\n",
    "fig.update_yaxes(ticksuffix = \"%\")\n",
    "\n",
    "fig.update_xaxes(range = [-10, 2750])\n",
    " \n",
    "fig.update_yaxes(range = [0, 20])\n",
    "\n",
    "fig.show()"
   ]
  },
  {
   "cell_type": "code",
   "execution_count": null,
   "id": "45699d35",
   "metadata": {},
   "outputs": [],
   "source": [
    "#fig.write_html(\"../images/engine_rpm_comparison.html\")"
   ]
  },
  {
   "cell_type": "code",
   "execution_count": null,
   "id": "ab5c9be2",
   "metadata": {},
   "outputs": [],
   "source": [
    "final.loc[(final['timeUntilDerate_dec'] < 5)\n",
    "               &\n",
    "               (final['timeUntilDerate_dec'] > 3)].sort_values('EngineRpm', ascending = False)['EquipmentID'].value_counts()"
   ]
  },
  {
   "cell_type": "code",
   "execution_count": null,
   "id": "112431e8",
   "metadata": {},
   "outputs": [],
   "source": [
    "df = final.loc[(final['timeUntilDerate_dec'] <5)\n",
    "               &\n",
    "               (final['timeUntilDerate_dec'] > 2)\n",
    "               &\n",
    "               (final['EquipmentID'] != 1692)]\n",
    "\n",
    "fig = px.histogram(df, \n",
    "                   x='EngineRpm',\n",
    "                   nbins = 100,\n",
    "                   histnorm = 'percent',\n",
    "                   color_discrete_sequence = ['#00ff99'],\n",
    "                   template=\"plotly_white\"\n",
    "                  )\n",
    "\n",
    "\n",
    "fig.update_layout(\n",
    "    title_text='Distribution of Engine RPM Readings, 2 - 5 Days Prior to Derate',\n",
    "    xaxis_title_text='Engine RPM',\n",
    "    yaxis_title_text=''\n",
    ")\n",
    "\n",
    "fig.update_traces(xbins=dict(\n",
    "        start=0,\n",
    "        end=2750,\n",
    "        size=50\n",
    "    ))\n",
    "\n",
    "fig.update_yaxes(range = [0, 20],\n",
    "                ticksuffix = \"%\")\n",
    "fig.update_xaxes(range = [-10, 2750])\n",
    "\n",
    "fig.show()"
   ]
  },
  {
   "cell_type": "code",
   "execution_count": null,
   "id": "e2eb8637",
   "metadata": {},
   "outputs": [],
   "source": [
    "#fig.write_html(\"../images/engine_rpm_prederate.html\")"
   ]
  },
  {
   "cell_type": "code",
   "execution_count": null,
   "id": "13c737c8",
   "metadata": {
    "scrolled": true
   },
   "outputs": [],
   "source": [
    "df = final.loc[(final['timeUntilDerate_dec'] < 2)\n",
    "               &\n",
    "               (final['EquipmentID'] != 1692)]\n",
    "\n",
    "fig = px.histogram(df, \n",
    "                   x='EngineRpm',\n",
    "                   nbins = 80,\n",
    "                   histnorm = 'percent',\n",
    "                   color_discrete_sequence = ['#00ff99'],\n",
    "                   template=\"plotly_white\"\n",
    "                  )\n",
    "\n",
    "\n",
    "fig.update_layout(\n",
    "    title_text='Distribution of Engine RPM Readings, 2 Days Prior to Derate',\n",
    "    xaxis_title_text='Engine RPM',\n",
    "    yaxis_title_text=''\n",
    ")\n",
    "fig.update_traces(xbins=dict(\n",
    "        start=0,\n",
    "        end=2750,\n",
    "        size=50\n",
    "    ))\n",
    "\n",
    "fig.update_yaxes(range = [0, 20],\n",
    "                ticksuffix = \"%\")\n",
    "fig.update_xaxes(range = [-10, 2750])\n",
    "\n",
    "fig.show()"
   ]
  },
  {
   "cell_type": "code",
   "execution_count": null,
   "id": "c890ac5d",
   "metadata": {},
   "outputs": [],
   "source": [
    "#fig.write_html(\"../images/engine_rpm_2prederate.html\")"
   ]
  },
  {
   "cell_type": "code",
   "execution_count": null,
   "id": "077d0b7c",
   "metadata": {
    "scrolled": true
   },
   "outputs": [],
   "source": [
    "df = final.loc[final['timeUntilDerate_dec'] < 1]\n",
    "\n",
    "fig = px.histogram(df, \n",
    "                   x='EngineRpm',\n",
    "                   nbins = 80,\n",
    "                   histnorm = 'percent'\n",
    "                  )\n",
    "\n",
    "\n",
    "fig.update_yaxes(range = [0, 25])\n",
    "fig.update_xaxes(range = [0, 2200])\n",
    "\n",
    "fig.show()"
   ]
  },
  {
   "cell_type": "code",
   "execution_count": null,
   "id": "035f7c65",
   "metadata": {},
   "outputs": [],
   "source": [
    "df = final.loc[final['timeUntilDerate_dec'] < .5]\n",
    "\n",
    "fig = px.histogram(df, \n",
    "                   x='EngineRpm',\n",
    "                   histnorm = 'percent'\n",
    "                  )\n",
    "\n",
    "fig.update_yaxes(range = [0, 25])\n",
    "fig.update_xaxes(range = [0, 2200])\n",
    "\n",
    "\n",
    "fig.show()"
   ]
  },
  {
   "cell_type": "code",
   "execution_count": null,
   "id": "9af70107",
   "metadata": {},
   "outputs": [],
   "source": [
    "df = final.loc[final['timeUntilDerate_dec'] < .25]\n",
    "\n",
    "fig = px.histogram(df, \n",
    "                   x='EngineRpm',\n",
    "                   nbins= 80,\n",
    "                   histnorm = 'percent'\n",
    "                  )\n",
    "\n",
    "\n",
    "fig.update_yaxes(range = [0, 30])\n",
    "fig.update_xaxes(range = [0, 2200])\n",
    "\n",
    "fig.show()"
   ]
  },
  {
   "cell_type": "code",
   "execution_count": null,
   "id": "f4190cf3",
   "metadata": {},
   "outputs": [],
   "source": [
    "df = final.loc[final['timeUntilDerate_dec'] < .125]\n",
    "\n",
    "fig = px.histogram(df, \n",
    "                   x='EngineRpm',\n",
    "                   histnorm = 'percent' \n",
    "                  )\n",
    "\n",
    "\n",
    "fig.update_yaxes(range = [0, 26])\n",
    "fig.update_xaxes(range = [0, 2200])\n",
    "\n",
    "fig.show()"
   ]
  },
  {
   "cell_type": "code",
   "execution_count": null,
   "id": "231c69e8",
   "metadata": {},
   "outputs": [],
   "source": [
    "df = final.loc[final['timeUntilDerate_dec'] < .0625]\n",
    "\n",
    "fig = px.histogram(df, \n",
    "                   x='EngineRpm',\n",
    "                   histnorm = 'percent'\n",
    "                  )\n",
    "\n",
    "fig.update_yaxes(range = [0, 26])\n",
    "fig.update_xaxes(range = [0, 2200])\n",
    "\n",
    "fig.show()"
   ]
  },
  {
   "cell_type": "code",
   "execution_count": null,
   "id": "224faef3",
   "metadata": {},
   "outputs": [],
   "source": [
    "df = final.loc[final['timeUntilDerate_dec'] < .028]\n",
    "\n",
    "fig = px.histogram(df, \n",
    "                   x='EngineRpm',\n",
    "                   histnorm = 'percent'\n",
    "                  )\n",
    "\n",
    "fig.update_yaxes(range = [0, 26])\n",
    "fig.update_xaxes(range = [0, 2200])\n",
    "\n",
    "fig.show()"
   ]
  },
  {
   "cell_type": "markdown",
   "id": "47ec1d6d",
   "metadata": {},
   "source": [
    "### Fault codes that only occur in trucks that experience derates"
   ]
  },
  {
   "cell_type": "code",
   "execution_count": null,
   "id": "de8039d7",
   "metadata": {},
   "outputs": [],
   "source": [
    "derates= final.loc[final['derate'] == 'Derate']\n",
    "no_derates_faults = final.loc[final['derate'] == 'No Derate']['spn']"
   ]
  },
  {
   "cell_type": "code",
   "execution_count": null,
   "id": "c7647ea7",
   "metadata": {},
   "outputs": [],
   "source": [
    "derates.loc[~derates['spn'].isin(no_derates_faults)]['spn'].value_counts()"
   ]
  },
  {
   "cell_type": "code",
   "execution_count": null,
   "id": "e9d781d0",
   "metadata": {},
   "outputs": [],
   "source": [
    "final.loc[final['spn'] == 907]"
   ]
  },
  {
   "cell_type": "code",
   "execution_count": null,
   "id": "59bcdf0a",
   "metadata": {},
   "outputs": [],
   "source": []
  }
 ],
 "metadata": {
  "kernelspec": {
   "display_name": "Python 3 (ipykernel)",
   "language": "python",
   "name": "python3"
  },
  "language_info": {
   "codemirror_mode": {
    "name": "ipython",
    "version": 3
   },
   "file_extension": ".py",
   "mimetype": "text/x-python",
   "name": "python",
   "nbconvert_exporter": "python",
   "pygments_lexer": "ipython3",
   "version": "3.9.16"
  }
 },
 "nbformat": 4,
 "nbformat_minor": 5
}
