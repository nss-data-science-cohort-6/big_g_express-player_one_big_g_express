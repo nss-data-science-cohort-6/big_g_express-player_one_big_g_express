{
 "cells": [
  {
   "cell_type": "code",
   "execution_count": 1,
   "metadata": {},
   "outputs": [],
   "source": [
    "import pandas as pd \n",
    "import numpy as np\n",
    "\n"
   ]
  },
  {
   "cell_type": "code",
   "execution_count": 2,
   "metadata": {},
   "outputs": [
    {
     "name": "stderr",
     "output_type": "stream",
     "text": [
      "C:\\Users\\jacks\\AppData\\Local\\Temp\\ipykernel_7576\\3888359493.py:1: DtypeWarning: Columns (15) have mixed types. Specify dtype option on import or set low_memory=False.\n",
      "  faults = pd.read_csv('./data/J1939Faults.csv')\n"
     ]
    }
   ],
   "source": [
    "faults = pd.read_csv('./data/J1939Faults.csv')\n",
    "onboard = pd.read_csv('./data/VehicleDiagnosticOnboardData.csv')"
   ]
  },
  {
   "cell_type": "code",
   "execution_count": 3,
   "metadata": {},
   "outputs": [
    {
     "data": {
      "text/html": [
       "<div>\n",
       "<style scoped>\n",
       "    .dataframe tbody tr th:only-of-type {\n",
       "        vertical-align: middle;\n",
       "    }\n",
       "\n",
       "    .dataframe tbody tr th {\n",
       "        vertical-align: top;\n",
       "    }\n",
       "\n",
       "    .dataframe thead th {\n",
       "        text-align: right;\n",
       "    }\n",
       "</style>\n",
       "<table border=\"1\" class=\"dataframe\">\n",
       "  <thead>\n",
       "    <tr style=\"text-align: right;\">\n",
       "      <th></th>\n",
       "      <th>Id</th>\n",
       "      <th>Name</th>\n",
       "      <th>Value</th>\n",
       "      <th>FaultId</th>\n",
       "    </tr>\n",
       "  </thead>\n",
       "  <tbody>\n",
       "    <tr>\n",
       "      <th>0</th>\n",
       "      <td>1</td>\n",
       "      <td>IgnStatus</td>\n",
       "      <td>False</td>\n",
       "      <td>1</td>\n",
       "    </tr>\n",
       "    <tr>\n",
       "      <th>1</th>\n",
       "      <td>2</td>\n",
       "      <td>EngineOilPressure</td>\n",
       "      <td>0</td>\n",
       "      <td>1</td>\n",
       "    </tr>\n",
       "    <tr>\n",
       "      <th>2</th>\n",
       "      <td>3</td>\n",
       "      <td>EngineOilTemperature</td>\n",
       "      <td>96.74375</td>\n",
       "      <td>1</td>\n",
       "    </tr>\n",
       "    <tr>\n",
       "      <th>3</th>\n",
       "      <td>4</td>\n",
       "      <td>TurboBoostPressure</td>\n",
       "      <td>0</td>\n",
       "      <td>1</td>\n",
       "    </tr>\n",
       "    <tr>\n",
       "      <th>4</th>\n",
       "      <td>5</td>\n",
       "      <td>EngineLoad</td>\n",
       "      <td>11</td>\n",
       "      <td>1</td>\n",
       "    </tr>\n",
       "  </tbody>\n",
       "</table>\n",
       "</div>"
      ],
      "text/plain": [
       "   Id                  Name     Value  FaultId\n",
       "0   1             IgnStatus     False        1\n",
       "1   2     EngineOilPressure         0        1\n",
       "2   3  EngineOilTemperature  96.74375        1\n",
       "3   4    TurboBoostPressure         0        1\n",
       "4   5            EngineLoad        11        1"
      ]
     },
     "execution_count": 3,
     "metadata": {},
     "output_type": "execute_result"
    }
   ],
   "source": [
    "onboard.head()"
   ]
  },
  {
   "cell_type": "code",
   "execution_count": 4,
   "metadata": {},
   "outputs": [
    {
     "data": {
      "text/plain": [
       "RecordID                   int64\n",
       "ESS_Id                     int64\n",
       "EventTimeStamp            object\n",
       "eventDescription          object\n",
       "actionDescription        float64\n",
       "ecuSoftwareVersion        object\n",
       "ecuSerialNumber           object\n",
       "ecuModel                  object\n",
       "ecuMake                   object\n",
       "ecuSource                  int64\n",
       "spn                        int64\n",
       "fmi                        int64\n",
       "active                      bool\n",
       "activeTransitionCount      int64\n",
       "faultValue               float64\n",
       "EquipmentID               object\n",
       "MCTNumber                  int64\n",
       "Latitude                 float64\n",
       "Longitude                float64\n",
       "LocationTimeStamp         object\n",
       "dtype: object"
      ]
     },
     "execution_count": 4,
     "metadata": {},
     "output_type": "execute_result"
    }
   ],
   "source": [
    "faults.dtypes"
   ]
  },
  {
   "cell_type": "code",
   "execution_count": 5,
   "metadata": {},
   "outputs": [],
   "source": [
    "on_faults = pd.merge(faults, onboard, left_on = 'RecordID', right_on = 'FaultId').drop(columns = ['Id', 'FaultId'])"
   ]
  },
  {
   "cell_type": "code",
   "execution_count": 7,
   "metadata": {},
   "outputs": [],
   "source": [
    "\n",
    "\n",
    "# Get rid of the rows where the EquipmentID is more than 5 characters\n",
    "on_faults_filtered = on_faults.loc[on_faults['EquipmentID'].astype(str).str.len() <= 5]\n",
    "\n",
    "# Filter out faults where the light is going off\n",
    "on_faults_filtered = on_faults_filtered.loc[on_faults['active'] == True].reset_index(drop = True)\n",
    "\n"
   ]
  },
  {
   "cell_type": "code",
   "execution_count": 8,
   "metadata": {},
   "outputs": [
    {
     "data": {
      "text/plain": [
       "1841"
      ]
     },
     "execution_count": 8,
     "metadata": {},
     "output_type": "execute_result"
    }
   ],
   "source": [
    "on_faults_filtered['EquipmentID'].nunique()"
   ]
  },
  {
   "cell_type": "code",
   "execution_count": 9,
   "metadata": {},
   "outputs": [
    {
     "data": {
      "text/plain": [
       "RecordID                   int64\n",
       "ESS_Id                     int64\n",
       "EventTimeStamp            object\n",
       "eventDescription          object\n",
       "actionDescription        float64\n",
       "ecuSoftwareVersion        object\n",
       "ecuSerialNumber           object\n",
       "ecuModel                  object\n",
       "ecuMake                   object\n",
       "ecuSource                  int64\n",
       "spn                        int64\n",
       "fmi                        int64\n",
       "active                      bool\n",
       "activeTransitionCount      int64\n",
       "faultValue               float64\n",
       "EquipmentID               object\n",
       "MCTNumber                  int64\n",
       "Latitude                 float64\n",
       "Longitude                float64\n",
       "LocationTimeStamp         object\n",
       "Name                      object\n",
       "Value                     object\n",
       "dtype: object"
      ]
     },
     "execution_count": 9,
     "metadata": {},
     "output_type": "execute_result"
    }
   ],
   "source": [
    "on_faults_filtered.dtypes"
   ]
  },
  {
   "cell_type": "code",
   "execution_count": 10,
   "metadata": {},
   "outputs": [],
   "source": [
    "# Convert EventTimeStamp column to datetime object\n",
    "on_faults_filtered['EventTimeStamp'] = pd.to_datetime(on_faults_filtered['EventTimeStamp'])\n"
   ]
  },
  {
   "cell_type": "code",
   "execution_count": 11,
   "metadata": {},
   "outputs": [],
   "source": [
    "# Set EquipmentID and EventTimeStamp columns as index\n",
    "on_faults_filtered.set_index(['EquipmentID', 'EventTimeStamp', 'spn'], inplace=True)"
   ]
  },
  {
   "cell_type": "code",
   "execution_count": 12,
   "metadata": {},
   "outputs": [
    {
     "name": "stderr",
     "output_type": "stream",
     "text": [
      "C:\\Users\\jacks\\AppData\\Local\\Temp\\ipykernel_7576\\856689262.py:2: FutureWarning: pivot_table dropped a column because it failed to aggregate. This behavior is deprecated and will raise in a future version of pandas. Select only the columns that can be aggregated.\n",
      "  full_derates_ts = on_faults_filtered.pivot_table(index=['EquipmentID', 'EventTimeStamp', 'spn'],\n"
     ]
    }
   ],
   "source": [
    "\n",
    "# Pivot the data into a time series format\n",
    "full_derates_ts = on_faults_filtered.pivot_table(index=['EquipmentID', 'EventTimeStamp', 'spn'],\n",
    "                                          values=['RecordID', 'ESS_Id', 'eventDescription', \n",
    "                                                 'actionDescription', 'ecuSoftwareVersion', 'ecuSerialNumber', 'ecuModel', \n",
    "                                                 'ecuMake', 'ecuSource', 'fmi', 'active', 'activeTransitionCount', \n",
    "                                                 'faultValue', 'MCTNumber', 'Latitude', 'Longitude', 'LocationTimeStamp'])\n",
    "\n",
    "# Reset the index\n",
    "full_derates_ts.reset_index(inplace=True)\n",
    "\n",
    "# Sort the data by EquipmentID and EventTimeStamp\n",
    "full_derates_ts.sort_values(by=['EquipmentID', 'EventTimeStamp'], inplace=True)\n",
    "\n",
    "# Group the data by EquipmentID\n",
    "faults_grouped = full_derates_ts.groupby('EquipmentID')\n",
    "\n",
    "# Create a dictionary of time series, with EquipmentID as the key and the time series as the value\n",
    "faults_ts_dict = {group: data.drop('EquipmentID', axis=1).set_index('EventTimeStamp').sort_index() \n",
    "               for group, data in faults_grouped}\n",
    "\n",
    "\n",
    "# Fill missing values with 0\n",
    "for ts in faults_ts_dict.values():\n",
    "    ts.fillna(0, inplace=True)\n",
    "\n"
   ]
  },
  {
   "cell_type": "code",
   "execution_count": 15,
   "metadata": {},
   "outputs": [
    {
     "data": {
      "text/html": [
       "<div>\n",
       "<style scoped>\n",
       "    .dataframe tbody tr th:only-of-type {\n",
       "        vertical-align: middle;\n",
       "    }\n",
       "\n",
       "    .dataframe tbody tr th {\n",
       "        vertical-align: top;\n",
       "    }\n",
       "\n",
       "    .dataframe thead th {\n",
       "        text-align: right;\n",
       "    }\n",
       "</style>\n",
       "<table border=\"1\" class=\"dataframe\">\n",
       "  <thead>\n",
       "    <tr style=\"text-align: right;\">\n",
       "      <th></th>\n",
       "      <th>spn</th>\n",
       "      <th>ESS_Id</th>\n",
       "      <th>Latitude</th>\n",
       "      <th>Longitude</th>\n",
       "      <th>MCTNumber</th>\n",
       "      <th>RecordID</th>\n",
       "      <th>active</th>\n",
       "      <th>activeTransitionCount</th>\n",
       "      <th>ecuSource</th>\n",
       "      <th>fmi</th>\n",
       "    </tr>\n",
       "    <tr>\n",
       "      <th>EventTimeStamp</th>\n",
       "      <th></th>\n",
       "      <th></th>\n",
       "      <th></th>\n",
       "      <th></th>\n",
       "      <th></th>\n",
       "      <th></th>\n",
       "      <th></th>\n",
       "      <th></th>\n",
       "      <th></th>\n",
       "      <th></th>\n",
       "    </tr>\n",
       "  </thead>\n",
       "  <tbody>\n",
       "    <tr>\n",
       "      <th>2015-04-26 06:16:16</th>\n",
       "      <td>190</td>\n",
       "      <td>2092800.0</td>\n",
       "      <td>36.066527</td>\n",
       "      <td>-86.435277</td>\n",
       "      <td>105431712</td>\n",
       "      <td>34467.0</td>\n",
       "      <td>1.0</td>\n",
       "      <td>126.0</td>\n",
       "      <td>49.0</td>\n",
       "      <td>0.0</td>\n",
       "    </tr>\n",
       "    <tr>\n",
       "      <th>2015-04-28 05:29:21</th>\n",
       "      <td>190</td>\n",
       "      <td>2123154.0</td>\n",
       "      <td>36.066666</td>\n",
       "      <td>-86.435000</td>\n",
       "      <td>105431712</td>\n",
       "      <td>36192.0</td>\n",
       "      <td>1.0</td>\n",
       "      <td>126.0</td>\n",
       "      <td>49.0</td>\n",
       "      <td>0.0</td>\n",
       "    </tr>\n",
       "    <tr>\n",
       "      <th>2015-05-10 07:11:34</th>\n",
       "      <td>639</td>\n",
       "      <td>2346346.0</td>\n",
       "      <td>36.067083</td>\n",
       "      <td>-86.433842</td>\n",
       "      <td>105431712</td>\n",
       "      <td>48298.0</td>\n",
       "      <td>1.0</td>\n",
       "      <td>127.0</td>\n",
       "      <td>11.0</td>\n",
       "      <td>2.0</td>\n",
       "    </tr>\n",
       "    <tr>\n",
       "      <th>2015-05-11 13:11:20</th>\n",
       "      <td>639</td>\n",
       "      <td>2363162.0</td>\n",
       "      <td>36.189398</td>\n",
       "      <td>-82.795601</td>\n",
       "      <td>105431712</td>\n",
       "      <td>49415.0</td>\n",
       "      <td>1.0</td>\n",
       "      <td>127.0</td>\n",
       "      <td>11.0</td>\n",
       "      <td>2.0</td>\n",
       "    </tr>\n",
       "    <tr>\n",
       "      <th>2015-05-13 08:22:32</th>\n",
       "      <td>596</td>\n",
       "      <td>2400445.0</td>\n",
       "      <td>35.872500</td>\n",
       "      <td>-84.475648</td>\n",
       "      <td>105431712</td>\n",
       "      <td>51363.0</td>\n",
       "      <td>1.0</td>\n",
       "      <td>3.0</td>\n",
       "      <td>49.0</td>\n",
       "      <td>31.0</td>\n",
       "    </tr>\n",
       "    <tr>\n",
       "      <th>...</th>\n",
       "      <td>...</td>\n",
       "      <td>...</td>\n",
       "      <td>...</td>\n",
       "      <td>...</td>\n",
       "      <td>...</td>\n",
       "      <td>...</td>\n",
       "      <td>...</td>\n",
       "      <td>...</td>\n",
       "      <td>...</td>\n",
       "      <td>...</td>\n",
       "    </tr>\n",
       "    <tr>\n",
       "      <th>2020-02-16 08:58:40</th>\n",
       "      <td>829</td>\n",
       "      <td>121207314.0</td>\n",
       "      <td>36.066851</td>\n",
       "      <td>-86.434907</td>\n",
       "      <td>105441522</td>\n",
       "      <td>1242486.0</td>\n",
       "      <td>1.0</td>\n",
       "      <td>126.0</td>\n",
       "      <td>49.0</td>\n",
       "      <td>3.0</td>\n",
       "    </tr>\n",
       "    <tr>\n",
       "      <th>2020-02-18 11:02:29</th>\n",
       "      <td>639</td>\n",
       "      <td>121499858.0</td>\n",
       "      <td>35.587870</td>\n",
       "      <td>-86.443194</td>\n",
       "      <td>105441522</td>\n",
       "      <td>1243910.0</td>\n",
       "      <td>1.0</td>\n",
       "      <td>1.0</td>\n",
       "      <td>0.0</td>\n",
       "      <td>9.0</td>\n",
       "    </tr>\n",
       "    <tr>\n",
       "      <th>2020-02-18 11:13:23</th>\n",
       "      <td>1231</td>\n",
       "      <td>121502192.0</td>\n",
       "      <td>35.587870</td>\n",
       "      <td>-86.443194</td>\n",
       "      <td>105441522</td>\n",
       "      <td>1243916.0</td>\n",
       "      <td>1.0</td>\n",
       "      <td>14.0</td>\n",
       "      <td>49.0</td>\n",
       "      <td>16.0</td>\n",
       "    </tr>\n",
       "    <tr>\n",
       "      <th>2020-02-20 12:09:01</th>\n",
       "      <td>2863</td>\n",
       "      <td>121808502.0</td>\n",
       "      <td>36.172731</td>\n",
       "      <td>-86.890740</td>\n",
       "      <td>105441522</td>\n",
       "      <td>1244624.0</td>\n",
       "      <td>1.0</td>\n",
       "      <td>86.0</td>\n",
       "      <td>49.0</td>\n",
       "      <td>7.0</td>\n",
       "    </tr>\n",
       "    <tr>\n",
       "      <th>2020-02-21 09:00:49</th>\n",
       "      <td>653</td>\n",
       "      <td>121925150.0</td>\n",
       "      <td>36.066666</td>\n",
       "      <td>-86.433842</td>\n",
       "      <td>105441522</td>\n",
       "      <td>1244851.0</td>\n",
       "      <td>1.0</td>\n",
       "      <td>57.0</td>\n",
       "      <td>0.0</td>\n",
       "      <td>16.0</td>\n",
       "    </tr>\n",
       "  </tbody>\n",
       "</table>\n",
       "<p>712 rows × 10 columns</p>\n",
       "</div>"
      ],
      "text/plain": [
       "                      spn       ESS_Id   Latitude  Longitude  MCTNumber  \\\n",
       "EventTimeStamp                                                            \n",
       "2015-04-26 06:16:16   190    2092800.0  36.066527 -86.435277  105431712   \n",
       "2015-04-28 05:29:21   190    2123154.0  36.066666 -86.435000  105431712   \n",
       "2015-05-10 07:11:34   639    2346346.0  36.067083 -86.433842  105431712   \n",
       "2015-05-11 13:11:20   639    2363162.0  36.189398 -82.795601  105431712   \n",
       "2015-05-13 08:22:32   596    2400445.0  35.872500 -84.475648  105431712   \n",
       "...                   ...          ...        ...        ...        ...   \n",
       "2020-02-16 08:58:40   829  121207314.0  36.066851 -86.434907  105441522   \n",
       "2020-02-18 11:02:29   639  121499858.0  35.587870 -86.443194  105441522   \n",
       "2020-02-18 11:13:23  1231  121502192.0  35.587870 -86.443194  105441522   \n",
       "2020-02-20 12:09:01  2863  121808502.0  36.172731 -86.890740  105441522   \n",
       "2020-02-21 09:00:49   653  121925150.0  36.066666 -86.433842  105441522   \n",
       "\n",
       "                      RecordID  active  activeTransitionCount  ecuSource   fmi  \n",
       "EventTimeStamp                                                                  \n",
       "2015-04-26 06:16:16    34467.0     1.0                  126.0       49.0   0.0  \n",
       "2015-04-28 05:29:21    36192.0     1.0                  126.0       49.0   0.0  \n",
       "2015-05-10 07:11:34    48298.0     1.0                  127.0       11.0   2.0  \n",
       "2015-05-11 13:11:20    49415.0     1.0                  127.0       11.0   2.0  \n",
       "2015-05-13 08:22:32    51363.0     1.0                    3.0       49.0  31.0  \n",
       "...                        ...     ...                    ...        ...   ...  \n",
       "2020-02-16 08:58:40  1242486.0     1.0                  126.0       49.0   3.0  \n",
       "2020-02-18 11:02:29  1243910.0     1.0                    1.0        0.0   9.0  \n",
       "2020-02-18 11:13:23  1243916.0     1.0                   14.0       49.0  16.0  \n",
       "2020-02-20 12:09:01  1244624.0     1.0                   86.0       49.0   7.0  \n",
       "2020-02-21 09:00:49  1244851.0     1.0                   57.0        0.0  16.0  \n",
       "\n",
       "[712 rows x 10 columns]"
      ]
     },
     "execution_count": 15,
     "metadata": {},
     "output_type": "execute_result"
    }
   ],
   "source": [
    "faults_ts_dict.get(301) #This info would be for one specific truck ID"
   ]
  },
  {
   "attachments": {},
   "cell_type": "markdown",
   "metadata": {},
   "source": [
    "Now we have a dictionary where the keys are the specific Equipment Id's and the info inside of them pertians to the types of service codes that came up with a timestamp value. That way we can se if there is info preceding a 5246 \"breakdown\" code that could predict it coming ahead of time. "
   ]
  },
  {
   "attachments": {},
   "cell_type": "markdown",
   "metadata": {},
   "source": [
    "Lets look at one of the trucks with the most data inculuded in "
   ]
  },
  {
   "cell_type": "code",
   "execution_count": null,
   "metadata": {},
   "outputs": [],
   "source": []
  }
 ],
 "metadata": {
  "kernelspec": {
   "display_name": "base",
   "language": "python",
   "name": "python3"
  },
  "language_info": {
   "codemirror_mode": {
    "name": "ipython",
    "version": 3
   },
   "file_extension": ".py",
   "mimetype": "text/x-python",
   "name": "python",
   "nbconvert_exporter": "python",
   "pygments_lexer": "ipython3",
   "version": "3.9.12"
  },
  "orig_nbformat": 4
 },
 "nbformat": 4,
 "nbformat_minor": 2
}
